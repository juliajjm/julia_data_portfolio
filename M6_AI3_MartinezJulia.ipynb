{
  "nbformat": 4,
  "nbformat_minor": 0,
  "metadata": {
    "colab": {
      "name": "M6_AI3_MartinezJulia.ipynb",
      "provenance": [],
      "collapsed_sections": []
    },
    "kernelspec": {
      "name": "python3",
      "display_name": "Python 3"
    },
    "language_info": {
      "name": "python"
    }
  },
  "cells": [
    {
      "cell_type": "markdown",
      "source": [
        "# **M6_AI3_RECONOCIMIENTO DE NÚMEROS ESCRITOS A MANO**\n",
        "---\n"
      ],
      "metadata": {
        "id": "aGgb0mgYDz3U"
      }
    },
    {
      "cell_type": "markdown",
      "source": [
        ""
      ],
      "metadata": {
        "id": "oyEpZXbrD4aM"
      }
    },
    {
      "cell_type": "code",
      "execution_count": 52,
      "metadata": {
        "id": "KZq2XuX1ArFT"
      },
      "outputs": [],
      "source": [
        "#Import libraries\n",
        "import pandas as pd\n",
        "import numpy as np \n",
        "import matplotlib.pyplot as plt\n",
        "import plotly.express as px \n",
        "import math \n",
        "import statistics as st\n",
        "from collections import Counter\n",
        "import scipy.stats as sp\n",
        "import seaborn as sns \n",
        "import statsmodels.api as sm\n",
        "import matplotlib.pyplot as plt\n",
        "import tensorflow as tf\n",
        "\n"
      ]
    },
    {
      "cell_type": "code",
      "source": [
        "# Import datasets, classifiers and performance metrics\n",
        "from sklearn import datasets, svm, metrics\n",
        "from sklearn.model_selection import train_test_split"
      ],
      "metadata": {
        "id": "I1qhjiXAHyaB"
      },
      "execution_count": 53,
      "outputs": []
    },
    {
      "cell_type": "markdown",
      "source": [
        "# 1.Lectura del dataset desde TensorFlow. \n",
        "---\n"
      ],
      "metadata": {
        "id": "2F23q-UxmVAd"
      }
    },
    {
      "cell_type": "code",
      "source": [
        "(x_train , y_train), (x_test, y_test) = tf.keras.datasets.mnist.load_data()\n"
      ],
      "metadata": {
        "id": "0hb4-wmnEA84"
      },
      "execution_count": 54,
      "outputs": []
    },
    {
      "cell_type": "markdown",
      "source": [
        "# 2.Aplicar las conversiones necesarias para pasar de 3d-array a 2d-array (con “reshape”). \n",
        "\n",
        "# 3.Crear la variable “n_train” para poder generar diferentes modelos. \n",
        "\n",
        "\n",
        "---\n"
      ],
      "metadata": {
        "id": "njbLtSTDmhYY"
      }
    },
    {
      "cell_type": "code",
      "source": [
        "\n",
        "x_train = x_train.reshape(60000,-1) \n",
        "x_test = x_test.reshape(10000,-1)\n",
        "\n",
        "# variables train\n",
        "n_train = 600\n",
        "n_train_new = 6000\n",
        "\n",
        "# variables test \n",
        "n_test2 = 100\n",
        "n_test3 = 10000\n",
        "\n",
        "# train con 600 \n",
        "x_train2 = x_train[0:n_train]\n",
        "y_train2 = y_train[0:n_train]\n",
        "\n",
        "# test con 100  \n",
        "x_test2 = x_test[0:n_test2]\n",
        "y_test2 = y_test[0:n_test2]\n",
        "\n",
        "\n",
        "# train con 6000\n",
        "x_train3 = x_train[0:n_train_new]\n",
        "y_train3 = y_train[0:n_train_new]\n",
        "\n",
        "# test con 10000\n",
        "x_test3 = x_test[0:n_test3]\n",
        "y_test3 = y_test[0:n_test3]\n",
        "\n"
      ],
      "metadata": {
        "id": "rP3JorSEE0Ln"
      },
      "execution_count": 55,
      "outputs": []
    },
    {
      "cell_type": "markdown",
      "source": [
        "# 4.Generar un modelo con cada uno de los siguientes valores: n_train = 600. n_train = 6000. \n",
        "\n",
        "# Modelo de Random Forest\n",
        "\n",
        "\n",
        "---\n"
      ],
      "metadata": {
        "id": "EL2oimfhUHyt"
      }
    },
    {
      "cell_type": "markdown",
      "source": [
        "\n",
        "*   Modelo 1: train de 600 & test de 100.\n",
        "*   max depth de 50 y n_estimators 3000.\n",
        "\n"
      ],
      "metadata": {
        "id": "viYlw9s_81O8"
      }
    },
    {
      "cell_type": "code",
      "source": [
        "from sklearn.ensemble import RandomForestClassifier\n",
        "\n",
        "rf_model = RandomForestClassifier(max_depth= 50 , n_estimators= 3000 , random_state=0, n_jobs=5)\n",
        "rf_model.fit(x_train2 , y_train2)\n",
        "\n",
        "# los datos del test son los que luego se ejecutan, el modelo que se prueba\n",
        "#prediccion pobre porque hay pocos datos \n",
        "#obserrvo que a mayor cantidad de datos la precision es mejor \n",
        "\n",
        "\n"
      ],
      "metadata": {
        "colab": {
          "base_uri": "https://localhost:8080/"
        },
        "id": "KCcOKgR7RCZp",
        "outputId": "a33db25a-8804-49ba-fbb6-1247c0260fc1"
      },
      "execution_count": 56,
      "outputs": [
        {
          "output_type": "execute_result",
          "data": {
            "text/plain": [
              "RandomForestClassifier(max_depth=50, n_estimators=3000, n_jobs=5,\n",
              "                       random_state=0)"
            ]
          },
          "metadata": {},
          "execution_count": 56
        }
      ]
    },
    {
      "cell_type": "code",
      "source": [
        "pred_train = rf_model.predict(x_train2)\n",
        "pred_test = rf_model.predict(x_test2)\n",
        "print(\"Precisión sobre los datos de entrenamiento: {:.2f}\".format(100.0*rf_model.score(x_train2, y_train2)))\n",
        "print(\"Precisión sobre los datos de test: {:.2f}\".format(100.0*rf_model.score(x_test2, y_test2)))"
      ],
      "metadata": {
        "colab": {
          "base_uri": "https://localhost:8080/"
        },
        "id": "JBNrcD_UVNoj",
        "outputId": "8278f58b-a862-4839-f849-1135e6a56e2f"
      },
      "execution_count": 57,
      "outputs": [
        {
          "output_type": "stream",
          "name": "stdout",
          "text": [
            "Precisión sobre los datos de entrenamiento: 100.00\n",
            "Precisión sobre los datos de test: 87.00\n"
          ]
        }
      ]
    },
    {
      "cell_type": "code",
      "source": [
        "_, axes = plt.subplots(nrows=1, ncols=9, figsize=(18, 18))\n",
        "for ax, image, prediction, real in zip(axes, x_test2, pred_test, y_test2):\n",
        "    ax.set_axis_off()\n",
        "    image = image.reshape(28, 28)\n",
        "    ax.imshow(image, cmap=plt.cm.gray_r, interpolation='nearest')\n",
        "    ax.set_title(f'Pred: {prediction}, Real:{real}')\n",
        "\n",
        "    # pred 7, real 5. pred 7 la prediccion del dato de entrenamiento (600 train y test 100)\n",
        "    # el modelo predice algunos numeros "
      ],
      "metadata": {
        "colab": {
          "base_uri": "https://localhost:8080/",
          "height": 142
        },
        "id": "PGA4A5XVWA6t",
        "outputId": "458b3b63-00e9-4c48-c3c1-c3826589a8e8"
      },
      "execution_count": 58,
      "outputs": [
        {
          "output_type": "display_data",
          "data": {
            "text/plain": [
              "<Figure size 1296x1296 with 9 Axes>"
            ],
            "image/png": "[encoded data removed]"
          },
          "metadata": {
            "needs_background": "light"
          }
        }
      ]
    },
    {
      "cell_type": "markdown",
      "source": [
        "\n",
        "*   Modelo 2: train de 6000 & test de 10000\n",
        "*   max depth de 50 y n_estimators 3000\n",
        "\n"
      ],
      "metadata": {
        "id": "tymPOg8h9zZF"
      }
    },
    {
      "cell_type": "code",
      "source": [
        "from sklearn.ensemble import RandomForestClassifier\n",
        "\n",
        "rf_model = RandomForestClassifier(max_depth= 50 , n_estimators= 3000 , random_state=0, n_jobs=5)\n",
        "rf_model.fit(x_train3 , y_train3)"
      ],
      "metadata": {
        "colab": {
          "base_uri": "https://localhost:8080/"
        },
        "id": "ZKFYQehbtYOv",
        "outputId": "4699067e-ca77-42d7-d5b3-07c958764545"
      },
      "execution_count": 59,
      "outputs": [
        {
          "output_type": "execute_result",
          "data": {
            "text/plain": [
              "RandomForestClassifier(max_depth=50, n_estimators=3000, n_jobs=5,\n",
              "                       random_state=0)"
            ]
          },
          "metadata": {},
          "execution_count": 59
        }
      ]
    },
    {
      "cell_type": "code",
      "source": [
        "pred_train = rf_model.predict(x_train3)\n",
        "pred_test = rf_model.predict(x_test3)\n",
        "print(\"Precisión sobre los datos de entrenamiento: {:.2f}\".format(100.0*rf_model.score(x_train3, y_train3)))\n",
        "print(\"Precisión sobre los datos de test: {:.2f}\".format(100.0*rf_model.score(x_test3, y_test3)))"
      ],
      "metadata": {
        "colab": {
          "base_uri": "https://localhost:8080/"
        },
        "id": "q1fTU_GlvQzd",
        "outputId": "f87455f2-aa39-484b-d3a3-e7cb2737fb3c"
      },
      "execution_count": 60,
      "outputs": [
        {
          "output_type": "stream",
          "name": "stdout",
          "text": [
            "Precisión sobre los datos de entrenamiento: 100.00\n",
            "Precisión sobre los datos de test: 94.64\n"
          ]
        }
      ]
    },
    {
      "cell_type": "code",
      "source": [
        "_, axes = plt.subplots(nrows=1, ncols=9, figsize=(18, 18))\n",
        "for ax, image, prediction, real in zip(axes, x_test3, pred_test, y_test3):\n",
        "    ax.set_axis_off()\n",
        "    image = image.reshape(28, 28)\n",
        "    ax.imshow(image, cmap=plt.cm.gray_r, interpolation='nearest')\n",
        "    ax.set_title(f'Pred: {prediction}, Real:{real}')\n",
        "\n",
        "    #este modelo predice mejor "
      ],
      "metadata": {
        "colab": {
          "base_uri": "https://localhost:8080/",
          "height": 142
        },
        "id": "mAL9FFWIvnPR",
        "outputId": "10ac081f-9852-4058-e72f-58accddd70d4"
      },
      "execution_count": 61,
      "outputs": [
        {
          "output_type": "display_data",
          "data": {
            "text/plain": [
              "<Figure size 1296x1296 with 9 Axes>"
            ],
            "image/png": "[encoded data removed]"
          },
          "metadata": {
            "needs_background": "light"
          }
        }
      ]
    },
    {
      "cell_type": "markdown",
      "source": [
        "# 5. Realizar diferentes modelos cambiando los valores de n_estimators y max_depth. \n",
        "---"
      ],
      "metadata": {
        "id": "pgjOqeJ1YQ5f"
      }
    },
    {
      "cell_type": "markdown",
      "source": [
        "\n",
        "\n",
        "*   Modelo 3: train de 600 y test de 10000\n",
        "*   max depth de 80 y n_estimators 500\n",
        "\n"
      ],
      "metadata": {
        "id": "7HqCMpo6-DA9"
      }
    },
    {
      "cell_type": "code",
      "source": [
        "\n",
        "rf_model = RandomForestClassifier(max_depth= 80, n_estimators= 500 , random_state=0, n_jobs=5)\n",
        "rf_model.fit(x_train2 , y_train2)"
      ],
      "metadata": {
        "colab": {
          "base_uri": "https://localhost:8080/"
        },
        "id": "_wXldoLZXmBm",
        "outputId": "4b76bdb0-ed2f-4a32-921a-e6a0b43d61f4"
      },
      "execution_count": 62,
      "outputs": [
        {
          "output_type": "execute_result",
          "data": {
            "text/plain": [
              "RandomForestClassifier(max_depth=80, n_estimators=500, n_jobs=5, random_state=0)"
            ]
          },
          "metadata": {},
          "execution_count": 62
        }
      ]
    },
    {
      "cell_type": "code",
      "source": [
        "pred_train = rf_model.predict(x_train2)\n",
        "pred_test = rf_model.predict(x_test3)\n",
        "print(\"Precisión sobre los datos de entrenamiento: {:.2f}\".format(100.0*rf_model.score(x_train2, y_train2)))\n",
        "print(\"Precisión sobre los datos de test: {:.2f}\".format(100.0*rf_model.score(x_test3, y_test3)))"
      ],
      "metadata": {
        "colab": {
          "base_uri": "https://localhost:8080/"
        },
        "id": "vSQEi-PUXJ7b",
        "outputId": "c442bb73-7d33-4ef0-d01d-266fe14b3d46"
      },
      "execution_count": 63,
      "outputs": [
        {
          "output_type": "stream",
          "name": "stdout",
          "text": [
            "Precisión sobre los datos de entrenamiento: 100.00\n",
            "Precisión sobre los datos de test: 86.14\n"
          ]
        }
      ]
    },
    {
      "cell_type": "code",
      "source": [
        "_, axes = plt.subplots(nrows=1, ncols=9, figsize=(18, 18))\n",
        "for ax, image, prediction, real in zip(axes, x_test3, pred_test, y_test3):\n",
        "    ax.set_axis_off()\n",
        "    image = image.reshape(28, 28)\n",
        "    ax.imshow(image, cmap=plt.cm.gray_r, interpolation='nearest')\n",
        "    ax.set_title(f'Pred: {prediction}, Real:{real}')"
      ],
      "metadata": {
        "colab": {
          "base_uri": "https://localhost:8080/",
          "height": 142
        },
        "id": "kG0Z-6G0XgCA",
        "outputId": "7b24fb8d-6c78-4640-e7fa-23aa4e155416"
      },
      "execution_count": 64,
      "outputs": [
        {
          "output_type": "display_data",
          "data": {
            "text/plain": [
              "<Figure size 1296x1296 with 9 Axes>"
            ],
            "image/png": "[encoded data removed]"
          },
          "metadata": {
            "needs_background": "light"
          }
        }
      ]
    },
    {
      "cell_type": "markdown",
      "source": [
        "\n",
        "\n",
        "*   Modelo 4: train de 600 y test de 10000\n",
        "*   max depth de 8 y n_estimators 50\n"
      ],
      "metadata": {
        "id": "57dgPoez-M3D"
      }
    },
    {
      "cell_type": "code",
      "source": [
        "\n",
        "rf_model = RandomForestClassifier(max_depth= 8 , n_estimators= 50, random_state=0, n_jobs=5)\n",
        "rf_model.fit(x_train2 , y_train2)"
      ],
      "metadata": {
        "colab": {
          "base_uri": "https://localhost:8080/"
        },
        "id": "kRgbTIlGw0XC",
        "outputId": "82cd7acd-ba18-4f57-a815-f295e18c0fa0"
      },
      "execution_count": 66,
      "outputs": [
        {
          "output_type": "execute_result",
          "data": {
            "text/plain": [
              "RandomForestClassifier(max_depth=8, n_estimators=50, n_jobs=5, random_state=0)"
            ]
          },
          "metadata": {},
          "execution_count": 66
        }
      ]
    },
    {
      "cell_type": "code",
      "source": [
        "pred_train = rf_model.predict(x_train2)\n",
        "pred_test = rf_model.predict(x_test3)\n",
        "print(\"Precisión sobre los datos de entrenamiento: {:.2f}\".format(100.0*rf_model.score(x_train2, y_train2)))\n",
        "print(\"Precisión sobre los datos de test: {:.2f}\".format(100.0*rf_model.score(x_test3, y_test3)))"
      ],
      "metadata": {
        "colab": {
          "base_uri": "https://localhost:8080/"
        },
        "id": "vMoqSdJQxTu9",
        "outputId": "7ade46c9-b28a-4d6b-fd34-3e132d4f6e94"
      },
      "execution_count": 67,
      "outputs": [
        {
          "output_type": "stream",
          "name": "stdout",
          "text": [
            "Precisión sobre los datos de entrenamiento: 100.00\n",
            "Precisión sobre los datos de test: 82.60\n"
          ]
        }
      ]
    },
    {
      "cell_type": "code",
      "source": [
        "_, axes = plt.subplots(nrows=1, ncols=9, figsize=(18, 18))\n",
        "for ax, image, prediction, real in zip(axes, x_test3, pred_test, y_test3):\n",
        "    ax.set_axis_off()\n",
        "    image = image.reshape(28, 28)\n",
        "    ax.imshow(image, cmap=plt.cm.gray_r, interpolation='nearest')\n",
        "    ax.set_title(f'Pred: {prediction}, Real:{real}')"
      ],
      "metadata": {
        "colab": {
          "base_uri": "https://localhost:8080/",
          "height": 142
        },
        "id": "KZXekxM2xYri",
        "outputId": "7be32f3d-36ac-4223-bb07-84e519b6959b"
      },
      "execution_count": 68,
      "outputs": [
        {
          "output_type": "display_data",
          "data": {
            "text/plain": [
              "<Figure size 1296x1296 with 9 Axes>"
            ],
            "image/png": "[encoded data removed]"
          },
          "metadata": {
            "needs_background": "light"
          }
        }
      ]
    },
    {
      "cell_type": "markdown",
      "source": [
        "# 6. Comentar los resultados de los diferentes modelos. \n",
        "---"
      ],
      "metadata": {
        "id": "9vK4LnoEICM0"
      }
    },
    {
      "cell_type": "markdown",
      "source": [
        "\n",
        "Modelo 1 : train de 600 & test de 100, max depth de 50 y n_estimators 3000.\n",
        "Obtengo una precisión sobre los datos de entrenamiento de 100.00 y una\n",
        "precisión sobre los datos de test de 87.00\n",
        "Si observo la grafica de los numeros escritos a mano, el modelo es bastante preciso ya que acierta todas las Pred y Real para todos los numeros excepto el ultimo numero donde predice 2 y en realidad el numero es 5.\n",
        "\n",
        "Modelo 2 : train de 6000 & test de 10000 , max depth de 50 y n_estimators 3000. En este modelo incremento la muestra para train y test.\n",
        "Obtengo una precisión sobre los datos de entrenamiento de 100.00 y una \n",
        "precisión sobre los datos de test de 94.64. Al incrementar la muestra, la precision del test es mejor que la del modelo 1. La mejora del modelo tambien se ve en la grafica, donde el Pred y Real acierta para todos los numeros y no hay ningun fallo.\n",
        "\n",
        "Modelo 3: train de 600 y test de 10000 , max depth de 80 y n_estimators 500.\n",
        "En este modelo reduzco la muestra del train, dejo el test en 10000 aumento el max_depth y reduzco el n_estimators a 500. \n",
        "Obtengo una precisión sobre los datos de entrenamiento de 100.00 y una \n",
        "precisión sobre los datos de test de 86.14. La precision del test es mas baja que la del modelo 1 y el modelo 2.\n",
        "El modelo falla en el ultimo valor de Pred Real de la grafica, donde predice 4 y el valor real es 5, el resto de numeros estan bien.\n",
        "\n",
        "\n",
        "Modelo 4: train de 600 y test de 10000 , max depth de 8 y n_estimators 50.\n",
        "En este modelo bajo aun mas el n_estimators y mantengo los valores de train y test del modelo 3.\n",
        "La precisión sobre los datos de entrenamiento es de 100.00 y la precisión sobre los datos de test es de 82.60, la mas baja de todos los modelos. Esta claro que cuanto menos n_estimators haya peor se comportara el modelo y menos preciso sera este.\n",
        "Observo que el modelo falla en la prediccion del ultimo numero, el modelo predice un 2 cuando el numero real es un 5, el resto de valores Pred y Real los acierta.\n",
        "\n",
        "A modo de conclusion general, el max_depth es la profundidad del AD, cuanto mas alto es este numero mas se ajustan los AD al entrenamiento.\n",
        "El n_estimators nos indica el numero de arboles de decision, cuanto mayor es el numero, mejor se comportara el modelo.\n",
        "Podemos confirmar que los resultados obtenidos en nuestros modelos tienen un patron congruente con la logica y el funcionamiento de max_depth y n_estimators, es decir, a mayor numero de max_depth y n_estimators mas preciso/accuarate sera el modelo.\n"
      ],
      "metadata": {
        "id": "sjhvtpVwaLJa"
      }
    },
    {
      "cell_type": "markdown",
      "source": [
        "# **Evaluación del modelo**\n",
        "\n",
        "---"
      ],
      "metadata": {
        "id": "LfKN_xirWOtL"
      }
    },
    {
      "cell_type": "code",
      "source": [
        "from sklearn import metrics"
      ],
      "metadata": {
        "id": "TsLZN_M_WKs7"
      },
      "execution_count": 69,
      "outputs": []
    },
    {
      "cell_type": "code",
      "source": [
        "#y_test3 > corresponde a test de 10000\n",
        "\n",
        "print(f\"Classification report for classifier {rf_model}:\\n\"\n",
        "      f\"{metrics.classification_report(y_test3, pred_test)}\\n\")"
      ],
      "metadata": {
        "colab": {
          "base_uri": "https://localhost:8080/"
        },
        "id": "A6595sCgYVtZ",
        "outputId": "8122c213-29fc-476f-db70-c92fb26133fa"
      },
      "execution_count": 70,
      "outputs": [
        {
          "output_type": "stream",
          "name": "stdout",
          "text": [
            "Classification report for classifier RandomForestClassifier(max_depth=8, n_estimators=50, n_jobs=5, random_state=0):\n",
            "              precision    recall  f1-score   support\n",
            "\n",
            "           0       0.89      0.95      0.92       980\n",
            "           1       0.89      0.97      0.93      1135\n",
            "           2       0.80      0.83      0.82      1032\n",
            "           3       0.86      0.78      0.82      1010\n",
            "           4       0.82      0.79      0.80       982\n",
            "           5       0.77      0.69      0.73       892\n",
            "           6       0.86      0.81      0.84       958\n",
            "           7       0.87      0.87      0.87      1028\n",
            "           8       0.85      0.72      0.78       974\n",
            "           9       0.67      0.81      0.73      1009\n",
            "\n",
            "    accuracy                           0.83     10000\n",
            "   macro avg       0.83      0.82      0.82     10000\n",
            "weighted avg       0.83      0.83      0.83     10000\n",
            "\n",
            "\n"
          ]
        }
      ]
    },
    {
      "cell_type": "markdown",
      "source": [
        "Los valores (numeros escritos a mano) que mejor funcionan en precision y recall son el 0 y el 1. Donde peor funciona es en los valores 5 y 9. Esto nos confima que los resultados son congruentes con los resultados de los modelos obtenidos.\n"
      ],
      "metadata": {
        "id": "tz2fxTGeIhZC"
      }
    },
    {
      "cell_type": "code",
      "source": [
        "# test de 10000\n",
        "print(f\"Confusion matrix:\\n\")\n",
        "fig, ax = plt.subplots(figsize=(10, 10))\n",
        "metrics.plot_confusion_matrix(rf_model, x_test3, y_test3, cmap=plt.cm.viridis, ax=ax)\n",
        "plt.show()"
      ],
      "metadata": {
        "colab": {
          "base_uri": "https://localhost:8080/",
          "height": 671
        },
        "id": "NryizZbWYdaI",
        "outputId": "a97c9488-772c-4618-f14d-104dd4af522b"
      },
      "execution_count": 71,
      "outputs": [
        {
          "output_type": "stream",
          "name": "stdout",
          "text": [
            "Confusion matrix:\n",
            "\n"
          ]
        },
        {
          "output_type": "stream",
          "name": "stderr",
          "text": [
            "/usr/local/lib/python3.7/dist-packages/sklearn/utils/deprecation.py:87: FutureWarning: Function plot_confusion_matrix is deprecated; Function `plot_confusion_matrix` is deprecated in 1.0 and will be removed in 1.2. Use one of the class methods: ConfusionMatrixDisplay.from_predictions or ConfusionMatrixDisplay.from_estimator.\n",
            "  warnings.warn(msg, category=FutureWarning)\n"
          ]
        },
        {
          "output_type": "display_data",
          "data": {
            "text/plain": [
              "<Figure size 720x720 with 2 Axes>"
            ],
            "image/png": "[encoded data removed]"
          },
          "metadata": {
            "needs_background": "light"
          }
        }
      ]
    },
    {
      "cell_type": "markdown",
      "source": [
        "Lanzamos la matriz de confusion, los valores que mejor funcionan son los que estan en amarillo, en este caso el valor 1. Los valores 0, 2 y 7 tambien funcionan bastante bien (se acierta la prediccion para los numeros escrito a mano con mayor frecuencia).\n",
        "Confirmo que los valores que funcionan peor, es decir, en los que hay mas fallos en la prediccion son el 5 y el 9."
      ],
      "metadata": {
        "id": "DF88Bn7PJkzH"
      }
    },
    {
      "cell_type": "markdown",
      "source": [
        "Optimización del modelo\n",
        "---\n"
      ],
      "metadata": {
        "id": "CvXOAcB8Ys_o"
      }
    },
    {
      "cell_type": "code",
      "source": [
        "# train 6000 & test 10000\n",
        "\n",
        "md_list = []\n",
        "score_train_list = []\n",
        "score_test_list = []\n",
        "\n",
        "for maxdepth in list(range(1,30,4)):\n",
        "  rf_model = RandomForestClassifier(random_state=0, max_depth=maxdepth, n_jobs=5)\n",
        "  rf_model.fit(x_train3, y_train3)\n",
        "\n",
        "  ## Generación de listas\n",
        "  md_list.append(maxdepth)\n",
        "  score_train_list.append(100.0*rf_model.score(x_train3, y_train3))\n",
        "  score_test_list.append(100.0*rf_model.score(x_test3, y_test3))"
      ],
      "metadata": {
        "id": "vwVdpzNgYpiO"
      },
      "execution_count": 72,
      "outputs": []
    },
    {
      "cell_type": "code",
      "source": [
        "df = pd.DataFrame({\"max_depth\":md_list, \n",
        "                   \"score_train\":score_train_list,\n",
        "                   \"score_test\":score_test_list})\n",
        "\n",
        "df.set_index(\"max_depth\", inplace=True)\n",
        "df[\"score_train\"].plot(label=\"Train Score\")\n",
        "df[\"score_test\"].plot(label=\"Test Score\")\n",
        "plt.suptitle(\"Accuracy Train and Test\")\n",
        "plt.legend()\n",
        "plt.show();"
      ],
      "metadata": {
        "colab": {
          "base_uri": "https://localhost:8080/",
          "height": 309
        },
        "id": "KxQXQ_a1ZGvc",
        "outputId": "f79cc626-1bd7-46b5-e7c8-10fabccf8191"
      },
      "execution_count": 73,
      "outputs": [
        {
          "output_type": "display_data",
          "data": {
            "text/plain": [
              "<Figure size 432x288 with 1 Axes>"
            ],
            "image/png": "[encoded data removed]"
          },
          "metadata": {
            "needs_background": "light"
          }
        }
      ]
    },
    {
      "cell_type": "markdown",
      "source": [
        "Observo que el accuracy de train va aumentando esta llegar a 100, en cambio el accuracy de test supera los 90 pero no llega a 100, elegimos un modelo con una profundidad (max_depth) de 15. \n"
      ],
      "metadata": {
        "id": "GAxcRil7K33k"
      }
    },
    {
      "cell_type": "code",
      "source": [
        "rf_model_15 = RandomForestClassifier(max_depth=15, random_state=0, n_jobs=5)\n",
        "rf_model_15.fit(x_train3,y_train3)"
      ],
      "metadata": {
        "colab": {
          "base_uri": "https://localhost:8080/"
        },
        "id": "STKaCgnvZO7R",
        "outputId": "7dcbdcf6-611f-409d-fff2-a9bba1720814"
      },
      "execution_count": 75,
      "outputs": [
        {
          "output_type": "execute_result",
          "data": {
            "text/plain": [
              "RandomForestClassifier(max_depth=15, n_jobs=5, random_state=0)"
            ]
          },
          "metadata": {},
          "execution_count": 75
        }
      ]
    },
    {
      "cell_type": "code",
      "source": [
        "pred_train = rf_model_15.predict(x_train3)\n",
        "pred_test = rf_model_15.predict(x_test3)\n",
        "print(\"Precisión sobre los datos de entrenamiento: {:.2f}\".format(100.0*rf_model_15.score(x_train1, y_train1)))\n",
        "print(\"Precisión sobre los datos de test: {:.2f}\".format(100.0*rf_model_15.score(x_test2, y_test2)))"
      ],
      "metadata": {
        "colab": {
          "base_uri": "https://localhost:8080/"
        },
        "id": "ICLb0hTDZWWI",
        "outputId": "7c45b51f-d868-4006-a98e-acfab018ba1b"
      },
      "execution_count": 78,
      "outputs": [
        {
          "output_type": "stream",
          "name": "stdout",
          "text": [
            "Precisión sobre los datos de entrenamiento: 100.00\n",
            "Precisión sobre los datos de test: 95.00\n"
          ]
        }
      ]
    },
    {
      "cell_type": "markdown",
      "source": [
        "Se observa una mejora del accuracy."
      ],
      "metadata": {
        "id": "10wDYreyLeLX"
      }
    },
    {
      "cell_type": "code",
      "source": [
        "print(f\"Confusion matrix:\\n\")\n",
        "fig, ax = plt.subplots(figsize=(10, 10))\n",
        "metrics.plot_confusion_matrix(rf_model_15, x_test3, y_test3, cmap=plt.cm.viridis, ax=ax)\n",
        "plt.show()"
      ],
      "metadata": {
        "colab": {
          "base_uri": "https://localhost:8080/",
          "height": 671
        },
        "id": "Q2GikJikZsGa",
        "outputId": "8089c09a-7b66-4edd-e3cd-e49aefecda5e"
      },
      "execution_count": 80,
      "outputs": [
        {
          "output_type": "stream",
          "name": "stdout",
          "text": [
            "Confusion matrix:\n",
            "\n"
          ]
        },
        {
          "output_type": "stream",
          "name": "stderr",
          "text": [
            "/usr/local/lib/python3.7/dist-packages/sklearn/utils/deprecation.py:87: FutureWarning: Function plot_confusion_matrix is deprecated; Function `plot_confusion_matrix` is deprecated in 1.0 and will be removed in 1.2. Use one of the class methods: ConfusionMatrixDisplay.from_predictions or ConfusionMatrixDisplay.from_estimator.\n",
            "  warnings.warn(msg, category=FutureWarning)\n"
          ]
        },
        {
          "output_type": "display_data",
          "data": {
            "text/plain": [
              "<Figure size 720x720 with 2 Axes>"
            ],
            "image/png": "[encoded data removed]"
          },
          "metadata": {
            "needs_background": "light"
          }
        }
      ]
    },
    {
      "cell_type": "markdown",
      "source": [
        "Observo que la matriz de confusion esta bastante mejor hay mas valores con colores claros o cercanos al amarillo.\n",
        "Los valores que mejor funcionan son el 1, el 0, el 2, el 7, el 3 y el 4. En cambio el valor que peor funciona es el 5.\n",
        "\n",
        "\n",
        "\n",
        "\n"
      ],
      "metadata": {
        "id": "nOGRFl1dLndi"
      }
    },
    {
      "cell_type": "markdown",
      "source": [
        "Precision y Recall\n",
        "---\n"
      ],
      "metadata": {
        "id": "24L0WBQnZ000"
      }
    },
    {
      "cell_type": "code",
      "source": [
        "true_positives_4 = 850\n",
        "false_positives_4 = 237\n",
        "false_negatives_4 = 147\n",
        "\n",
        "Recall = 100.0*true_positives_4/(false_negatives_4+true_positives_4)\n",
        "Precision = 100.0*true_positives_4/(false_positives_4+true_positives_4)\n",
        "\n",
        "print (round(Precision,2), round(Recall,2))"
      ],
      "metadata": {
        "colab": {
          "base_uri": "https://localhost:8080/"
        },
        "id": "dY4OFfQ-Zx5u",
        "outputId": "8fc74e7f-f401-4035-b5e7-31915400436f"
      },
      "execution_count": 81,
      "outputs": [
        {
          "output_type": "stream",
          "name": "stdout",
          "text": [
            "78.2 85.26\n"
          ]
        }
      ]
    },
    {
      "cell_type": "code",
      "source": [
        "print(f\"Classification report for classifier {rf_model_15}:\\n\"\n",
        "      f\"{metrics.classification_report(y_test3, pred_test)}\\n\")"
      ],
      "metadata": {
        "colab": {
          "base_uri": "https://localhost:8080/"
        },
        "id": "PfVNqbiwZ_ay",
        "outputId": "4de3dfe3-6353-466e-ce42-6cc8831e5ca7"
      },
      "execution_count": 82,
      "outputs": [
        {
          "output_type": "stream",
          "name": "stdout",
          "text": [
            "Classification report for classifier RandomForestClassifier(max_depth=15, n_jobs=5, random_state=0):\n",
            "              precision    recall  f1-score   support\n",
            "\n",
            "           0       0.96      0.99      0.97       980\n",
            "           1       0.98      0.99      0.98      1135\n",
            "           2       0.93      0.93      0.93      1032\n",
            "           3       0.95      0.92      0.93      1010\n",
            "           4       0.94      0.94      0.94       982\n",
            "           5       0.94      0.92      0.93       892\n",
            "           6       0.95      0.96      0.95       958\n",
            "           7       0.94      0.92      0.93      1028\n",
            "           8       0.94      0.91      0.92       974\n",
            "           9       0.90      0.93      0.92      1009\n",
            "\n",
            "    accuracy                           0.94     10000\n",
            "   macro avg       0.94      0.94      0.94     10000\n",
            "weighted avg       0.94      0.94      0.94     10000\n",
            "\n",
            "\n"
          ]
        }
      ]
    },
    {
      "cell_type": "markdown",
      "source": [
        ""
      ],
      "metadata": {
        "id": "gqfRQqJmMSR4"
      }
    }
  ]
}