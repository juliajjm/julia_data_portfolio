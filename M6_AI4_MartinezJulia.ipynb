{
  "nbformat": 4,
  "nbformat_minor": 0,
  "metadata": {
    "colab": {
      "name": "M6_AI4_MartinezJulia.ipynb",
      "provenance": [],
      "collapsed_sections": [],
      "toc_visible": true
    },
    "kernelspec": {
      "name": "python3",
      "display_name": "Python 3"
    },
    "language_info": {
      "name": "python"
    }
  },
  "cells": [
    {
      "cell_type": "code",
      "execution_count": 1,
      "metadata": {
        "id": "dMqn1orKTwDo",
        "colab": {
          "base_uri": "https://localhost:8080/"
        },
        "outputId": "8b4c69f0-6c23-4d2a-acbd-f49365af6d92"
      },
      "outputs": [
        {
          "output_type": "stream",
          "name": "stderr",
          "text": [
            "/usr/local/lib/python3.7/dist-packages/statsmodels/tools/_testing.py:19: FutureWarning: pandas.util.testing is deprecated. Use the functions in the public API at pandas.testing instead.\n",
            "  import pandas.util.testing as tm\n"
          ]
        }
      ],
      "source": [
        "#Import libraries\n",
        "import pandas as pd\n",
        "import numpy as np \n",
        "import matplotlib.pyplot as plt\n",
        "import plotly.express as px \n",
        "import math \n",
        "import statistics as st\n",
        "from collections import Counter\n",
        "import scipy.stats as sp\n",
        "import seaborn as sns \n",
        "import statsmodels.api as sm\n",
        "import matplotlib.pyplot as plt\n",
        "import sklearn\n",
        "%matplotlib inline"
      ]
    },
    {
      "cell_type": "markdown",
      "source": [
        "# 1.Preprocesado de los datos\n",
        "---"
      ],
      "metadata": {
        "id": "Z0pxUB5RVx3a"
      }
    },
    {
      "cell_type": "code",
      "source": [
        "#Cargo el dataset\n",
        "url = 'https://raw.githubusercontent.com/juliajjm/modulo2_practica4/main/act4_kc_house_data.csv'\n",
        "df_precios = pd.read_csv(url, sep = ',', decimal ='.')"
      ],
      "metadata": {
        "id": "WWxuhgBGUWJX"
      },
      "execution_count": 2,
      "outputs": []
    },
    {
      "cell_type": "markdown",
      "source": [
        "Convertir las áreas a metros cuadrados"
      ],
      "metadata": {
        "id": "wn89UOsJU7aM"
      }
    },
    {
      "cell_type": "code",
      "source": [
        "#df_precios.head()\n",
        "#constante para dividir en metros cuadrados \n",
        "sqft_m2 = 10.764 \n",
        "\n",
        "df_precios[[\"sqft_living\" , \"sqft_lot\" , \"sqft_above\" , \"sqft_basement\" , \"sqft_living15\" , \"sqft_lot15\" ]] /= sqft_m2\n",
        "df_precios.head()\n"
      ],
      "metadata": {
        "id": "tzr68gYgVXsO",
        "colab": {
          "base_uri": "https://localhost:8080/",
          "height": 300
        },
        "outputId": "e74633c3-c7cc-4d52-fa64-28091d263bcf"
      },
      "execution_count": 3,
      "outputs": [
        {
          "output_type": "execute_result",
          "data": {
            "text/plain": [
              "           id             date     price  bedrooms  bathrooms  sqft_living  \\\n",
              "0  7129300520  20141013T000000  221900.0         3       1.00   109.624675   \n",
              "1  6414100192  20141209T000000  538000.0         3       2.25   238.758826   \n",
              "2  5631500400  20150225T000000  180000.0         2       1.00    71.534745   \n",
              "3  2487200875  20141209T000000  604000.0         4       3.00   182.088443   \n",
              "4  1954400510  20150218T000000  510000.0         3       2.00   156.075808   \n",
              "\n",
              "     sqft_lot  floors  waterfront  view  ...  grade  sqft_above  \\\n",
              "0  524.897808     1.0           0     0  ...      7  109.624675   \n",
              "1  672.798216     2.0           0     0  ...      7  201.597919   \n",
              "2  929.022668     1.0           0     0  ...      6   71.534745   \n",
              "3  464.511334     1.0           0     0  ...      7   97.547380   \n",
              "4  750.650316     1.0           0     0  ...      8  156.075808   \n",
              "\n",
              "   sqft_basement  yr_built  yr_renovated  zipcode      lat     long  \\\n",
              "0       0.000000      1955             0    98178  47.5112 -122.257   \n",
              "1      37.160907      1951          1991    98125  47.7210 -122.319   \n",
              "2       0.000000      1933             0    98028  47.7379 -122.233   \n",
              "3      84.541063      1965             0    98136  47.5208 -122.393   \n",
              "4       0.000000      1987             0    98074  47.6168 -122.045   \n",
              "\n",
              "   sqft_living15  sqft_lot15  \n",
              "0     124.489038  524.897808  \n",
              "1     157.004831  709.680416  \n",
              "2     252.694166  748.978075  \n",
              "3     126.347083  464.511334  \n",
              "4     167.224080  697.045708  \n",
              "\n",
              "[5 rows x 21 columns]"
            ],
            "text/html": [
              "\n",
              "  <div id=\"df-a226d3af-3975-4d81-9b33-46c419f1c36c\">\n",
              "    <div class=\"colab-df-container\">\n",
              "      <div>\n",
              "<style scoped>\n",
              "    .dataframe tbody tr th:only-of-type {\n",
              "        vertical-align: middle;\n",
              "    }\n",
              "\n",
              "    .dataframe tbody tr th {\n",
              "        vertical-align: top;\n",
              "    }\n",
              "\n",
              "    .dataframe thead th {\n",
              "        text-align: right;\n",
              "    }\n",
              "</style>\n",
              "<table border=\"1\" class=\"dataframe\">\n",
              "  <thead>\n",
              "    <tr style=\"text-align: right;\">\n",
              "      <th></th>\n",
              "      <th>id</th>\n",
              "      <th>date</th>\n",
              "      <th>price</th>\n",
              "      <th>bedrooms</th>\n",
              "      <th>bathrooms</th>\n",
              "      <th>sqft_living</th>\n",
              "      <th>sqft_lot</th>\n",
              "      <th>floors</th>\n",
              "      <th>waterfront</th>\n",
              "      <th>view</th>\n",
              "      <th>...</th>\n",
              "      <th>grade</th>\n",
              "      <th>sqft_above</th>\n",
              "      <th>sqft_basement</th>\n",
              "      <th>yr_built</th>\n",
              "      <th>yr_renovated</th>\n",
              "      <th>zipcode</th>\n",
              "      <th>lat</th>\n",
              "      <th>long</th>\n",
              "      <th>sqft_living15</th>\n",
              "      <th>sqft_lot15</th>\n",
              "    </tr>\n",
              "  </thead>\n",
              "  <tbody>\n",
              "    <tr>\n",
              "      <th>0</th>\n",
              "      <td>7129300520</td>\n",
              "      <td>20141013T000000</td>\n",
              "      <td>221900.0</td>\n",
              "      <td>3</td>\n",
              "      <td>1.00</td>\n",
              "      <td>109.624675</td>\n",
              "      <td>524.897808</td>\n",
              "      <td>1.0</td>\n",
              "      <td>0</td>\n",
              "      <td>0</td>\n",
              "      <td>...</td>\n",
              "      <td>7</td>\n",
              "      <td>109.624675</td>\n",
              "      <td>0.000000</td>\n",
              "      <td>1955</td>\n",
              "      <td>0</td>\n",
              "      <td>98178</td>\n",
              "      <td>47.5112</td>\n",
              "      <td>-122.257</td>\n",
              "      <td>124.489038</td>\n",
              "      <td>524.897808</td>\n",
              "    </tr>\n",
              "    <tr>\n",
              "      <th>1</th>\n",
              "      <td>6414100192</td>\n",
              "      <td>20141209T000000</td>\n",
              "      <td>538000.0</td>\n",
              "      <td>3</td>\n",
              "      <td>2.25</td>\n",
              "      <td>238.758826</td>\n",
              "      <td>672.798216</td>\n",
              "      <td>2.0</td>\n",
              "      <td>0</td>\n",
              "      <td>0</td>\n",
              "      <td>...</td>\n",
              "      <td>7</td>\n",
              "      <td>201.597919</td>\n",
              "      <td>37.160907</td>\n",
              "      <td>1951</td>\n",
              "      <td>1991</td>\n",
              "      <td>98125</td>\n",
              "      <td>47.7210</td>\n",
              "      <td>-122.319</td>\n",
              "      <td>157.004831</td>\n",
              "      <td>709.680416</td>\n",
              "    </tr>\n",
              "    <tr>\n",
              "      <th>2</th>\n",
              "      <td>5631500400</td>\n",
              "      <td>20150225T000000</td>\n",
              "      <td>180000.0</td>\n",
              "      <td>2</td>\n",
              "      <td>1.00</td>\n",
              "      <td>71.534745</td>\n",
              "      <td>929.022668</td>\n",
              "      <td>1.0</td>\n",
              "      <td>0</td>\n",
              "      <td>0</td>\n",
              "      <td>...</td>\n",
              "      <td>6</td>\n",
              "      <td>71.534745</td>\n",
              "      <td>0.000000</td>\n",
              "      <td>1933</td>\n",
              "      <td>0</td>\n",
              "      <td>98028</td>\n",
              "      <td>47.7379</td>\n",
              "      <td>-122.233</td>\n",
              "      <td>252.694166</td>\n",
              "      <td>748.978075</td>\n",
              "    </tr>\n",
              "    <tr>\n",
              "      <th>3</th>\n",
              "      <td>2487200875</td>\n",
              "      <td>20141209T000000</td>\n",
              "      <td>604000.0</td>\n",
              "      <td>4</td>\n",
              "      <td>3.00</td>\n",
              "      <td>182.088443</td>\n",
              "      <td>464.511334</td>\n",
              "      <td>1.0</td>\n",
              "      <td>0</td>\n",
              "      <td>0</td>\n",
              "      <td>...</td>\n",
              "      <td>7</td>\n",
              "      <td>97.547380</td>\n",
              "      <td>84.541063</td>\n",
              "      <td>1965</td>\n",
              "      <td>0</td>\n",
              "      <td>98136</td>\n",
              "      <td>47.5208</td>\n",
              "      <td>-122.393</td>\n",
              "      <td>126.347083</td>\n",
              "      <td>464.511334</td>\n",
              "    </tr>\n",
              "    <tr>\n",
              "      <th>4</th>\n",
              "      <td>1954400510</td>\n",
              "      <td>20150218T000000</td>\n",
              "      <td>510000.0</td>\n",
              "      <td>3</td>\n",
              "      <td>2.00</td>\n",
              "      <td>156.075808</td>\n",
              "      <td>750.650316</td>\n",
              "      <td>1.0</td>\n",
              "      <td>0</td>\n",
              "      <td>0</td>\n",
              "      <td>...</td>\n",
              "      <td>8</td>\n",
              "      <td>156.075808</td>\n",
              "      <td>0.000000</td>\n",
              "      <td>1987</td>\n",
              "      <td>0</td>\n",
              "      <td>98074</td>\n",
              "      <td>47.6168</td>\n",
              "      <td>-122.045</td>\n",
              "      <td>167.224080</td>\n",
              "      <td>697.045708</td>\n",
              "    </tr>\n",
              "  </tbody>\n",
              "</table>\n",
              "<p>5 rows × 21 columns</p>\n",
              "</div>\n",
              "      <button class=\"colab-df-convert\" onclick=\"convertToInteractive('df-a226d3af-3975-4d81-9b33-46c419f1c36c')\"\n",
              "              title=\"Convert this dataframe to an interactive table.\"\n",
              "              style=\"display:none;\">\n",
              "        \n",
              "  <svg xmlns=\"http://www.w3.org/2000/svg\" height=\"24px\"viewBox=\"0 0 24 24\"\n",
              "       width=\"24px\">\n",
              "    <path d=\"M0 0h24v24H0V0z\" fill=\"none\"/>\n",
              "    <path d=\"M18.56 5.44l.94 2.06.94-2.06 2.06-.94-2.06-.94-.94-2.06-.94 2.06-2.06.94zm-11 1L8.5 8.5l.94-2.06 2.06-.94-2.06-.94L8.5 2.5l-.94 2.06-2.06.94zm10 10l.94 2.06.94-2.06 2.06-.94-2.06-.94-.94-2.06-.94 2.06-2.06.94z\"/><path d=\"M17.41 7.96l-1.37-1.37c-.4-.4-.92-.59-1.43-.59-.52 0-1.04.2-1.43.59L10.3 9.45l-7.72 7.72c-.78.78-.78 2.05 0 2.83L4 21.41c.39.39.9.59 1.41.59.51 0 1.02-.2 1.41-.59l7.78-7.78 2.81-2.81c.8-.78.8-2.07 0-2.86zM5.41 20L4 18.59l7.72-7.72 1.47 1.35L5.41 20z\"/>\n",
              "  </svg>\n",
              "      </button>\n",
              "      \n",
              "  <style>\n",
              "    .colab-df-container {\n",
              "      display:flex;\n",
              "      flex-wrap:wrap;\n",
              "      gap: 12px;\n",
              "    }\n",
              "\n",
              "    .colab-df-convert {\n",
              "      background-color: #E8F0FE;\n",
              "      border: none;\n",
              "      border-radius: 50%;\n",
              "      cursor: pointer;\n",
              "      display: none;\n",
              "      fill: #1967D2;\n",
              "      height: 32px;\n",
              "      padding: 0 0 0 0;\n",
              "      width: 32px;\n",
              "    }\n",
              "\n",
              "    .colab-df-convert:hover {\n",
              "      background-color: #E2EBFA;\n",
              "      box-shadow: 0px 1px 2px rgba(60, 64, 67, 0.3), 0px 1px 3px 1px rgba(60, 64, 67, 0.15);\n",
              "      fill: #174EA6;\n",
              "    }\n",
              "\n",
              "    [theme=dark] .colab-df-convert {\n",
              "      background-color: #3B4455;\n",
              "      fill: #D2E3FC;\n",
              "    }\n",
              "\n",
              "    [theme=dark] .colab-df-convert:hover {\n",
              "      background-color: #434B5C;\n",
              "      box-shadow: 0px 1px 3px 1px rgba(0, 0, 0, 0.15);\n",
              "      filter: drop-shadow(0px 1px 2px rgba(0, 0, 0, 0.3));\n",
              "      fill: #FFFFFF;\n",
              "    }\n",
              "  </style>\n",
              "\n",
              "      <script>\n",
              "        const buttonEl =\n",
              "          document.querySelector('#df-a226d3af-3975-4d81-9b33-46c419f1c36c button.colab-df-convert');\n",
              "        buttonEl.style.display =\n",
              "          google.colab.kernel.accessAllowed ? 'block' : 'none';\n",
              "\n",
              "        async function convertToInteractive(key) {\n",
              "          const element = document.querySelector('#df-a226d3af-3975-4d81-9b33-46c419f1c36c');\n",
              "          const dataTable =\n",
              "            await google.colab.kernel.invokeFunction('convertToInteractive',\n",
              "                                                     [key], {});\n",
              "          if (!dataTable) return;\n",
              "\n",
              "          const docLinkHtml = 'Like what you see? Visit the ' +\n",
              "            '<a target=\"_blank\" href=https://colab.research.google.com/notebooks/data_table.ipynb>data table notebook</a>'\n",
              "            + ' to learn more about interactive tables.';\n",
              "          element.innerHTML = '';\n",
              "          dataTable['output_type'] = 'display_data';\n",
              "          await google.colab.output.renderOutput(dataTable, element);\n",
              "          const docLink = document.createElement('div');\n",
              "          docLink.innerHTML = docLinkHtml;\n",
              "          element.appendChild(docLink);\n",
              "        }\n",
              "      </script>\n",
              "    </div>\n",
              "  </div>\n",
              "  "
            ]
          },
          "metadata": {},
          "execution_count": 3
        }
      ]
    },
    {
      "cell_type": "markdown",
      "source": [
        "Convertir la fecha de venta en string “YYYYMMDD”"
      ],
      "metadata": {
        "id": "cA_Z9OP9VEJX"
      }
    },
    {
      "cell_type": "code",
      "source": [
        "df_precios[\"date\"] = pd.to_datetime(df_precios[\"date\"])\n",
        "df_precios[\"date\"] = df_precios[\"date\"].dt.strftime(\"%Y%m%d\")\n",
        "#df_precios.head()\n",
        "df_precios.info()\n"
      ],
      "metadata": {
        "id": "gQWQBONaXrHK"
      },
      "execution_count": null,
      "outputs": []
    },
    {
      "cell_type": "markdown",
      "source": [
        "# 2.Estimación de precios\n",
        "---\n"
      ],
      "metadata": {
        "id": "m4-0eREshCyl"
      }
    },
    {
      "cell_type": "markdown",
      "source": [
        "2.1 Árboles de decisión\n",
        "---\n"
      ],
      "metadata": {
        "id": "_pFzD7a_hRmx"
      }
    },
    {
      "cell_type": "code",
      "source": [
        "#Utilizar el algoritmo de Árboles de Decisión. \n",
        "#Regresión: cuando la variable objetivo es continua (precios de productos, etc.)\n",
        "\n",
        "from sklearn.tree import DecisionTreeRegressor\n"
      ],
      "metadata": {
        "id": "cB9WZ9bKZpPb"
      },
      "execution_count": 5,
      "outputs": []
    },
    {
      "cell_type": "code",
      "source": [
        "#division train & test \n",
        "X = df_precios.drop(\"price\" , axis = 1)\n",
        "y = df_precios.iloc[:,2]"
      ],
      "metadata": {
        "id": "_G_3d1D3ZQVO"
      },
      "execution_count": 6,
      "outputs": []
    },
    {
      "cell_type": "code",
      "source": [
        "from sklearn.model_selection import train_test_split\n",
        "X_train, X_test, y_train, y_test = train_test_split(X.values, y.values, \n",
        "                                                    random_state=42, test_size=0.3)\n",
        "print (X_train.shape, y_train.shape)\n",
        "print (X_test.shape, y_test.shape)"
      ],
      "metadata": {
        "colab": {
          "base_uri": "https://localhost:8080/"
        },
        "id": "KasVvAVHc6J5",
        "outputId": "45523b34-aec4-43b1-f16b-234ffd151e03"
      },
      "execution_count": 7,
      "outputs": [
        {
          "output_type": "stream",
          "name": "stdout",
          "text": [
            "(15129, 20) (15129,)\n",
            "(6484, 20) (6484,)\n"
          ]
        }
      ]
    },
    {
      "cell_type": "code",
      "source": [
        "#Bucle para la selección de \"max_depth\"\n",
        "from sklearn.metrics import mean_absolute_error, mean_squared_error, r2_score"
      ],
      "metadata": {
        "id": "GHvWvOA_dKMz"
      },
      "execution_count": 8,
      "outputs": []
    },
    {
      "cell_type": "code",
      "source": [
        "md_list = []\n",
        "score_train_list = []\n",
        "score_test_list = []\n",
        "mse_train_list = []\n",
        "mse_test_list = []\n",
        "\n",
        "\n",
        "for maxdepth in list(range(1,10)):\n",
        "  tree_model = DecisionTreeRegressor(random_state=0, max_depth=maxdepth)\n",
        "  tree_model.fit(X_train, y_train)\n",
        "\n",
        "  pred_train = tree_model.predict(X_train)\n",
        "  pred_test = tree_model.predict(X_test)\n",
        "\n",
        "  ## Generación de listas\n",
        "  md_list.append(maxdepth)\n",
        "  score_train_list.append(100.0*tree_model.score(X_train, y_train))\n",
        "  score_test_list.append(100.0*tree_model.score(X_test, y_test))\n",
        "  mse_train_list.append(mean_squared_error(y_train, pred_train))\n",
        "  mse_test_list.append(mean_squared_error(y_test, pred_test))\n",
        "\n",
        "df = pd.DataFrame({\"max_depth\":md_list, \n",
        "                   \"score_train\":score_train_list,\n",
        "                   \"score_test\":score_test_list,\n",
        "                   \"mse_train\":mse_train_list,\n",
        "                   \"mse_test\":mse_test_list\n",
        "                   })"
      ],
      "metadata": {
        "id": "J06e0RNJdQKr"
      },
      "execution_count": 9,
      "outputs": []
    },
    {
      "cell_type": "code",
      "source": [
        "df.set_index(\"max_depth\", inplace=True)"
      ],
      "metadata": {
        "id": "sDHb99RidWBa"
      },
      "execution_count": 36,
      "outputs": []
    },
    {
      "cell_type": "code",
      "source": [
        "df[\"mse_train\"].plot(label=\"Train Mean Squared Error\") \n",
        "df[\"mse_test\"].plot(label=\"Test Mean Squared Error\")\n",
        "plt.suptitle(\"Overfitting vs Underfitting\")\n",
        "plt.legend()\n",
        "plt.show();"
      ],
      "metadata": {
        "colab": {
          "base_uri": "https://localhost:8080/",
          "height": 309
        },
        "id": "RDC5HjygdZtU",
        "outputId": "caa1e9c5-80fd-4528-85f3-2ada6319a314"
      },
      "execution_count": 37,
      "outputs": [
        {
          "output_type": "display_data",
          "data": {
            "text/plain": [
              "<Figure size 432x288 with 1 Axes>"
            ],
            "image/png": "[encoded data removed]"
          },
          "metadata": {
            "needs_background": "light"
          }
        }
      ]
    },
    {
      "cell_type": "markdown",
      "source": [
        "Observo que el error medio cuadrático de Train y Test decrece. Los valores se sobreajustan, ya que este error medio cuadrático baja rápidamente y además disminuye mucho.\n"
      ],
      "metadata": {
        "id": "lNKQrczqiE0T"
      }
    },
    {
      "cell_type": "code",
      "source": [
        "df[\"score_train\"].plot(label=\"Train Score\")\n",
        "df[\"score_test\"].plot(label=\"Test Score\")\n",
        "plt.suptitle(\"R2: Overfitting vs Underfitting\")\n",
        "plt.legend()\n",
        "plt.show();"
      ],
      "metadata": {
        "colab": {
          "base_uri": "https://localhost:8080/",
          "height": 309
        },
        "id": "S1-mpJ51dmUc",
        "outputId": "bb06e4ef-554a-44e8-e5ca-d6021bbec9a2"
      },
      "execution_count": 38,
      "outputs": [
        {
          "output_type": "display_data",
          "data": {
            "text/plain": [
              "<Figure size 432x288 with 1 Axes>"
            ],
            "image/png": "[encoded data removed]"
          },
          "metadata": {
            "needs_background": "light"
          }
        }
      ]
    },
    {
      "cell_type": "markdown",
      "source": [
        "El R2 de Train y Test sube mucho, en este caso sube más en los valores de Train que en los de Test.\n"
      ],
      "metadata": {
        "id": "eogQLAWKi8Ki"
      }
    },
    {
      "cell_type": "markdown",
      "source": [
        "Entrenamiento y evaluación del modelo"
      ],
      "metadata": {
        "id": "JS4yvCuKdrjB"
      }
    },
    {
      "cell_type": "code",
      "source": [
        "from sklearn.tree import plot_tree\n",
        "tree_model = DecisionTreeRegressor(random_state=0, max_depth=3)\n",
        "tree_model.fit(X_train, y_train)\n",
        "pred_train = tree_model.predict(X_train)\n",
        "print (r2_score(y_train, pred_train))"
      ],
      "metadata": {
        "colab": {
          "base_uri": "https://localhost:8080/"
        },
        "id": "b5LLIF7GdpdD",
        "outputId": "3e340aee-2d0c-4418-e35c-78a6b42a5699"
      },
      "execution_count": 39,
      "outputs": [
        {
          "output_type": "stream",
          "name": "stdout",
          "text": [
            "0.6215631450853705\n"
          ]
        }
      ]
    },
    {
      "cell_type": "markdown",
      "source": [
        "Cálculo de la Importancia de las Variables"
      ],
      "metadata": {
        "id": "zAprGFgYdzjP"
      }
    },
    {
      "cell_type": "code",
      "source": [
        "df_imp = pd.DataFrame(tree_model.feature_importances_.reshape(1,-1), columns=X.columns, index=[\"Y\"])\n",
        "df_imp.T.plot.barh()\n",
        "plt.legend()\n",
        "plt.show();"
      ],
      "metadata": {
        "colab": {
          "base_uri": "https://localhost:8080/",
          "height": 265
        },
        "id": "iTyKzmuUd0xj",
        "outputId": "6991b4ac-cb7b-49fe-f8ff-c4b760418edd"
      },
      "execution_count": 40,
      "outputs": [
        {
          "output_type": "display_data",
          "data": {
            "text/plain": [
              "<Figure size 432x288 with 1 Axes>"
            ],
            "image/png": "[encoded data removed]"
          },
          "metadata": {
            "needs_background": "light"
          }
        }
      ]
    },
    {
      "cell_type": "markdown",
      "source": [
        "Observo que las variables que tienen más importancia son grade, sqrt_living, lat y yr_build."
      ],
      "metadata": {
        "id": "cQ-CQisumN5T"
      }
    },
    {
      "cell_type": "markdown",
      "source": [
        "Generación del Grafo para su análisis"
      ],
      "metadata": {
        "id": "D_jaKIm-d75o"
      }
    },
    {
      "cell_type": "code",
      "source": [
        "plt.figure(figsize=(10,8))\n",
        "plot_tree(tree_model, filled=True, max_depth=3, feature_names=X.columns, class_names=[\"Y\"])\n",
        "plt.show()"
      ],
      "metadata": {
        "colab": {
          "base_uri": "https://localhost:8080/",
          "height": 466
        },
        "id": "ylezkYC9d5JI",
        "outputId": "5647b358-0c5c-4f6c-8955-c07c29176d5e"
      },
      "execution_count": 41,
      "outputs": [
        {
          "output_type": "display_data",
          "data": {
            "text/plain": [
              "<Figure size 720x576 with 1 Axes>"
            ],
            "image/png": "[encoded data removed]"
          },
          "metadata": {
            "needs_background": "light"
          }
        }
      ]
    },
    {
      "cell_type": "code",
      "source": [
        "df_precios.plot.scatter(x=\"grade\", y=\"sqft_living\", c=\"price\", cmap=plt.cm.RdYlBu)\n",
        "plt.axvline(5.0)\n",
        "plt.axhline(0.5)"
      ],
      "metadata": {
        "colab": {
          "base_uri": "https://localhost:8080/",
          "height": 280
        },
        "id": "Ugp7yxghd_u2",
        "outputId": "63a38117-7685-45a7-b2d4-983624fa89e2"
      },
      "execution_count": 42,
      "outputs": [
        {
          "output_type": "execute_result",
          "data": {
            "text/plain": [
              "<matplotlib.lines.Line2D at 0x7f4d9cf77250>"
            ]
          },
          "metadata": {},
          "execution_count": 42
        },
        {
          "output_type": "display_data",
          "data": {
            "text/plain": [
              "<Figure size 432x288 with 2 Axes>"
            ],
            "image/png": "[encoded data removed]"
          },
          "metadata": {
            "needs_background": "light"
          }
        }
      ]
    },
    {
      "cell_type": "markdown",
      "source": [
        "Observo que la división de Y para los valores bajos y altos no es muy buena ya que los valores estan bastante dispersos y no parecen seguir un patrón. Esto también puede relacionarse con los problemas a la hora de tener un R2 suficiente."
      ],
      "metadata": {
        "id": "auCZmaAmn1XZ"
      }
    },
    {
      "cell_type": "code",
      "source": [
        "df_precios.plot.scatter(x=\"sqft_living\", y=\"lat\", c=\"price\", cmap=plt.cm.RdYlBu)\n",
        "plt.axvline(1)\n",
        "plt.axhline(48)"
      ],
      "metadata": {
        "colab": {
          "base_uri": "https://localhost:8080/",
          "height": 280
        },
        "id": "FGgDZJWVeudB",
        "outputId": "9556fd0d-b85b-4cc7-f269-867ac86456cc"
      },
      "execution_count": 43,
      "outputs": [
        {
          "output_type": "execute_result",
          "data": {
            "text/plain": [
              "<matplotlib.lines.Line2D at 0x7f4d9cf729d0>"
            ]
          },
          "metadata": {},
          "execution_count": 43
        },
        {
          "output_type": "display_data",
          "data": {
            "text/plain": [
              "<Figure size 432x288 with 2 Axes>"
            ],
            "image/png": "[encoded data removed]"
          },
          "metadata": {
            "needs_background": "light"
          }
        }
      ]
    },
    {
      "cell_type": "markdown",
      "source": [
        "En este segundo gráfico las valores de la Y parecen estar mejor dividios, siguen un patrón ya que a la izquierda nos encontramos los valores bajos de la Y agrupados."
      ],
      "metadata": {
        "id": "Jk8Kxt-WolF0"
      }
    },
    {
      "cell_type": "markdown",
      "source": [
        "2.2 Utilizar el algoritmo de Random Forest. \n",
        "---\n"
      ],
      "metadata": {
        "id": "w3F1CWa7fiPG"
      }
    },
    {
      "cell_type": "code",
      "source": [
        "from sklearn.model_selection import train_test_split\n"
      ],
      "metadata": {
        "id": "yH8QuYSWyLDZ"
      },
      "execution_count": 44,
      "outputs": []
    },
    {
      "cell_type": "code",
      "source": [
        "df_precios_new = df_precios.drop(\"date\" , axis = 1)\n",
        "\n",
        "df_precios_train , df_precios_test = train_test_split(df_precios_new , test_size = 0.2 , train_size = 0.8)\n",
        "print(df_precios_train.shape)\n",
        "print(df_precios_test.shape)\n",
        "\n",
        "x_train = df_precios_train.drop(\"price\" , axis = 1).values\n",
        "y_train = df_precios_train.iloc[:,1].values\n",
        "\n",
        "x_test = df_precios_test.drop(\"price\" , axis = 1).values\n",
        "y_test = df_precios_test.iloc[:,1].values\n",
        "\n",
        "\n"
      ],
      "metadata": {
        "id": "o4muxm5yflRZ",
        "colab": {
          "base_uri": "https://localhost:8080/"
        },
        "outputId": "b349189a-6811-4d93-961d-bf677974ccd7"
      },
      "execution_count": 45,
      "outputs": [
        {
          "output_type": "stream",
          "name": "stdout",
          "text": [
            "(17290, 20)\n",
            "(4323, 20)\n"
          ]
        }
      ]
    },
    {
      "cell_type": "code",
      "source": [
        "print (x_train.shape)\n",
        "print (x_test.shape)"
      ],
      "metadata": {
        "colab": {
          "base_uri": "https://localhost:8080/"
        },
        "id": "04CNANSUzQZR",
        "outputId": "8087a71b-0bae-40cc-ca96-3161182eefec"
      },
      "execution_count": 46,
      "outputs": [
        {
          "output_type": "stream",
          "name": "stdout",
          "text": [
            "(17290, 19)\n",
            "(4323, 19)\n"
          ]
        }
      ]
    },
    {
      "cell_type": "code",
      "source": [
        "y_test"
      ],
      "metadata": {
        "colab": {
          "base_uri": "https://localhost:8080/"
        },
        "id": "DzlMa_STzVUL",
        "outputId": "4fb26c67-e828-4f4a-fbab-8efa0a489fde"
      },
      "execution_count": 47,
      "outputs": [
        {
          "output_type": "execute_result",
          "data": {
            "text/plain": [
              "array([212500., 215000., 408000., ..., 324950., 520000., 490000.])"
            ]
          },
          "metadata": {},
          "execution_count": 47
        }
      ]
    },
    {
      "cell_type": "markdown",
      "source": [
        "# Modelo Random Forest\n",
        "---"
      ],
      "metadata": {
        "id": "fV9QcqS0zugT"
      }
    },
    {
      "cell_type": "code",
      "source": [
        "from sklearn.ensemble import RandomForestClassifier\n",
        "rf_model = RandomForestClassifier(max_depth=5, random_state=0, n_jobs=5)\n",
        "rf_model.fit(x_train, y_train)"
      ],
      "metadata": {
        "colab": {
          "base_uri": "https://localhost:8080/"
        },
        "id": "eoI3Q252zX7s",
        "outputId": "0408fb45-555e-4c7f-af51-8ee093ec07f3"
      },
      "execution_count": 48,
      "outputs": [
        {
          "output_type": "execute_result",
          "data": {
            "text/plain": [
              "RandomForestClassifier(max_depth=5, n_jobs=5, random_state=0)"
            ]
          },
          "metadata": {},
          "execution_count": 48
        }
      ]
    },
    {
      "cell_type": "code",
      "source": [
        "pred_train = rf_model.predict(x_train)\n",
        "pred_test = rf_model.predict(x_test)\n",
        "print(\"Precisión sobre los datos de entrenamiento: {:.2f}\".format(100.0*rf_model.score(x_train, y_train)))\n",
        "print(\"Precisión sobre los datos de test: {:.2f}\".format(100.0*rf_model.score(x_test, y_test)))"
      ],
      "metadata": {
        "colab": {
          "base_uri": "https://localhost:8080/"
        },
        "id": "m3tNJmIq05w5",
        "outputId": "424ac010-e1df-43a0-8d84-87cfa45ef4ec"
      },
      "execution_count": 49,
      "outputs": [
        {
          "output_type": "stream",
          "name": "stdout",
          "text": [
            "Precisión sobre los datos de entrenamiento: 6.93\n",
            "Precisión sobre los datos de test: 1.60\n"
          ]
        }
      ]
    },
    {
      "cell_type": "markdown",
      "source": [
        "Evaluación del modelo\n",
        "---"
      ],
      "metadata": {
        "id": "G_mcMXhf19qs"
      }
    },
    {
      "cell_type": "code",
      "source": [
        "from sklearn import metrics"
      ],
      "metadata": {
        "id": "BScyaoaW1vpC"
      },
      "execution_count": 50,
      "outputs": []
    },
    {
      "cell_type": "code",
      "source": [
        "print(f\"Classification report for classifier {rf_model}:\\n\"\n",
        "      f\"{metrics.classification_report(y_test, pred_test)}\\n\")"
      ],
      "metadata": {
        "id": "TG_eQtVS2BVZ"
      },
      "execution_count": null,
      "outputs": []
    },
    {
      "cell_type": "code",
      "source": [
        "print(f\"Confusion matrix:\\n\")\n",
        "fig, ax = plt.subplots(figsize=(10, 10))\n",
        "metrics.plot_confusion_matrix(rf_model, x_test, y_test, cmap=plt.cm.viridis, ax=ax)\n",
        "plt.show()"
      ],
      "metadata": {
        "colab": {
          "base_uri": "https://localhost:8080/"
        },
        "id": "d67V05pK2F_w",
        "outputId": "b97a25a8-e11b-4c57-ab2c-5e9dcd7c269b"
      },
      "execution_count": null,
      "outputs": [
        {
          "output_type": "stream",
          "name": "stdout",
          "text": [
            "Confusion matrix:\n",
            "\n"
          ]
        },
        {
          "output_type": "stream",
          "name": "stderr",
          "text": [
            "/usr/local/lib/python3.7/dist-packages/sklearn/utils/deprecation.py:87: FutureWarning: Function plot_confusion_matrix is deprecated; Function `plot_confusion_matrix` is deprecated in 1.0 and will be removed in 1.2. Use one of the class methods: ConfusionMatrixDisplay.from_predictions or ConfusionMatrixDisplay.from_estimator.\n",
            "  warnings.warn(msg, category=FutureWarning)\n"
          ]
        }
      ]
    },
    {
      "cell_type": "markdown",
      "source": [
        "Optimización del modelo\n",
        "---"
      ],
      "metadata": {
        "id": "1gV9BREu2UNt"
      }
    },
    {
      "cell_type": "code",
      "source": [
        "md_list = []\n",
        "score_train_list = []\n",
        "score_test_list = []\n",
        "\n",
        "for maxdepth in list(range(1,30,4)):\n",
        "  rf_model = RandomForestClassifier(random_state=0, max_depth=maxdepth, n_jobs=5)\n",
        "  rf_model.fit(x_train, y_train)\n",
        "\n",
        "  ## Generación de listas\n",
        "  md_list.append(maxdepth)\n",
        "  score_train_list.append(100.0*rf_model.score(x_train, y_train))\n",
        "  score_test_list.append(100.0*rf_model.score(x_test, y_test))"
      ],
      "metadata": {
        "id": "aWqJxYqn2LGH",
        "colab": {
          "base_uri": "https://localhost:8080/",
          "height": 236
        },
        "outputId": "97bc40d9-1f1d-4a46-c7a8-a8212eb8c65e"
      },
      "execution_count": 2,
      "outputs": [
        {
          "output_type": "error",
          "ename": "NameError",
          "evalue": "ignored",
          "traceback": [
            "\u001b[0;31m---------------------------------------------------------------------------\u001b[0m",
            "\u001b[0;31mNameError\u001b[0m                                 Traceback (most recent call last)",
            "\u001b[0;32m<ipython-input-2-6ba7b9b93230>\u001b[0m in \u001b[0;36m<module>\u001b[0;34m()\u001b[0m\n\u001b[1;32m      4\u001b[0m \u001b[0;34m\u001b[0m\u001b[0m\n\u001b[1;32m      5\u001b[0m \u001b[0;32mfor\u001b[0m \u001b[0mmaxdepth\u001b[0m \u001b[0;32min\u001b[0m \u001b[0mlist\u001b[0m\u001b[0;34m(\u001b[0m\u001b[0mrange\u001b[0m\u001b[0;34m(\u001b[0m\u001b[0;36m1\u001b[0m\u001b[0;34m,\u001b[0m\u001b[0;36m30\u001b[0m\u001b[0;34m,\u001b[0m\u001b[0;36m4\u001b[0m\u001b[0;34m)\u001b[0m\u001b[0;34m)\u001b[0m\u001b[0;34m:\u001b[0m\u001b[0;34m\u001b[0m\u001b[0;34m\u001b[0m\u001b[0m\n\u001b[0;32m----> 6\u001b[0;31m   \u001b[0mrf_model\u001b[0m \u001b[0;34m=\u001b[0m \u001b[0mRandomForestClassifier\u001b[0m\u001b[0;34m(\u001b[0m\u001b[0mrandom_state\u001b[0m\u001b[0;34m=\u001b[0m\u001b[0;36m0\u001b[0m\u001b[0;34m,\u001b[0m \u001b[0mmax_depth\u001b[0m\u001b[0;34m=\u001b[0m\u001b[0mmaxdepth\u001b[0m\u001b[0;34m,\u001b[0m \u001b[0mn_jobs\u001b[0m\u001b[0;34m=\u001b[0m\u001b[0;36m5\u001b[0m\u001b[0;34m)\u001b[0m\u001b[0;34m\u001b[0m\u001b[0;34m\u001b[0m\u001b[0m\n\u001b[0m\u001b[1;32m      7\u001b[0m   \u001b[0mrf_model\u001b[0m\u001b[0;34m.\u001b[0m\u001b[0mfit\u001b[0m\u001b[0;34m(\u001b[0m\u001b[0mx_train\u001b[0m\u001b[0;34m,\u001b[0m \u001b[0my_train\u001b[0m\u001b[0;34m)\u001b[0m\u001b[0;34m\u001b[0m\u001b[0;34m\u001b[0m\u001b[0m\n\u001b[1;32m      8\u001b[0m \u001b[0;34m\u001b[0m\u001b[0m\n",
            "\u001b[0;31mNameError\u001b[0m: name 'RandomForestClassifier' is not defined"
          ]
        }
      ]
    },
    {
      "cell_type": "code",
      "source": [
        "df = pd.DataFrame({\"max_depth\":md_list, \n",
        "                   \"score_train\":score_train_list,\n",
        "                   \"score_test\":score_test_list})\n",
        "\n",
        "df.set_index(\"max_depth\", inplace=True)\n",
        "df[\"score_train\"].plot(label=\"Train Score\")\n",
        "df[\"score_test\"].plot(label=\"Test Score\")\n",
        "plt.suptitle(\"Accuracy Train and Test\")\n",
        "plt.legend()\n",
        "plt.show();"
      ],
      "metadata": {
        "id": "wlY_6oTg2iyR"
      },
      "execution_count": null,
      "outputs": []
    },
    {
      "cell_type": "code",
      "source": [
        "rf_model_15 = RandomForestClassifier(max_depth=15, random_state=0, n_jobs=5)\n",
        "rf_model_15.fit(x_train,y_train)"
      ],
      "metadata": {
        "id": "OdQZD-ef2nIV"
      },
      "execution_count": null,
      "outputs": []
    },
    {
      "cell_type": "code",
      "source": [
        "pred_train = rf_model_15.predict(x_train)\n",
        "pred_test = rf_model_15.predict(x_test)\n",
        "print(\"Precisión sobre los datos de entrenamiento: {:.2f}\".format(100.0*rf_model_15.score(x_train, y_train)))\n",
        "print(\"Precisión sobre los datos de test: {:.2f}\".format(100.0*rf_model_15.score(x_test, y_test)))"
      ],
      "metadata": {
        "id": "0VBy_Ayj2sxq"
      },
      "execution_count": null,
      "outputs": []
    },
    {
      "cell_type": "code",
      "source": [
        "print(f\"Confusion matrix:\\n\")\n",
        "fig, ax = plt.subplots(figsize=(10, 10))\n",
        "metrics.plot_confusion_matrix(rf_model_15, x_test, y_test, cmap=plt.cm.viridis, ax=ax)\n",
        "plt.show()"
      ],
      "metadata": {
        "id": "GjE1MvHz2yMb"
      },
      "execution_count": null,
      "outputs": []
    },
    {
      "cell_type": "markdown",
      "source": [
        "2.3 Utilizar el algoritmo de Grandient Boosting.\n",
        "---\n",
        "\n",
        "El concepto en el que se basa Gradient Boosting es el de tratar de lanzar árboles de decisión, uno detrás de otro, de tal manera que cada uno modelice los errores del anterior. Se puede ver como un optimizador de la función de coste."
      ],
      "metadata": {
        "id": "YHKvmPHAhxy_"
      }
    },
    {
      "cell_type": "code",
      "source": [
        "df_precios_train.set_index(\"price\").plot(subplots=True, figsize=(8,8));"
      ],
      "metadata": {
        "colab": {
          "base_uri": "https://localhost:8080/",
          "height": 166
        },
        "id": "IJorbOSw51M0",
        "outputId": "bbefe553-e146-43f7-d355-b9ba1cd606a1"
      },
      "execution_count": 1,
      "outputs": [
        {
          "output_type": "error",
          "ename": "NameError",
          "evalue": "ignored",
          "traceback": [
            "\u001b[0;31m---------------------------------------------------------------------------\u001b[0m",
            "\u001b[0;31mNameError\u001b[0m                                 Traceback (most recent call last)",
            "\u001b[0;32m<ipython-input-1-6e1c570e9398>\u001b[0m in \u001b[0;36m<module>\u001b[0;34m()\u001b[0m\n\u001b[0;32m----> 1\u001b[0;31m \u001b[0mdf_precios_train\u001b[0m\u001b[0;34m.\u001b[0m\u001b[0mset_index\u001b[0m\u001b[0;34m(\u001b[0m\u001b[0;34m\"price\"\u001b[0m\u001b[0;34m)\u001b[0m\u001b[0;34m.\u001b[0m\u001b[0mplot\u001b[0m\u001b[0;34m(\u001b[0m\u001b[0msubplots\u001b[0m\u001b[0;34m=\u001b[0m\u001b[0;32mTrue\u001b[0m\u001b[0;34m,\u001b[0m \u001b[0mfigsize\u001b[0m\u001b[0;34m=\u001b[0m\u001b[0;34m(\u001b[0m\u001b[0;36m8\u001b[0m\u001b[0;34m,\u001b[0m\u001b[0;36m8\u001b[0m\u001b[0;34m)\u001b[0m\u001b[0;34m)\u001b[0m\u001b[0;34m;\u001b[0m\u001b[0;34m\u001b[0m\u001b[0;34m\u001b[0m\u001b[0m\n\u001b[0m",
            "\u001b[0;31mNameError\u001b[0m: name 'df_precios_train' is not defined"
          ]
        }
      ]
    },
    {
      "cell_type": "code",
      "source": [
        "df_precios_test.set_index(\"price\").plot(subplots=True, figsize=(8,8));"
      ],
      "metadata": {
        "id": "s-3tQGeY6fqF"
      },
      "execution_count": null,
      "outputs": []
    },
    {
      "cell_type": "markdown",
      "source": [
        "# 3.Evaluación de los modelos: \n",
        "---\n"
      ],
      "metadata": {
        "id": "51HuCQlWh913"
      }
    },
    {
      "cell_type": "markdown",
      "source": [
        "Comparar los valores de R2 de ambos modelos.\n",
        " \n",
        "Comentar los resultados. \n"
      ],
      "metadata": {
        "id": "zAxvsQZNiFoC"
      }
    },
    {
      "cell_type": "markdown",
      "source": [
        "**Modelo 1: árbol de decisión (regresión)**\n",
        "---\n",
        "Para este modelo elijo el árbol de decisión, regresión (algoritmo supervisado), ya que la variable objetivo es continua (precios de productos, etc.). \n",
        "En el modelo 1 el error medio cuadrático de Train y Test decrece, lo cual es buena señal, aunque es importante evitar el sobreajuste. \n",
        "En relación al R2, este sube considerablemente tanto para Train como para Test. Obtengo un R2 del 62% en la evaluación del modelo.\n",
        "\n",
        "\n",
        "**Modelo 2**\n",
        "---\n",
        "\n",
        "\n",
        "\n",
        "\n",
        "\n",
        "**Modelo 3**\n",
        "---\n"
      ],
      "metadata": {
        "id": "eT3ASkTeV9Ae"
      }
    }
  ]
}