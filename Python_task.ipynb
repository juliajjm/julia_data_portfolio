{
  "nbformat": 4,
  "nbformat_minor": 0,
  "metadata": {
    "colab": {
      "provenance": []
    },
    "kernelspec": {
      "name": "python3",
      "display_name": "Python 3"
    },
    "language_info": {
      "name": "python"
    }
  },
  "cells": [
    {
      "cell_type": "code",
      "execution_count": 1,
      "metadata": {
        "colab": {
          "base_uri": "https://localhost:8080/"
        },
        "id": "uIXmV0Lw4WDd",
        "outputId": "36371e27-398f-4e5e-fdb1-099867331b26"
      },
      "outputs": [
        {
          "output_type": "stream",
          "name": "stdout",
          "text": [
            "A result:7, C result:7\n",
            "A result:8, C result:48\n",
            "A result:9, C result:27\n",
            "A result:8, C result:64\n",
            "A result:3, C result:18\n",
            "A result:8, C result:48\n",
            "Success!\n",
            "A result:2, B result:2\n"
          ]
        }
      ],
      "source": [
        "# Create and call a python function that :\n",
        "# stores a random integer A between 1 and 9\n",
        "# stores a random integer B between 1 and 9\n",
        "# multiplies A and B together as C\n",
        "# Prints A and C for every result until C = 4\n",
        "# If C = 4 , print ‘Success!’ and the results for A and B\n",
        "\n",
        "import random\n",
        "def number():\n",
        "    should_continue = True\n",
        "    while should_continue:\n",
        "        A = random.randint(1, 9)\n",
        "        B = random.randint(1, 9)\n",
        "        C = A * B\n",
        "\n",
        "        if C != 4:\n",
        "            print(f\"A result:{A}, C result:{C}\")\n",
        "\n",
        "        else:\n",
        "            print(\"Success!\")\n",
        "            print(f\"A result:{A}, B result:{B}\")\n",
        "            should_continue = False\n",
        "number()\n",
        "\n"
      ]
    }
  ]
}