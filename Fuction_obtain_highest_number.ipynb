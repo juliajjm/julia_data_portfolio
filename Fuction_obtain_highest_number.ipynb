{
  "cells": [
    {
      "cell_type": "code",
      "execution_count": 3,
      "metadata": {
        "colab": {
          "base_uri": "https://localhost:8080/"
        },
        "id": "uEDuoFbSIDyr",
        "outputId": "6076e260-2bc2-4114-83a3-ddce86706710"
      },
      "outputs": [
        {
          "name": "stdout",
          "output_type": "stream",
          "text": [
            "The highest number is 1080\n"
          ]
        }
      ],
      "source": [
        "#Function that obtains the highest number from a list \n",
        "\n",
        "def obtain_max_number(C):\n",
        "  max_value = 0 \n",
        "  for i in C:\n",
        "    if i > max_value:\n",
        "      max_value = i\n",
        "  print(f\"The highest number is {max_value}\")\n",
        "obtain_max_number(C = [180, 90 , 5, 68, 23, 553 , 1080, 8])\n",
        "\n"
      ]
    }
  ],
  "metadata": {
    "colab": {
      "provenance": []
    },
    "kernelspec": {
      "display_name": "Python 3",
      "name": "python3"
    },
    "language_info": {
      "name": "python"
    }
  },
  "nbformat": 4,
  "nbformat_minor": 0
}
