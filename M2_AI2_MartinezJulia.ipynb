{
  "nbformat": 4,
  "nbformat_minor": 0,
  "metadata": {
    "colab": {
      "name": "M2_AI2_MartinezJulia.ipynb",
      "provenance": []
    },
    "kernelspec": {
      "name": "python3",
      "display_name": "Python 3"
    },
    "language_info": {
      "name": "python"
    }
  },
  "cells": [
    {
      "cell_type": "code",
      "execution_count": 81,
      "metadata": {
        "id": "QVpF0YNfL5qc"
      },
      "outputs": [],
      "source": [
        "import pandas as pd\n",
        "import numpy as np \n",
        "import matplotlib.pyplot as plt\n",
        "import plotly.express as px \n",
        "import math \n",
        "import statistics as st\n",
        "from collections import Counter\n",
        "import scipy.stats as sp\n",
        "import seaborn as sns \n"
      ]
    },
    {
      "cell_type": "code",
      "source": [
        "url = 'https://raw.githubusercontent.com/md-lorente/data/master/datos_facturas.csv'\n",
        "df= pd.read_csv(url, sep = ';',decimal =',')\n",
        "df.head()"
      ],
      "metadata": {
        "id": "yAZFchpmMTF9",
        "colab": {
          "base_uri": "https://localhost:8080/",
          "height": 206
        },
        "outputId": "1352936e-04b0-4ccb-b356-7e7e0ac46aa8"
      },
      "execution_count": 82,
      "outputs": [
        {
          "output_type": "execute_result",
          "data": {
            "text/html": [
              "\n",
              "  <div id=\"df-76fae1d3-08ce-4f30-977f-bdeb70aa35a5\">\n",
              "    <div class=\"colab-df-container\">\n",
              "      <div>\n",
              "<style scoped>\n",
              "    .dataframe tbody tr th:only-of-type {\n",
              "        vertical-align: middle;\n",
              "    }\n",
              "\n",
              "    .dataframe tbody tr th {\n",
              "        vertical-align: top;\n",
              "    }\n",
              "\n",
              "    .dataframe thead th {\n",
              "        text-align: right;\n",
              "    }\n",
              "</style>\n",
              "<table border=\"1\" class=\"dataframe\">\n",
              "  <thead>\n",
              "    <tr style=\"text-align: right;\">\n",
              "      <th></th>\n",
              "      <th>id</th>\n",
              "      <th>fecha</th>\n",
              "      <th>mes</th>\n",
              "      <th>cliente</th>\n",
              "      <th>factura_pagada</th>\n",
              "      <th>importe_factura</th>\n",
              "      <th>tipo_IVA</th>\n",
              "      <th>porcentaje_IVA</th>\n",
              "      <th>IVA</th>\n",
              "      <th>total_pagado</th>\n",
              "    </tr>\n",
              "  </thead>\n",
              "  <tbody>\n",
              "    <tr>\n",
              "      <th>0</th>\n",
              "      <td>1</td>\n",
              "      <td>01/01/2010</td>\n",
              "      <td>Enero</td>\n",
              "      <td>clienteA</td>\n",
              "      <td>si</td>\n",
              "      <td>100</td>\n",
              "      <td>normal</td>\n",
              "      <td>18</td>\n",
              "      <td>18.0</td>\n",
              "      <td>118.0</td>\n",
              "    </tr>\n",
              "    <tr>\n",
              "      <th>1</th>\n",
              "      <td>2</td>\n",
              "      <td>02/01/2010</td>\n",
              "      <td>Enero</td>\n",
              "      <td>clienteB</td>\n",
              "      <td>no</td>\n",
              "      <td>150</td>\n",
              "      <td>normal</td>\n",
              "      <td>18</td>\n",
              "      <td>27.0</td>\n",
              "      <td>177.0</td>\n",
              "    </tr>\n",
              "    <tr>\n",
              "      <th>2</th>\n",
              "      <td>3</td>\n",
              "      <td>03/01/2010</td>\n",
              "      <td>Enero</td>\n",
              "      <td>clienteC</td>\n",
              "      <td>si</td>\n",
              "      <td>75</td>\n",
              "      <td>normal</td>\n",
              "      <td>18</td>\n",
              "      <td>13.5</td>\n",
              "      <td>88.5</td>\n",
              "    </tr>\n",
              "    <tr>\n",
              "      <th>3</th>\n",
              "      <td>4</td>\n",
              "      <td>04/01/2010</td>\n",
              "      <td>Enero</td>\n",
              "      <td>clienteD</td>\n",
              "      <td>si</td>\n",
              "      <td>200</td>\n",
              "      <td>normal</td>\n",
              "      <td>18</td>\n",
              "      <td>36.0</td>\n",
              "      <td>236.0</td>\n",
              "    </tr>\n",
              "    <tr>\n",
              "      <th>4</th>\n",
              "      <td>5</td>\n",
              "      <td>05/01/2010</td>\n",
              "      <td>Enero</td>\n",
              "      <td>clienteA</td>\n",
              "      <td>no</td>\n",
              "      <td>125</td>\n",
              "      <td>normal</td>\n",
              "      <td>18</td>\n",
              "      <td>22.5</td>\n",
              "      <td>147.5</td>\n",
              "    </tr>\n",
              "  </tbody>\n",
              "</table>\n",
              "</div>\n",
              "      <button class=\"colab-df-convert\" onclick=\"convertToInteractive('df-76fae1d3-08ce-4f30-977f-bdeb70aa35a5')\"\n",
              "              title=\"Convert this dataframe to an interactive table.\"\n",
              "              style=\"display:none;\">\n",
              "        \n",
              "  <svg xmlns=\"http://www.w3.org/2000/svg\" height=\"24px\"viewBox=\"0 0 24 24\"\n",
              "       width=\"24px\">\n",
              "    <path d=\"M0 0h24v24H0V0z\" fill=\"none\"/>\n",
              "    <path d=\"M18.56 5.44l.94 2.06.94-2.06 2.06-.94-2.06-.94-.94-2.06-.94 2.06-2.06.94zm-11 1L8.5 8.5l.94-2.06 2.06-.94-2.06-.94L8.5 2.5l-.94 2.06-2.06.94zm10 10l.94 2.06.94-2.06 2.06-.94-2.06-.94-.94-2.06-.94 2.06-2.06.94z\"/><path d=\"M17.41 7.96l-1.37-1.37c-.4-.4-.92-.59-1.43-.59-.52 0-1.04.2-1.43.59L10.3 9.45l-7.72 7.72c-.78.78-.78 2.05 0 2.83L4 21.41c.39.39.9.59 1.41.59.51 0 1.02-.2 1.41-.59l7.78-7.78 2.81-2.81c.8-.78.8-2.07 0-2.86zM5.41 20L4 18.59l7.72-7.72 1.47 1.35L5.41 20z\"/>\n",
              "  </svg>\n",
              "      </button>\n",
              "      \n",
              "  <style>\n",
              "    .colab-df-container {\n",
              "      display:flex;\n",
              "      flex-wrap:wrap;\n",
              "      gap: 12px;\n",
              "    }\n",
              "\n",
              "    .colab-df-convert {\n",
              "      background-color: #E8F0FE;\n",
              "      border: none;\n",
              "      border-radius: 50%;\n",
              "      cursor: pointer;\n",
              "      display: none;\n",
              "      fill: #1967D2;\n",
              "      height: 32px;\n",
              "      padding: 0 0 0 0;\n",
              "      width: 32px;\n",
              "    }\n",
              "\n",
              "    .colab-df-convert:hover {\n",
              "      background-color: #E2EBFA;\n",
              "      box-shadow: 0px 1px 2px rgba(60, 64, 67, 0.3), 0px 1px 3px 1px rgba(60, 64, 67, 0.15);\n",
              "      fill: #174EA6;\n",
              "    }\n",
              "\n",
              "    [theme=dark] .colab-df-convert {\n",
              "      background-color: #3B4455;\n",
              "      fill: #D2E3FC;\n",
              "    }\n",
              "\n",
              "    [theme=dark] .colab-df-convert:hover {\n",
              "      background-color: #434B5C;\n",
              "      box-shadow: 0px 1px 3px 1px rgba(0, 0, 0, 0.15);\n",
              "      filter: drop-shadow(0px 1px 2px rgba(0, 0, 0, 0.3));\n",
              "      fill: #FFFFFF;\n",
              "    }\n",
              "  </style>\n",
              "\n",
              "      <script>\n",
              "        const buttonEl =\n",
              "          document.querySelector('#df-76fae1d3-08ce-4f30-977f-bdeb70aa35a5 button.colab-df-convert');\n",
              "        buttonEl.style.display =\n",
              "          google.colab.kernel.accessAllowed ? 'block' : 'none';\n",
              "\n",
              "        async function convertToInteractive(key) {\n",
              "          const element = document.querySelector('#df-76fae1d3-08ce-4f30-977f-bdeb70aa35a5');\n",
              "          const dataTable =\n",
              "            await google.colab.kernel.invokeFunction('convertToInteractive',\n",
              "                                                     [key], {});\n",
              "          if (!dataTable) return;\n",
              "\n",
              "          const docLinkHtml = 'Like what you see? Visit the ' +\n",
              "            '<a target=\"_blank\" href=https://colab.research.google.com/notebooks/data_table.ipynb>data table notebook</a>'\n",
              "            + ' to learn more about interactive tables.';\n",
              "          element.innerHTML = '';\n",
              "          dataTable['output_type'] = 'display_data';\n",
              "          await google.colab.output.renderOutput(dataTable, element);\n",
              "          const docLink = document.createElement('div');\n",
              "          docLink.innerHTML = docLinkHtml;\n",
              "          element.appendChild(docLink);\n",
              "        }\n",
              "      </script>\n",
              "    </div>\n",
              "  </div>\n",
              "  "
            ],
            "text/plain": [
              "   id       fecha    mes   cliente  ... tipo_IVA  porcentaje_IVA   IVA  total_pagado\n",
              "0   1  01/01/2010  Enero  clienteA  ...   normal              18  18.0         118.0\n",
              "1   2  02/01/2010  Enero  clienteB  ...   normal              18  27.0         177.0\n",
              "2   3  03/01/2010  Enero  clienteC  ...   normal              18  13.5          88.5\n",
              "3   4  04/01/2010  Enero  clienteD  ...   normal              18  36.0         236.0\n",
              "4   5  05/01/2010  Enero  clienteA  ...   normal              18  22.5         147.5\n",
              "\n",
              "[5 rows x 10 columns]"
            ]
          },
          "metadata": {},
          "execution_count": 82
        }
      ]
    },
    {
      "cell_type": "code",
      "source": [
        "print(df.info())"
      ],
      "metadata": {
        "id": "qYKZi1VsaWTg"
      },
      "execution_count": null,
      "outputs": []
    },
    {
      "cell_type": "markdown",
      "source": [
        "**Primeramente identifico el tipo de variables, la clasificación a la que corresponden las variables y identifico el tipo de variables que serían desde el punto de vista del análisis de datos.**\n",
        "\n",
        "**fecha:**\n",
        "Variable que se refiere a la fecha de la factura, según la función info es un texto (object).\n",
        "Clasificación de la variable estadística: es una variable que se recoge de manera numérica, es cuantitativa y continua, puesto que puede tomar un número de valores infinitos.\n",
        "Análisis de datos: se recoge de manera numérica pero es categórica, ya que no tiene sentido sumar los años o las fechas. Se trata de una variable recogida o expresada de forma numérica cuyo uso es categórico, y se usa para clasificar la información sobre el año/fecha en la que ha ocurrido un suceso.\n",
        "\n",
        "**mes:**\n",
        "Variable que se refiere al mes de la factura, según la función info es un texto (object).\n",
        "Clasificación de la variable estadística: es una variable categórica que no puede ser calculada con números, sino que se clasifica con palabras. Se trata de una variable ordinal ya que sigue un orden o jerarquía (los meses del año de mayor a menor).\n",
        "Análisis de datos: es una variable categórica. Define una categoría o grupos, los meses del año (mutuamente excluyentes).\n",
        "\n",
        "**cliente:**\n",
        "Hace referencia al cliente que ha pagado (o no) las facturas, es un string (object).\n",
        "Clasificación de la variable estadística: variable categórica, vinculada a una cualidad, que se clasifica con 4 letras (A,B,C,D). Se trata de una variable nominal ya que el tipo de cliente no sigue ningún orden/jerarquía en específico. Las letras A,B,C o D se usan a modo de etiqueta para identificar al tipo de cliente. \n",
        "Análisis de datos: es una variable categórica. Define la categoría o grupo en función del tipo de cliente (mutuamente excluyentes).\n",
        "\n",
        "\n",
        "**factura_pagada:**\n",
        "Variable que indica si la factura ha sido o no ha sido pagada, según la función info es un texto (object).\n",
        "Clasificación de la variable estadística: es una variable categórica (vnculada a una cualidad) y se clasifica con palabras (si, no).\n",
        "Se trata de una variable binaria asimétrica puesto que solo hay 2 opciones (si, no) y en función de cada opción (si o no) se determina la presencia o ausencia de una característica. Para confirmar que solo hay 2 opciones, lo comprobamos con pd.unique(df[\"factura_pagada\"]).\n",
        "Análisis de datos: es una variable categórica. Indica la categoría en función de si la factura ha sido o no ha sido pagada.\n",
        "\n",
        "\n",
        "**importe_factura:**\n",
        "Indica el valor que se ha tenido que pagar por cada factura, según la función info es un número integro.\n",
        "Clasificación de la variable estadística: se trata de una variable cuantitativa (se puede cuantificar/medir) y continua ya que el importe (precio a pagar) puede tomar un número de valores infinitos.\n",
        "Análisis de datos: es una variable analítica, se trata de un número que expresa una cantidad de dinero específico.\n",
        "\n",
        "**tipo_IVA:**\n",
        "Variable que describe el tipo de IVA de la factura, es un string(object).\n",
        "Clasificación de la variable estadística: es una variable categórica, vinculada a una cualidad y es clasificada con palabras (normal, reducido). Se trata de una variable binaria simétrica puesto que solo hay 2 opciones (normal , reducido) y estas dos opciones hacen referencia a dos estados cualesquiera. Para asegurarnos de que solo hay 2 opciones, lo comprobamos con pd.unique(df[\"tipo_IVA\"]).\n",
        "Análisis de datos: es una variable categórica. Define la categoría en función del tipo de IVA aplicado (grupos mutuamente excluyentes).\n",
        "\n",
        "\n",
        "**porcentaje_IVA**\n",
        "Valor que indica el porcentage del IVA aplicado, según la función info es un número integro.\n",
        "Clasificación de la variable estadística: se trata de una variable cuantitativa (se puede medir) y continua, la cual puede tener un número de valores infinitos.\n",
        "Análisis de datos: es una variable analítica porque expresa una medición.\n",
        "\n",
        "**IVA**\n",
        "Indica el IVA aplicado, según la función info es un número float (decimal).\n",
        "Clasificación de la variable estadística: se trata de una variable cuantitativa (se puede medir) y continua que puede tener un número de valores infinito.\n",
        "Análisis de datos: variable analítica porque se trata de un número que representa la medición del IVA.\n",
        "\n",
        "**total_pagado**\n",
        "Variable que muestra el total pagado por factura, es un número float (decimal).\n",
        "Clasificación de la variable estadística: es una variable cuantitativa (se mide y es de tipo numérico) y continua que puede tener un número de valores infinitos.\n",
        "Análisis de datos: hace referencia a una variable analítica que representa una medición, la cantidad de dinero pagado.\n"
      ],
      "metadata": {
        "id": "q28zsKJHJ0rC"
      }
    },
    {
      "cell_type": "code",
      "source": [
        "#pd.unique(df[\"cliente\"])\n",
        "#pd.unique(df[\"tipo_IVA\"])\n",
        "#pd.unique(df[\"factura_pagada\"])\n"
      ],
      "metadata": {
        "id": "TBFx4IfHVLs2"
      },
      "execution_count": 29,
      "outputs": []
    },
    {
      "cell_type": "markdown",
      "source": [
        "# 1.Indica las medidas de centralización: media, mediana y moda\n",
        "---\n",
        "Primeramente es importante destacar que las medidas de centralización nos indican en torno a qué valor del centro se distribuyen los datos.\n",
        "\n",
        "La **Media aritmetica** es el valor promedio de la distribución. Es \n",
        "por tanto, el valor medio obtenido al sumar todos los datos y\n",
        "dividir el resultado entre el número total de datos. A la media aritmética se la denomina también centro\n",
        "de gravedad de la distribución. \n",
        "\n",
        "La **Mediana** es el valor central de la distribución, es aquel que ocupa el lugar de todos los datos cuando éstos están ordenados de menor a mayor. Es, por tanto, el valor de la variable que separa\n",
        "la mitad superior de la distribución de la mitad inferior. Así divide la serie de datos en dos partes iguales.\n",
        "\n",
        "La **Moda** es el valor que más se repite en una distribución. La moda es el valor más frecuente, que tiene mayor frecuencia absoluta.\n",
        "Se puede hallar la moda tanto para variables cualitativas como para variables cuantitativas."
      ],
      "metadata": {
        "id": "C3LlWzh_a1A8"
      }
    },
    {
      "cell_type": "code",
      "source": [
        "from numpy.ma.extras import median\n",
        "from pandas.compat import numpy\n",
        "\n",
        "#Primeramente creo un dataframe (tp_df) para poder hallar las medidas con la función describe\n",
        "#de este modo tenemos un overview inicial del tipo de medidas que nos vamos a encontrar y lo \n",
        "#podemos calcular y contrastar, a posteriori con los calculos individuales para cada medida \n",
        "\n",
        "#Creamos un dataframe total_pagado para los calculos\n",
        "datos = df['total_pagado'].copy(deep='True')\n",
        "#En datos extraemos la informacion de la columna total pagado del df principal\n",
        "datos = datos.sort_values()\n",
        "tp_df = pd.DataFrame(datos)\n",
        "\n",
        "print(tp_df['total_pagado'].describe())\n",
        "#Funcion que nos indica el numero total de valores de la muestra (count)\n",
        "#la media (mean), la desviacion tipica (std), el valor minimo de la muestra (min), los 3 cuartiles\n",
        "#y el valor maximo de la muestra (max)\n",
        "\n",
        "#MEDIA ARITMETICA\n",
        "media_lista = list(df['total_pagado'])\n",
        "#Convertimos el objeto total_pagado en una lista \n",
        "media = sum(media_lista) / len(media_lista)\n",
        "print(\"El centro de gravedad de la distribucion es\" , media)\n",
        "#Conclusion resultado: es importante destacar que la media es muy sensible a las puntuaciones extremas, \n",
        "#en este caso considero que la media no es muy representativa de la distribucion\n",
        "#ya que tenemos una lista de datos muy distantes entre ellos (de 29.5 hasta 236) y considero\n",
        "#que estas puntuaciones extremas en cierto modo, alteran la media y su capacidad de representacion de la muestra\n",
        "\n",
        "#MEDIANA\n",
        "#Paso 1: ordenamos la lista de menor a mayor \n",
        "mediana_lista = sorted(media_lista)\n",
        "#Paso 2: identificar si el número total de elementos de la lista es par o impar\n",
        "longitud = len(mediana_lista)\n",
        "longitud\n",
        "indice = longitud // 2 \n",
        "if longitud % 2 == 0:\n",
        "  print('longitud par')\n",
        "else: \n",
        "  print('longitud impar')\n",
        "  mediana = mediana_lista[indice]\n",
        "\n",
        "print(\"La mediana es: \" , mediana)\n",
        "#Conclusion resultado: calculo una mediana para datos sin agrupar, \n",
        "#puesto que considero que en esta muestra y para los calculos que\n",
        "#se nos piden, agrupar los datos no es lo mas idoneo. \n",
        "#Una forma de confimar que el calculo de la mediana es correcto, es ver que \n",
        "#la mediana coincide con el valor del segundo cuartil (50%).\n",
        "\n",
        "\n",
        "#MODA\n",
        "resultado = []\n",
        "test_list1 = Counter(mediana_lista) \n",
        "temp = test_list1.most_common(1)[0][1] \n",
        "\n",
        "#Utilizo este bucle para encontrar las 2 modas\n",
        "for ele in mediana_lista:\n",
        "  if mediana_lista.count(ele) == temp:\n",
        "    resultado.append(ele)\n",
        "resultado = list(set(resultado))\n",
        "print(\"Se obtiene una moda bimodal, 2 valores que se repiten el mismo numero de veces: \" , resultado)\n",
        "\n",
        "#Conclusion resultado: \n",
        "#Calculo la moda para datos sin agrupar puesto que en este caso es lo que considero mas adecuado.\n",
        "#Se obtienen dos valores que tienen mayor frecuencia absoluta (moda bimodal).\n",
        "#Verifico cuantas veces se repiten los dos valores.\n",
        "resultado = []\n",
        "test_list1 = Counter(mediana_lista) \n",
        "temp = test_list1.most_common(1)[0][1] \n",
        "print(\"Los 2 valores de la moda se repiten\" , temp , \"veces cada uno de ellos\")\n",
        "#Confirmamos que hay 2 valores 8 veces repetidos (236 y 118).\n",
        "#Counter devuelve un diccionario de las veces que se repite cada valor dentro de la lista."
      ],
      "metadata": {
        "colab": {
          "base_uri": "https://localhost:8080/"
        },
        "id": "IjYCx_4Oa3rr",
        "outputId": "69f838ad-31b8-439c-b0a1-ea3842e694fc"
      },
      "execution_count": 54,
      "outputs": [
        {
          "output_type": "stream",
          "name": "stdout",
          "text": [
            "count     45.000000\n",
            "mean     147.308889\n",
            "std       57.936116\n",
            "min       29.500000\n",
            "25%      108.000000\n",
            "50%      135.000000\n",
            "75%      189.000000\n",
            "max      236.000000\n",
            "Name: total_pagado, dtype: float64\n",
            "El centro de gravedad de la distribucion es 147.30888888888887\n",
            "longitud impar\n",
            "La mediana es:  135.0\n",
            "Se obtiene una moda bimodal, 2 valores que se repiten el mismo numero de veces:  [236.0, 118.0]\n",
            "Los 2 valores de la moda se repiten 8 veces cada uno de ellos\n"
          ]
        }
      ]
    },
    {
      "cell_type": "markdown",
      "source": [
        "# 2-Indica las medidas de dispersión: rango, varianza, desviación típica y coeficiente de variación.\n",
        "---\n",
        "Las medidas de dispersión nos informan sobre cuánto se alejan del centro los valores de la distribución\n",
        "\n",
        "El **Rango o recorrido** es la diferencia entre el mayor y el menor de los datos de una distribución estadística (Xmax - Xmin).\n",
        "\n",
        "La **Varianza** es la media aritmética del cuadrado de las desviaciones respecto a la media de una distribución estadística.\n",
        "\n",
        "La **Desviación típica** , también llamada desviación estándar, es la raíz cuadrada positiva de la varianza. \n",
        "\n",
        "El **coeficiente de variación de Spearman (CV)** es la relación entre la desviación típica y su media. Esto es, es una medida estadística que ofrece información respecto de la dispersión relativa a un conjunto de datos.\n",
        "\n"
      ],
      "metadata": {
        "id": "-R7g6Ax4dyoS"
      }
    },
    {
      "cell_type": "code",
      "source": [
        "from re import M\n",
        "#Primero creamos un dataframe total_pagado para los calculos\n",
        "datos = df['total_pagado'].copy(deep='True')\n",
        "tp_df = pd.DataFrame(datos)\n",
        "\n",
        "#RANGO \n",
        "maximo_valor = max(mediana_lista)\n",
        "minimo_valor = min(mediana_lista)\n",
        "rango = maximo_valor - minimo_valor\n",
        "print(\"El rango es: \" , rango)\n",
        "#Conclusion resultado: puesto que los datos son distantes entre si\n",
        "#tiene sentido que el rango sea un valor elevado, esto indica que hay\n",
        "#diferencia entre el valor mayor y el menor de los datos \n",
        "\n",
        "#VARIANZA\n",
        "N = len(media_lista)\n",
        "#la longitud (numero de datos lista) es 45\n",
        "#tenemos que crear un bucle para la suma \n",
        "\n",
        "#Calculo de la varianza\n",
        "tp_df.var()\n",
        "print(tp_df.var(ddof=0))\n",
        "print(\"La varianza es: \" , tp_df.var())\n",
        "#Conclusion resultado: calculo la varianza para datos sin agrupar.\n",
        "#La varianza es un indice muy sensible a las puntuaciones extremas,\n",
        "#tiene sentido que el valor obtenido para la varianza sea elevado,\n",
        "#ya que las puntuaciones de los datos de nuestra muestra son mas bien extremos, \n",
        "#el valor obtenido de varianza es congruente.\n",
        "\n",
        "#DESVIACION TIPICA \n",
        "desviacion = tp_df.std()\n",
        "print(tp_df.std(ddof=0))\n",
        "print(\"La desviacion tipica es: \" , tp_df.std())\n",
        "#Conclusion resultado: la desviacion tipica es un indice muy sensible \n",
        "#a las puntuaciones extremas. Obtenemos un valor de desviacion tipica elevado, lo cual indica que la concentracion\n",
        "#de los datos alrededor de la media es baja. Si hubieramos obtenido un valor desviacion mas pequeño\n",
        "#la concentracion de datos alrededor de la media hubera sido mayor \n",
        "\n",
        "\n",
        "#COEFICIENTE DE VARIACION \n",
        "\"\"\"Es la relación entre la desviación típica y su media. \n",
        "Es una medida estadística que ofrece información respecto de la dispersión relativa a un conjunto\n",
        "de datos.\"\"\"\n",
        "\n",
        "coeficiente_var = desviacion/media\n",
        "print(\"El coeficiente de variacion es:\" , coeficiente_var)\n",
        "#Conclusion resultado:\n",
        "#Se obtiene un C.V  del 39% (menor al 80%). \n",
        "#Si nos ceñimos a la teoria esto significa que la media aritmetica es representativa\n",
        "#del conjunto de datos y es un conjunto de datos homogeneo.Sin embargo, me gustaria destacar\n",
        "#que se obtiene un C.V del 39%, puede que segun la teoria, con este valor de C.V la media si sea representativa del \n",
        "#conjunto de datos. Sin embargo, puesto que los datos son muy distantes entre ellos, \n",
        "#puede que hayan muestras de datos con medias mas representativas.\n",
        "#A mayor dispersión mayor coeficiente de variacion. \n",
        "#Mi pregunta es: ¿Quizas el limite del C.V del 80% para definir si los valores son homogeneos vs heterogeneos \n",
        "#es un % demasiado elevado y se deberia establecer un limite mas bajo (por ejemplo 40%) para confirmar\n",
        "#si la media aritmetica es o no representativa del conjunto de datos?"
      ],
      "metadata": {
        "colab": {
          "base_uri": "https://localhost:8080/"
        },
        "id": "IUFHASuxfCj0",
        "outputId": "e0d202ea-ba6d-4f2a-d64a-7e15f01c8b88"
      },
      "execution_count": 51,
      "outputs": [
        {
          "output_type": "stream",
          "name": "stdout",
          "text": [
            "El rango es:  206.5\n",
            "total_pagado    3282.002588\n",
            "dtype: float64\n",
            "La varianza es:  total_pagado    3356.593556\n",
            "dtype: float64\n",
            "total_pagado    57.288765\n",
            "dtype: float64\n",
            "La desviacion tipica es:  total_pagado    57.936116\n",
            "dtype: float64\n",
            "El coeficiente de variacion es: total_pagado    0.393297\n",
            "dtype: float64\n"
          ]
        }
      ]
    },
    {
      "cell_type": "markdown",
      "source": [
        "# 3-Indica las medidas de posición: rango intercuartílico, cuartil primero y decil 3. ¿Cuál es la factura que tiene como mínimo el 10% del total pagado de las facturas?\n",
        "---\n",
        "Las medidas de posición nos informan de dónde se alejan del centro los valores de la distribución. Para hacerlo, dividen un conjunto de datos en grupos con el mismo número de individuos. Para calcular las\n",
        "medidas de posición es necesario que los datos estén ordenados de menor a mayor.\n",
        "\n",
        "El **Rango intercuartílico** es la diferencia entre el tercer y el primer cuartil (Q3 - Q1).\n",
        "\n",
        "Los **Cuartiles** son los que dividen la serie de datos en cuatro partes iguales. Es decir, son los tres valores de la variable que dividen un conjunto de datos ordenados en cuatro partes iguales. Determinan los valores correspondientes al 25%, al 50% y al 75% de los datos. El cuartil segundo coincide con la mediana.\n",
        "\n",
        "Los **Deciles** son los que dividen la serie de datos en diez partes iguales. Es decir, son los nueve valores que dividen la serie de datos en diez partes iguales. Los deciles dan los valores correspondientes al 10%, al 20%... y al 90% de los datos. El decil quinto coincide con la mediana.\n",
        "\n"
      ],
      "metadata": {
        "id": "AyF9K3fOG_-U"
      }
    },
    {
      "cell_type": "code",
      "source": [
        "#Creamos un dataframe total_pagado para los calculos\n",
        "datos = df['total_pagado'].copy(deep='True')\n",
        "datos = datos.sort_values()\n",
        "tp_df = pd.DataFrame(datos)\n",
        "\n",
        "#CALCULO DE LOS CUARTILES \n",
        "CV2 = math.ceil(2*N/4) -1\n",
        "#en CV2 calculamos la posicon dentro de la lista que va a tener el cuartil 2\n",
        "#-1 para ajustar el rango y que inicie en 0\n",
        "\n",
        "Q2 = mediana_lista[CV2] \n",
        "Q1 = st.median(mediana_lista[:CV2])\n",
        "Q3 = st.median(mediana_lista[CV2:])\n",
        "print(\"El valor del cuartil 1 es: \" , Q1)\n",
        "\n",
        "#Explicacion del calculo: calculo los cuartiles de los datos sin agrupar.\n",
        "#Utilizo la lista de datos ordenados de menor a mayor (mediana_lista).\n",
        "\n",
        "#RANGO INTERCUARTILICO \n",
        "RC = Q3 - Q1\n",
        "print(\"El rango intercuartilico es: \" , RC)\n",
        "\n",
        "#DECIL 3\n",
        "D3 = np.percentile(mediana_lista, 30, interpolation = 'midpoint')\n",
        "D1 = np.percentile(mediana_lista, 10, interpolation = 'midpoint')\n",
        "D5 = np.percentile(mediana_lista, 50, interpolation = 'midpoint')\n",
        "print(\"El valor del decil 5 es: \" , D5)\n",
        "print(\"El valor del decil 3 es: \" , D3)\n",
        "\n",
        "#Conclusion del resultado: confirmo que los calculos de los deciles son correctos\n",
        "#puesto que el decil 5 coincide con la mediana \n",
        "\n",
        "###¿Cuál es la factura que tiene como minimo el 10% del total pagado de las facturas?\n",
        "#Nos estan preguntando por el percentil 90 \n",
        "p90 = np.percentile(mediana_lista, 90, interpolation = 'midpoint')\n",
        "print(\"El percentil 90 es: \" , p90)\n",
        "\n",
        "#El resultado es que el percentil 90 muestra la factura que tiene como minimo\n",
        "#el 10% del total pagado de las facturas, es decir, el 90% de las facturas cumple \n",
        "#la condicion. El percentil 90 corresponde con el valor 236, las facturas\n",
        "#que tienen un total pagado de 236 € tienen como minimo el 10% del total pagado de las facturas.\n"
      ],
      "metadata": {
        "colab": {
          "base_uri": "https://localhost:8080/"
        },
        "id": "uoj3smnMHEDD",
        "outputId": "de7c55dd-9770-40af-ac4a-004cfd16a2f1"
      },
      "execution_count": 59,
      "outputs": [
        {
          "output_type": "stream",
          "name": "stdout",
          "text": [
            "El valor del cuartil 1 es:  108.0\n",
            "El rango intercuartilico es:  81.0\n",
            "El valor del decil 5 es:  135.0\n",
            "El valor del decil 3 es:  118.0\n",
            "El percentil 90 es:  236.0\n"
          ]
        }
      ]
    },
    {
      "cell_type": "markdown",
      "source": [
        "4-Indica las medidas de concentración y forma: curtosis, asimetría y un gráfico.\n",
        "---\n",
        "\n",
        "También llamadas medidas de distribución. Estas medidas nos informan sobre cómo se alejan del centro los valores de la distribución. Cada medida de concentración genera una \"forma\" característica de la\n",
        "distribución.\n",
        "\n",
        "La **Curtosis o apuntamiento** indica cómo están de concentrados los valores en la gráfica. En él se estudia la distribución de frecuencias en la zona central. El apuntamiento se mide respecto de la campana de Gauss, que es unimodal y simétrica. Dicho de otra manera, el apuntamiento se compara con la campana de Gauss, por tanto se compara con una distribución que cumple la propiedad: Media = Mediana = Moda.  \n",
        "\n",
        "La **Asimetría** indica cómo de simétrica es la gráfica. Se halla a través del Coeficiente de Asimetría de Fisher (CAF) también se puede ver la forma que tiene la distribución gráficamente, observando el\n",
        "comportamiento que tiene el eje de la distribución con respecto a la media aritmética. Evaluando la proximidad o lejanía de los datos con respecto a la media.\n"
      ],
      "metadata": {
        "id": "Mz30oJm5lwMc"
      }
    },
    {
      "cell_type": "code",
      "source": [
        "#CURTOSIS\n",
        "suma2 = 0\n",
        "for xi in mediana_lista:\n",
        "  suma2 += ((xi - media)**4) \n",
        "\n",
        "curtosis_fisher = ((suma2)/(N*desviacion ** 4)) - 3 \n",
        "curtosis_pearson = ((suma2)/(N*desviacion ** 4))\n",
        "\n",
        "#CURTOSIS DE FISHER\n",
        "print(\"La curtosis de Fisher es: \" , curtosis_fisher)\n",
        "print(\"La curtosis de Fisher con el calculo 2 es: \" , sp.kurtosis(mediana_lista, fisher = True))\n",
        "\n",
        "#CURTOSIS DE PEARSON\n",
        "print(\"La curtosis de Pearson es: \" , curtosis_pearson)\n",
        "print(sp.kurtosis(mediana_lista, fisher = False)) #pearson\n",
        "#si Fisher es false por defecto es curtosis de Pearson\n",
        "\n",
        "#ASIMETRIA O SESGO \n",
        "suma3 = 0 \n",
        "for ki in mediana_lista:\n",
        "  suma3 += ((ki - media)**3) \n",
        "asimetria = suma3 / (N* desviacion**3)\n",
        "print(\"La asimetria es : \" , asimetria)\n",
        "\n",
        "print(sp.skew(mediana_lista)) \n",
        "#con esta funcion comprobamos \n",
        "\n",
        "grafico1= sns.distplot(mediana_lista , bins=10 , axlabel = \"Total_pagado\" , color = \"green\")\n",
        "print(grafico1)\n"
      ],
      "metadata": {
        "colab": {
          "base_uri": "https://localhost:8080/",
          "height": 508
        },
        "id": "_1BbON5nl1VL",
        "outputId": "d038b396-3c8b-41eb-c39e-b12f58a1153a"
      },
      "execution_count": 60,
      "outputs": [
        {
          "output_type": "stream",
          "name": "stdout",
          "text": [
            "La curtosis de Fisher es:  total_pagado   -0.938244\n",
            "dtype: float64\n",
            "La curtosis de Fisher con el calculo 2 es:  -0.8434624840832035\n",
            "La curtosis de Pearson es:  total_pagado    2.061756\n",
            "dtype: float64\n",
            "2.1565375159167965\n",
            "La asimetria es :  total_pagado    0.090108\n",
            "dtype: float64\n",
            "0.09319685759185271\n",
            "AxesSubplot(0.125,0.125;0.775x0.755)\n"
          ]
        },
        {
          "output_type": "stream",
          "name": "stderr",
          "text": [
            "/usr/local/lib/python3.7/dist-packages/seaborn/distributions.py:2619: FutureWarning: `distplot` is a deprecated function and will be removed in a future version. Please adapt your code to use either `displot` (a figure-level function with similar flexibility) or `histplot` (an axes-level function for histograms).\n",
            "  warnings.warn(msg, FutureWarning)\n"
          ]
        },
        {
          "output_type": "display_data",
          "data": {
            "image/png": "[encoded data removed]",
            "text/plain": [
              "<Figure size 432x288 with 1 Axes>"
            ]
          },
          "metadata": {
            "needs_background": "light"
          }
        }
      ]
    },
    {
      "cell_type": "markdown",
      "source": [
        "# Conclusiones del gráfico distplot\n",
        "\n",
        "El gráfico hace referencia a la distribucion de los datos, se obtiene un gráfico de campana ligeramente asimetrica y verificamos que la información es coeherente.\n",
        "Usamos la funcion distplot de la biblioteca seaborn para realizar el gráfico. El resultado obtenido es una gráfica en la que se observa una curva de asimetría positiva, puesto que el valor calculado es positivo, aunque es cercano a 0 y por lo tanto no presenta una asimetria muy destacada.\n",
        "\n",
        "\n",
        "Calcuamos 2 tipos de curtosis, segun el método de Pearson y Fisher (-0.84). Según el valor obtenido con el metodo de Fisher (-0.84) la curtosis es Platicúrtica, lo cual nos indica que hay menos concentración en los valores centrales de la variable. Esto nos confirma que los valores son distantes entre ellos y es congruente con los valores de varianza y desviación típica obtenidos. Estos tres valores (curtosis, varianza y desviación típica) nos confirman que la concentración de los valores alrededor de la media es baja.\n",
        "\n",
        "Adicionalmente calculamos la curtosis con la formula de Pearson y nos da como resultado una curtosis Leptocurtica (más concentración en los valores centrales). Considero que para este ejercico el cálculo de la curtosis más adecuado és el que utiliza la fórmula de Fisher, ya que hemos comprobado que la concentración de los valores alrededor de la media es baja y por lo tanto hay poca concentración en los valores centrales. También es importante destacar que estamos hallando la asimetria con el Coeficiente de Asimetría de Fisher (CAF).\n"
      ],
      "metadata": {
        "id": "CyLrwa3_bSPm"
      }
    },
    {
      "cell_type": "markdown",
      "source": [
        "# 5-Realiza un análisis rápido con box-plot y sus medidas."
      ],
      "metadata": {
        "id": "06NquAgY33v3"
      }
    },
    {
      "cell_type": "code",
      "source": [
        "#GRAFICO BOXPLOT\n",
        "grafico2= sns.boxplot(data = mediana_lista , color = \"violet\")\n"
      ],
      "metadata": {
        "colab": {
          "base_uri": "https://localhost:8080/",
          "height": 265
        },
        "id": "RYUbyYSu4TJC",
        "outputId": "4d903942-14ab-4e16-cde1-e93ac9b8e470"
      },
      "execution_count": null,
      "outputs": [
        {
          "output_type": "display_data",
          "data": {
            "image/png": "[encoded data removed]",
            "text/plain": [
              "<Figure size 432x288 with 1 Axes>"
            ]
          },
          "metadata": {
            "needs_background": "light"
          }
        }
      ]
    },
    {
      "cell_type": "markdown",
      "source": [
        "# Conclusiones del gráfico boxplot\n",
        "\n",
        "Utilizamos el gráfico de boxplot para recoger las medidas de dispersión y de centralización. En este se muestran 5 valores relevantes: el valor minimo (29.5), el valor máximo (236), y los 3 cuartiles. \n",
        "Whisker indica la distancia/dispersión que hay des del valor minimo (29.5) hasta Q1 y des del valor del Q3 hasta el valor mayor de los datos (236). Podemos destacar que no hay valores atípicos (outliers) en los datos que estamos analizando.\n",
        "Otro valor relevante que se puede observar en el gráfico de boxplot es el RC (rango intercuartilico), es decir donde se ubica  el 50% de los datos de la muestra (Q3-Q1).\n",
        "Concluimos que los datos visualizados en el gráfico boxplot indican que la dispersión entre ellos es media. \n"
      ],
      "metadata": {
        "id": "xs26FsT8sH0r"
      }
    },
    {
      "cell_type": "markdown",
      "source": [
        "# 6 - Analiza los resultados e informa de quién es el cliente que ha pagado más en todas las facturas."
      ],
      "metadata": {
        "id": "0lZ_Mx2UQZYK"
      }
    },
    {
      "cell_type": "code",
      "source": [
        "data6 = df['cliente'].copy(deep='True')\n",
        "tpc_df = pd.DataFrame(data6)\n",
        "tpc_df['Total_pagado'] = df['total_pagado'].copy(deep='True')\n",
        "tpc_df['Factura_pagada'] = df['factura_pagada'].copy(deep='True')\n",
        "\n",
        "groups = tpc_df.groupby(tpc_df.cliente)\n",
        "clienteA = groups.get_group(\"clienteA\")\n",
        "clienteB = groups.get_group(\"clienteB\")\n",
        "clienteC = groups.get_group(\"clienteC\")\n",
        "clienteD = groups.get_group(\"clienteD\")\n",
        "\n",
        "clientes = [\"clienteA\" , \"clienteB\" , \"clienteC\" , \"clienteD\"]\n",
        "\n",
        "grupo31 = clienteA.groupby(clienteA.Factura_pagada)\n",
        "df_clienteA = grupo31.get_group(\"si\")\n",
        "grupo32 = clienteB.groupby(clienteB.Factura_pagada)\n",
        "df_clienteB = grupo32.get_group(\"si\")\n",
        "grupo33 = clienteC.groupby(clienteC.Factura_pagada)\n",
        "df_clienteC = grupo33.get_group(\"si\")\n",
        "grupo34 = clienteD.groupby(clienteD.Factura_pagada)\n",
        "df_clienteD = grupo34.get_group(\"si\")\n",
        "\n",
        "totalA = df_clienteA['Total_pagado'].sum()\n",
        "totalB = df_clienteB['Total_pagado'].sum()\n",
        "totalC = df_clienteC['Total_pagado'].sum()\n",
        "totalD = df_clienteD['Total_pagado'].sum()\n",
        "\n",
        "print(\"Total pagado cliente A: \" , totalA)\n",
        "print(\"Total pagado cliente B: \" , totalB)\n",
        "print(\"Total pagado cliente C: \" , totalC)\n",
        "print(\"Total pagado cliente D: \" ,totalD)\n",
        "\n",
        "#crear un nuevo df a partir de los df que ya tenemos \n",
        "data_cliente = pd.DataFrame(\n",
        "    {'Cliente': ['Cliente A','Cliente B','Cliente C','Cliente D'],\n",
        "     'Total Pagado': [totalA,totalB,totalC,totalD]\n",
        "     }\n",
        ")\n",
        "\n",
        "data_cliente.plot.bar(x='Cliente', y='Total Pagado', rot=90, title='Total de facturas pagado por cliente', xlabel='CLIENTES', ylabel= 'TOTAL PAGADO')\n",
        "plt.show()\n"
      ],
      "metadata": {
        "colab": {
          "base_uri": "https://localhost:8080/",
          "height": 400
        },
        "id": "F3FhXlJmQek2",
        "outputId": "d698c01d-d139-4ff4-972d-2ec903c76459"
      },
      "execution_count": 71,
      "outputs": [
        {
          "output_type": "stream",
          "name": "stdout",
          "text": [
            "Total pagado cliente A:  1534.0\n",
            "Total pagado cliente B:  924.0\n",
            "Total pagado cliente C:  584.5\n",
            "Total pagado cliente D:  1534.0\n"
          ]
        },
        {
          "output_type": "display_data",
          "data": {
            "image/png": "[encoded data removed]",
            "text/plain": [
              "<Figure size 432x288 with 1 Axes>"
            ]
          },
          "metadata": {
            "needs_background": "light"
          }
        }
      ]
    },
    {
      "cell_type": "markdown",
      "source": [
        "# Conclusiones del gráfico de barras \n",
        "Para saber cual es el cliente que más ha pagado en todas la facturas primero agrupo por clientes, luego filtro por las facturas si pagadas y finalemnte sumo el total pagado.\n",
        "Los datos nos muestran que el cliente A y D son quienes mas han \n",
        "pagado en todas las facturas (1534) y el cliente C es quien ha pagado menos (584.5).\n"
      ],
      "metadata": {
        "id": "gCgRG0DydjOK"
      }
    },
    {
      "cell_type": "markdown",
      "source": [
        "# 7 -Quién es el cliente que más facturas no ha pagado en el mes de febrero?"
      ],
      "metadata": {
        "id": "bek6eaFNaRWb"
      }
    },
    {
      "cell_type": "code",
      "source": [
        "dat2 = df['mes'].copy(deep='True')\n",
        "mcfp_df = pd.DataFrame(dat2)\n",
        "mcfp_df['Clientes'] = df['cliente'].copy(deep='True')\n",
        "mcfp_df['Factura_Pagada'] = df['factura_pagada'].copy(deep='True')\n",
        "\n",
        "groupo1 = mcfp_df.groupby(mcfp_df.mes)\n",
        "df_febrero = groupo1.get_group(\"Febrero\")\n",
        "\n",
        "grupo2 = df_febrero.groupby(df_febrero.Clientes)\n",
        "dfclienteA = grupo2.get_group(\"clienteA\")\n",
        "dfclienteB = grupo2.get_group(\"clienteB\")\n",
        "dfclienteC = grupo2.get_group(\"clienteC\")\n",
        "dfclienteD = grupo2.get_group(\"clienteD\")\n",
        "\n",
        "grupo31 = dfclienteA.groupby(dfclienteA.Factura_Pagada)\n",
        "df_clienteA = grupo31.get_group(\"no\")\n",
        "grupo32 = dfclienteB.groupby(dfclienteB.Factura_Pagada)\n",
        "df_clienteB = grupo32.get_group(\"no\")\n",
        "grupo33 = dfclienteC.groupby(dfclienteC.Factura_Pagada)\n",
        "df_clienteC = grupo33.get_group(\"no\")\n",
        "grupo34 = dfclienteD.groupby(dfclienteD.Factura_Pagada)\n",
        "df_clienteD = grupo34.get_group(\"no\")\n",
        "\n",
        "tA = len(df_clienteA.index)\n",
        "tB = len(df_clienteB.index)\n",
        "tC = len(df_clienteC.index)\n",
        "tD = len(df_clienteD.index)\n",
        "\n",
        "data_cliente2 = pd.DataFrame(\n",
        "    {'Cliente': ['Cliente A','Cliente B','Cliente C','Cliente D'],\n",
        "     'Total Facturas sin Pagar': [tA,tB,tC,tD]\n",
        "     }\n",
        ")\n",
        "\n",
        "data_cliente2.plot.bar(x='Cliente', y='Total Facturas sin Pagar', rot=90, title='Total de facturas no pagadas en febrero', xlabel='CLIENTES', ylabel= 'TOTAL FACTURAS SIN PAGAR')\n",
        "plt.show()\n",
        "\n"
      ],
      "metadata": {
        "colab": {
          "base_uri": "https://localhost:8080/",
          "height": 331
        },
        "id": "cfEQAoVYfrIk",
        "outputId": "e9f8ad1e-4f28-4598-d706-b3c69f2cd20c"
      },
      "execution_count": 72,
      "outputs": [
        {
          "output_type": "display_data",
          "data": {
            "image/png": "[encoded data removed]",
            "text/plain": [
              "<Figure size 432x288 with 1 Axes>"
            ]
          },
          "metadata": {
            "needs_background": "light"
          }
        }
      ]
    },
    {
      "cell_type": "markdown",
      "source": [
        "# Conclusiones del gráfico de barras\n",
        "En el gráfico se observa claramente que el cliente C es el que tiene más facturas no pagadas en febrero (2) en contraste con los clientes A, B y D que tienen 1 factura sin pagar en el mes de febrero."
      ],
      "metadata": {
        "id": "cVF0pguLuv_X"
      }
    },
    {
      "cell_type": "markdown",
      "source": [
        "# 8- Crea un gráfico que represente el total pagado de las facturas respecto del IVA aplicado. / 9-Determina el valor de la covarianza de ambas variables. "
      ],
      "metadata": {
        "id": "A-7mwnehaV1Q"
      }
    },
    {
      "cell_type": "code",
      "source": [
        "plt.title(\"Total pagado de las facturas respecto al IVA aplicado\")\n",
        "plt.xlabel(\"IVA\")\n",
        "plt.ylabel(\"Total pagado\")\n",
        "\n",
        "x = list(df['IVA'].values)\n",
        "y = list(df['total_pagado'].values)\n",
        "plt.scatter(x, y, c='blue')\n",
        "\n",
        "xn = list(sorted(set(x)))\n",
        "yn = list(sorted(set(y))) \n",
        "test = list(sorted(y))\n",
        "test_l = Counter(test)\n",
        "tex = []\n",
        "for ind in yn:\n",
        "  tex.append(test_l[ind])\n",
        "print(yn) \n",
        "print(tex)  \n",
        "ynn = [32.4,29.5,108.0,59.0,135.0,88.5,189.0,118.0,147.5,177.0,206.5,236.0]\n",
        "text = [1,1,4,1,2,6,2,8,4,6,2,8]\n",
        "for i in range(len(xn)):\n",
        "    plt.annotate(text[i], (xn[i]+0.5, ynn[i]+0.5)) \n",
        "plt.show()\n",
        "\n",
        "array1 = np.array(df['IVA'])\n",
        "array2 = np.array(df['total_pagado'])\n",
        "covariance = np.cov(array1, array2, ddof=0)[0][1]\n",
        "print(\"La covarianza es \" , covariance)\n"
      ],
      "metadata": {
        "colab": {
          "base_uri": "https://localhost:8080/",
          "height": 347
        },
        "id": "E6_2r7XP5SFM",
        "outputId": "62e3abc3-de6c-49b6-a292-27fb835c4ae8"
      },
      "execution_count": 78,
      "outputs": [
        {
          "output_type": "stream",
          "name": "stdout",
          "text": [
            "[29.5, 32.4, 59.0, 88.5, 108.0, 118.0, 135.0, 147.5, 177.0, 189.0, 206.5, 236.0]\n",
            "[1, 1, 1, 6, 4, 8, 2, 4, 6, 2, 2, 8]\n"
          ]
        },
        {
          "output_type": "display_data",
          "data": {
            "image/png": "[encoded data removed]",
            "text/plain": [
              "<Figure size 432x288 with 1 Axes>"
            ]
          },
          "metadata": {
            "needs_background": "light"
          }
        },
        {
          "output_type": "stream",
          "name": "stdout",
          "text": [
            "La covarianza es  515.0628345679012\n"
          ]
        }
      ]
    },
    {
      "cell_type": "markdown",
      "source": [
        "# Conclusiones del diagrama de dispersión y de la covarianza\n",
        "Los datos del diagrama de dispersión (distribución bidimensional) indican varios aspectos relevantes. En primer lugar, cada punto representa una observación, es decir en cada punto del gráfico se observa la coincidencia de los valores X e Y. En nuestro gráfico analizamos cuantas facturas del total pagado tienen un mismo IVA. \n",
        "Se puede ver una dependencia positiva puesto que la curva es ascendente. Es decir, a mayor valor de total pagado mayor será el valor del IVA, lo cual tiene sentido, ya que los productos más caros generalmente son los que tienen un IVA superior y viceversa. No obstante, es relevante destacar las excepciones que se visualizan en este gráfico. El total pagado de algunos valores es bastante elevado y en cambio tienen un IVA inferior comparado con la mayoría de los datos. \n",
        "\n",
        "El valor obtenido de la **covarianza** para ambas variables es de 515.06.\n",
        "La covarianza es el momento centrado más importante en estadística bidimensional. Es importante destacar que obtenemos una covarianza de signo positivo lo cual implica una relación directa entre las 2 variables. Concluyo que el resultado de la covarianza es congruente con los datos que se visualizan en el diagrama de dispersión, ya que en ambos se confirma la relación directa y positiva de ambas variables (IVA y total pagado).\n"
      ],
      "metadata": {
        "id": "cA7e5HZ07AX4"
      }
    }
  ]
}