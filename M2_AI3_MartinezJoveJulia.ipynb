{
  "nbformat": 4,
  "nbformat_minor": 0,
  "metadata": {
    "colab": {
      "name": "M2_AI3_MartinezJoveJulia.ipynb",
      "provenance": [],
      "toc_visible": true
    },
    "kernelspec": {
      "name": "python3",
      "display_name": "Python 3"
    },
    "language_info": {
      "name": "python"
    }
  },
  "cells": [
    {
      "cell_type": "code",
      "execution_count": 407,
      "metadata": {
        "id": "89hYuG1SopuI"
      },
      "outputs": [],
      "source": [
        "#Import libraries\n",
        "import pandas as pd\n",
        "import numpy as np \n",
        "import matplotlib.pyplot as plt\n",
        "import plotly.express as px \n",
        "import math \n",
        "import statistics as st\n",
        "from collections import Counter\n",
        "import scipy.stats as sp\n",
        "import seaborn as sns \n",
        "import statsmodels.api as sm\n"
      ]
    },
    {
      "cell_type": "code",
      "source": [
        "url = 'https://raw.githubusercontent.com/md-lorente/data/master/datos_ventas.csv'\n",
        "#Creacion Dataframe\n",
        "df_ventas= pd.read_csv(url, sep = ';',decimal =',')\n",
        "df_ventas.head()\n"
      ],
      "metadata": {
        "colab": {
          "base_uri": "https://localhost:8080/",
          "height": 206
        },
        "id": "FVVyzrXMo35D",
        "outputId": "8a111a31-4521-4744-a840-c6a68ab45da7"
      },
      "execution_count": 408,
      "outputs": [
        {
          "output_type": "execute_result",
          "data": {
            "text/html": [
              "\n",
              "  <div id=\"df-df0f4c55-2a65-4a18-811a-e0a9a3e3a7cf\">\n",
              "    <div class=\"colab-df-container\">\n",
              "      <div>\n",
              "<style scoped>\n",
              "    .dataframe tbody tr th:only-of-type {\n",
              "        vertical-align: middle;\n",
              "    }\n",
              "\n",
              "    .dataframe tbody tr th {\n",
              "        vertical-align: top;\n",
              "    }\n",
              "\n",
              "    .dataframe thead th {\n",
              "        text-align: right;\n",
              "    }\n",
              "</style>\n",
              "<table border=\"1\" class=\"dataframe\">\n",
              "  <thead>\n",
              "    <tr style=\"text-align: right;\">\n",
              "      <th></th>\n",
              "      <th>Fecha_anual</th>\n",
              "      <th>Inversion</th>\n",
              "      <th>Ventas</th>\n",
              "    </tr>\n",
              "  </thead>\n",
              "  <tbody>\n",
              "    <tr>\n",
              "      <th>0</th>\n",
              "      <td>1980</td>\n",
              "      <td>1.0</td>\n",
              "      <td>4.61</td>\n",
              "    </tr>\n",
              "    <tr>\n",
              "      <th>1</th>\n",
              "      <td>1981</td>\n",
              "      <td>1.5</td>\n",
              "      <td>5.18</td>\n",
              "    </tr>\n",
              "    <tr>\n",
              "      <th>2</th>\n",
              "      <td>1982</td>\n",
              "      <td>2.0</td>\n",
              "      <td>5.09</td>\n",
              "    </tr>\n",
              "    <tr>\n",
              "      <th>3</th>\n",
              "      <td>1983</td>\n",
              "      <td>2.5</td>\n",
              "      <td>5.44</td>\n",
              "    </tr>\n",
              "    <tr>\n",
              "      <th>4</th>\n",
              "      <td>1984</td>\n",
              "      <td>3.0</td>\n",
              "      <td>0.62</td>\n",
              "    </tr>\n",
              "  </tbody>\n",
              "</table>\n",
              "</div>\n",
              "      <button class=\"colab-df-convert\" onclick=\"convertToInteractive('df-df0f4c55-2a65-4a18-811a-e0a9a3e3a7cf')\"\n",
              "              title=\"Convert this dataframe to an interactive table.\"\n",
              "              style=\"display:none;\">\n",
              "        \n",
              "  <svg xmlns=\"http://www.w3.org/2000/svg\" height=\"24px\"viewBox=\"0 0 24 24\"\n",
              "       width=\"24px\">\n",
              "    <path d=\"M0 0h24v24H0V0z\" fill=\"none\"/>\n",
              "    <path d=\"M18.56 5.44l.94 2.06.94-2.06 2.06-.94-2.06-.94-.94-2.06-.94 2.06-2.06.94zm-11 1L8.5 8.5l.94-2.06 2.06-.94-2.06-.94L8.5 2.5l-.94 2.06-2.06.94zm10 10l.94 2.06.94-2.06 2.06-.94-2.06-.94-.94-2.06-.94 2.06-2.06.94z\"/><path d=\"M17.41 7.96l-1.37-1.37c-.4-.4-.92-.59-1.43-.59-.52 0-1.04.2-1.43.59L10.3 9.45l-7.72 7.72c-.78.78-.78 2.05 0 2.83L4 21.41c.39.39.9.59 1.41.59.51 0 1.02-.2 1.41-.59l7.78-7.78 2.81-2.81c.8-.78.8-2.07 0-2.86zM5.41 20L4 18.59l7.72-7.72 1.47 1.35L5.41 20z\"/>\n",
              "  </svg>\n",
              "      </button>\n",
              "      \n",
              "  <style>\n",
              "    .colab-df-container {\n",
              "      display:flex;\n",
              "      flex-wrap:wrap;\n",
              "      gap: 12px;\n",
              "    }\n",
              "\n",
              "    .colab-df-convert {\n",
              "      background-color: #E8F0FE;\n",
              "      border: none;\n",
              "      border-radius: 50%;\n",
              "      cursor: pointer;\n",
              "      display: none;\n",
              "      fill: #1967D2;\n",
              "      height: 32px;\n",
              "      padding: 0 0 0 0;\n",
              "      width: 32px;\n",
              "    }\n",
              "\n",
              "    .colab-df-convert:hover {\n",
              "      background-color: #E2EBFA;\n",
              "      box-shadow: 0px 1px 2px rgba(60, 64, 67, 0.3), 0px 1px 3px 1px rgba(60, 64, 67, 0.15);\n",
              "      fill: #174EA6;\n",
              "    }\n",
              "\n",
              "    [theme=dark] .colab-df-convert {\n",
              "      background-color: #3B4455;\n",
              "      fill: #D2E3FC;\n",
              "    }\n",
              "\n",
              "    [theme=dark] .colab-df-convert:hover {\n",
              "      background-color: #434B5C;\n",
              "      box-shadow: 0px 1px 3px 1px rgba(0, 0, 0, 0.15);\n",
              "      filter: drop-shadow(0px 1px 2px rgba(0, 0, 0, 0.3));\n",
              "      fill: #FFFFFF;\n",
              "    }\n",
              "  </style>\n",
              "\n",
              "      <script>\n",
              "        const buttonEl =\n",
              "          document.querySelector('#df-df0f4c55-2a65-4a18-811a-e0a9a3e3a7cf button.colab-df-convert');\n",
              "        buttonEl.style.display =\n",
              "          google.colab.kernel.accessAllowed ? 'block' : 'none';\n",
              "\n",
              "        async function convertToInteractive(key) {\n",
              "          const element = document.querySelector('#df-df0f4c55-2a65-4a18-811a-e0a9a3e3a7cf');\n",
              "          const dataTable =\n",
              "            await google.colab.kernel.invokeFunction('convertToInteractive',\n",
              "                                                     [key], {});\n",
              "          if (!dataTable) return;\n",
              "\n",
              "          const docLinkHtml = 'Like what you see? Visit the ' +\n",
              "            '<a target=\"_blank\" href=https://colab.research.google.com/notebooks/data_table.ipynb>data table notebook</a>'\n",
              "            + ' to learn more about interactive tables.';\n",
              "          element.innerHTML = '';\n",
              "          dataTable['output_type'] = 'display_data';\n",
              "          await google.colab.output.renderOutput(dataTable, element);\n",
              "          const docLink = document.createElement('div');\n",
              "          docLink.innerHTML = docLinkHtml;\n",
              "          element.appendChild(docLink);\n",
              "        }\n",
              "      </script>\n",
              "    </div>\n",
              "  </div>\n",
              "  "
            ],
            "text/plain": [
              "   Fecha_anual  Inversion  Ventas\n",
              "0         1980        1.0    4.61\n",
              "1         1981        1.5    5.18\n",
              "2         1982        2.0    5.09\n",
              "3         1983        2.5    5.44\n",
              "4         1984        3.0    0.62"
            ]
          },
          "metadata": {},
          "execution_count": 408
        }
      ]
    },
    {
      "cell_type": "code",
      "source": [
        "print(df_ventas.info())"
      ],
      "metadata": {
        "colab": {
          "base_uri": "https://localhost:8080/"
        },
        "id": "I4yKN-zgTNdm",
        "outputId": "05129ff7-202d-4892-a7b1-8fa0b89ca92f"
      },
      "execution_count": 409,
      "outputs": [
        {
          "output_type": "stream",
          "name": "stdout",
          "text": [
            "<class 'pandas.core.frame.DataFrame'>\n",
            "RangeIndex: 38 entries, 0 to 37\n",
            "Data columns (total 3 columns):\n",
            " #   Column       Non-Null Count  Dtype  \n",
            "---  ------       --------------  -----  \n",
            " 0   Fecha_anual  38 non-null     int64  \n",
            " 1   Inversion    38 non-null     float64\n",
            " 2   Ventas       38 non-null     float64\n",
            "dtypes: float64(2), int64(1)\n",
            "memory usage: 1.0 KB\n",
            "None\n"
          ]
        }
      ]
    },
    {
      "cell_type": "markdown",
      "source": [
        "# 1- Análisis de las variables \n",
        "---\n",
        "**Primeramente identifico el tipo de variables, la clasificación a la que corresponden las variables y identifico el tipo de variables que serían desde el punto de vista del análisis de datos.**\n",
        "\n",
        "**Fecha_anual:** variable que se refiere a la fecha, es decir, el año en el que se produjo la inversión y la venta. \n",
        "\n",
        "Clasificación de la variable estadística: es una variable que se recoge de manera numérica, es cuantitativa y continua en su naturaleza, puesto que puede tomar un número de valores infinitos.\n",
        "\n",
        "Análisis de datos: se recoge de manera numérica pero es categórica, ya que no tiene sentido sumar los años. Se trata de una variable recogida o expresada de forma numérica cuyo uso es categórico y ordinal. Se utiliza para clasificar la información sobre el año/fecha en la que ha ocurrido un suceso.\n",
        "\n",
        "**Inversión y Ventas:** la inversión indica la cantidad de millones de € que la empresa ha invertido en un año determinado. La variable ventas se refiere a las ventas que ha tenido la empresa en millones de € por un año determinado. \n",
        "\n",
        "Clasificación de la variable estadística: ambas son variables cuantitativas (se pueden cuantificar/medir) y continuas ya que tanto la inversión como las ventas estan en millones de €, esto indica un valor en dinero que puede tomar un número de valores infinitos.\n",
        "\n",
        "Análisis de datos: ambas son variables analíticas, puesto que el dinero se representa en un número que expresa una cantidad en millones de € específica."
      ],
      "metadata": {
        "id": "dboKgDdCo8Ie"
      }
    },
    {
      "cell_type": "markdown",
      "source": [
        "# 2- Ajustar un modelo de regresión lineal. Obtener una estimación de los parámetros del modelo y su interpretación.\n",
        "---\n"
      ],
      "metadata": {
        "id": "-7pOh9SHpBHH"
      }
    },
    {
      "cell_type": "code",
      "source": [
        "#Creacion del grafico de dispersion\n",
        "plt.title(\"Regresion lineal ventas y inversion\")\n",
        "plt.xlabel(\"INVERSION\")\n",
        "plt.ylabel(\"VENTAS\")\n",
        "\n",
        "x = list(df_ventas['Inversion'].values)\n",
        "y = list(df_ventas['Ventas'].values)\n",
        "plt.scatter(x, y, c='green')\n",
        "plt.show()\n",
        "\n",
        "#Calculo de la covarianza \n",
        "covarianza = df_ventas.cov()[\"Inversion\"][\"Ventas\"]\n",
        "print(\"La covarianza es:\" , covarianza)\n"
      ],
      "metadata": {
        "colab": {
          "base_uri": "https://localhost:8080/",
          "height": 313
        },
        "id": "Lfz79ql-pHTG",
        "outputId": "98ba7a68-de46-4639-c592-f4f40bab9acf"
      },
      "execution_count": 410,
      "outputs": [
        {
          "output_type": "display_data",
          "data": {
            "image/png": "[encoded data removed]",
            "text/plain": [
              "<Figure size 432x288 with 1 Axes>"
            ]
          },
          "metadata": {
            "needs_background": "light"
          }
        },
        {
          "output_type": "stream",
          "name": "stdout",
          "text": [
            "La covarianza es: 22.92993243243243\n"
          ]
        }
      ]
    },
    {
      "cell_type": "markdown",
      "source": [
        "**Conclusiones ejercicio 2**\n",
        "---\n",
        "Según el análisis de la existencia de relaciones o dependencias entre dos variables  Inversión(𝑋) y  Ventas(𝑌), pueden haber dos tipos de relaciones; funcional y aleatoria. La relación entre las variables es **aleatoria**, aunque no exista \n",
        "entre las variables una relación exacta, se puede observar una cierta tendencia entre los comportamientos de ambas. Por ejemplo, la tendencia que se observa de los datos es que a mayor inversión mayores ventas. \n",
        "\n",
        "Se obtiene un valor de **covarianza de 22.92**, valor positivo, lo cual indica que hay una **relación directa** entre ambas variables. Esto también confirma que a medida que aumentan las inversiones, hay una tendencia a que suban las ventas.\n",
        "\n",
        "Las conclusiones obtenidas de los datos que se ven en el gráfico confirman que hay una dependencia positiva puesto que la línea es ascendente."
      ],
      "metadata": {
        "id": "_DMk27UHaX6v"
      }
    },
    {
      "cell_type": "code",
      "source": [
        "#Calculo del coeficiente correlacion de Pearson \n",
        "coef_pearson = df_ventas.corr(method=\"pearson\")[\"Inversion\"][\"Ventas\"]\n",
        "print(coef_pearson)\n"
      ],
      "metadata": {
        "colab": {
          "base_uri": "https://localhost:8080/"
        },
        "id": "PX-8XAJFpT4X",
        "outputId": "1c03533e-694d-4c0c-b99c-842a2f133be0"
      },
      "execution_count": 411,
      "outputs": [
        {
          "output_type": "stream",
          "name": "stdout",
          "text": [
            "0.9562823420491507\n"
          ]
        }
      ]
    },
    {
      "cell_type": "markdown",
      "source": [
        "Para ver si las variables están correladas, se halla el **coeficiente de correlación lineal de Pearson** , el valor obtenido es **0.95**.\n",
        "\n",
        "El resultado del coeficiente de correlación lineal de Pearson está próximo a 1 lo que implica que existe una relación lineal muy fuerte entre las variables analizadas de inversión y ventas. "
      ],
      "metadata": {
        "id": "_EuDHuKkpRsf"
      }
    },
    {
      "cell_type": "code",
      "source": [
        "#Ajuste lineal\n",
        "#Recta de Regresión Y sobre X\n",
        "def recta(x):\n",
        "    pendiente = df_ventas.cov()[\"Inversion\"][\"Ventas\"]/df_ventas[\"Inversion\"].var()\n",
        "    return pendiente*(x-df_ventas[\"Inversion\"].mean())+df_ventas[\"Ventas\"].mean()\n",
        "\n",
        "line = [recta(x) for x in np.arange(3000)]\n",
        "\n",
        "#labels\n",
        "plt.title(\"Distribución de inversiones VS ventas\")\n",
        "plt.xlabel(\"Inversiones\")\n",
        "plt.ylabel(\"Ventas\")\n",
        "\n",
        "#limits\n",
        "plt.xlim(df_ventas[\"Inversion\"].min() - 1 , df_ventas[\"Inversion\"].max() +1 )\n",
        "plt.ylim(df_ventas[\"Ventas\"].min() - 1 , df_ventas[\"Ventas\"].max() +1 )\n",
        "\n",
        "#Nube de puntos + recta de regresión\n",
        "plt.scatter(df_ventas[\"Inversion\"],df_ventas[\"Ventas\"])\n",
        "plt.plot(line, color='red')\n",
        "plt.show()\n"
      ],
      "metadata": {
        "colab": {
          "base_uri": "https://localhost:8080/",
          "height": 295
        },
        "id": "31ZQZ12CpYqB",
        "outputId": "b15aa3cb-21f4-48ef-d0f7-67f43deb9ee0"
      },
      "execution_count": 412,
      "outputs": [
        {
          "output_type": "display_data",
          "data": {
            "image/png": "[encoded data removed]",
            "text/plain": [
              "<Figure size 432x288 with 1 Axes>"
            ]
          },
          "metadata": {
            "needs_background": "light"
          }
        }
      ]
    },
    {
      "cell_type": "markdown",
      "source": [
        "**Recta de regresión Y sobre X**\n",
        "---\n",
        "Uno de los objetivos de esta recta de regresión es predecir el valor de las ventas (Y) conocido el valor de la inverisón (X)\n"
      ],
      "metadata": {
        "id": "vykbTSyga76G"
      }
    },
    {
      "cell_type": "code",
      "source": [
        "#Grafico de boxplot de las dos variables\n",
        "fig,ax = plt.subplots()\n",
        "box = ax.boxplot([df_ventas ['Ventas'] , df_ventas ['Inversion']] , patch_artist=True)\n",
        "plt.xticks([1, 2], [\"Ventas\", \"Inversion\"])\n",
        "colors = ['#0000FF', '#FFFF00']\n",
        "for patch, color in zip(box['boxes'], colors):\n",
        "    patch.set_facecolor(color)\n",
        "plt.show()\n",
        "\n",
        "#print(df_ventas ['Ventas'])\n",
        "#print(df_ventas ['Inversion'])\n"
      ],
      "metadata": {
        "colab": {
          "base_uri": "https://localhost:8080/",
          "height": 265
        },
        "id": "A55ZQd6aMsB6",
        "outputId": "220a4a66-a9d3-4123-ec65-31e518d413fd"
      },
      "execution_count": 413,
      "outputs": [
        {
          "output_type": "display_data",
          "data": {
            "image/png": "[encoded data removed]",
            "text/plain": [
              "<Figure size 432x288 with 1 Axes>"
            ]
          },
          "metadata": {
            "needs_background": "light"
          }
        }
      ]
    },
    {
      "cell_type": "markdown",
      "source": [
        "**Gráfico de Boxplot para comparar las 2 variables (Ventas & Inversiones)**\n",
        "\n",
        "Interpretación del gráfico:\n",
        "\n",
        "Variable inversión: la **dispersión es alta** (imprimo lista de la variable) los valores de inversión van des de 1 millón de € hasta 19.5 millones €.\n",
        "\n",
        "Variable ventas: la **dispersión sigue siendo elevada**(valores des de 4.61 millones de € hasta 17.45 millones de €) pero no lo es tanto como inversión.\n",
        "\n",
        "Los outliers (observaciones) no se muestran como tal en el gráfico de boxplot. La razón por la que no aparecen es porque estos valores entran dentro del rango de aceptación de la variable venta y de la variable inversión correspondientemente. No son muy atípicos comparados con el resto de ventas e inversiones.\n",
        "\n",
        "Sin embargo, si se analiza el gráfico de dispersión se podrían considerar como observaciones atípicas en relación a la variable inversión, puesto que para un valor muy elevado de inversión se obtiene un número muy bajo de ventas.\n",
        "\n",
        "En estos dos gráficos de boxplot no aparecen los outliers porque las variables estan separadas.En cambio en el gráfico de dispersión si que aparecen los outliers porque las dos variables estan relacionadas. "
      ],
      "metadata": {
        "id": "6IFK1PugMkkE"
      }
    },
    {
      "cell_type": "markdown",
      "source": [
        "# 3- ¿Cuántas ventas se obtendrían si se invirtiesen 7 millones de euros?\n",
        "---\n",
        "Como Pearson nos da un número muy próximo a 1 (0.95), se puede definir un modelo matemático a través de la regresión lineal.\n",
        "\n",
        "\n",
        "\n"
      ],
      "metadata": {
        "id": "FA7E3DyMwCEw"
      }
    },
    {
      "cell_type": "code",
      "source": [
        "# Modelo matemático\n",
        "from scipy import stats as ss\n",
        "pendiente, coeficiente, pearson, p, error = ss.linregress(df_ventas[\"Inversion\"], df_ventas[\"Ventas\"])\n",
        "\n",
        "def Ventas(Inversion):\n",
        "    return coeficiente + Inversion*pendiente\n",
        "\n",
        "#prediccion de 8 millones de ventas para 7 millones de inversion \n",
        "valor_modelo = Ventas(7.0)\n",
        "print(\"Con una inversión de 7 millones de € se obtendrían\" , valor_modelo , \"millones de € de ventas\")\n",
        "\n",
        "#Grafica resultado \n",
        "def recta(x):\n",
        "    pendiente = df_ventas.cov()[\"Inversion\"][\"Ventas\"]/df_ventas[\"Inversion\"].var()\n",
        "    return pendiente*(x-df_ventas[\"Inversion\"].mean())+df_ventas[\"Ventas\"].mean()\n",
        "\n",
        "line = [recta(x) for x in np.arange(3000)]\n",
        "\n",
        "# labels\n",
        "plt.title(\"Distribución de inversiones VS ventas\")\n",
        "plt.xlabel(\"Inversiones\")\n",
        "plt.ylabel(\"Ventas\")\n",
        "\n",
        "# limits\n",
        "plt.xlim(df_ventas[\"Inversion\"].min() -1 , df_ventas[\"Inversion\"].max() +1 )\n",
        "plt.ylim(df_ventas[\"Ventas\"].min() -1 , df_ventas[\"Ventas\"].max() +1 )\n",
        "\n",
        "# Nube de puntos + recta de regresión\n",
        "plt.scatter(df_ventas[\"Inversion\"],df_ventas[\"Ventas\"])\n",
        "plt.scatter(7,valor)\n",
        "plt.annotate(\"valor predicho\" , (8,valor))\n",
        "plt.plot(line, color='red')\n",
        "plt.show()\n"
      ],
      "metadata": {
        "colab": {
          "base_uri": "https://localhost:8080/",
          "height": 313
        },
        "id": "c71jf2VGrnYQ",
        "outputId": "9841602d-27af-4c13-fd2a-2a086b23b311"
      },
      "execution_count": 414,
      "outputs": [
        {
          "output_type": "stream",
          "name": "stdout",
          "text": [
            "Con una inversión de 7 millones de € se obtendrían 8.079217638691322 millones de € de ventas\n"
          ]
        },
        {
          "output_type": "display_data",
          "data": {
            "image/png": "[encoded data removed]",
            "text/plain": [
              "<Figure size 432x288 with 1 Axes>"
            ]
          },
          "metadata": {
            "needs_background": "light"
          }
        }
      ]
    },
    {
      "cell_type": "markdown",
      "source": [
        "**Conclusiones ejercicio 3**\n",
        "---\n",
        "Se obtienen 8.079 millones de € en ventas si se invierten 7 millones de €.\n",
        "\n",
        "Con esta función se define un modelo capaz de predecir las ventas a partir de las nuevas inversiones y la pendiente de la recta, asumiendo un error aleatorio."
      ],
      "metadata": {
        "id": "TZkViVcNvoJa"
      }
    },
    {
      "cell_type": "markdown",
      "source": [
        "# 4- Evaluar el modelo a través de la SCE y el coeficiente de determinación.\n",
        "\n"
      ],
      "metadata": {
        "id": "VEL441qNyOKm"
      }
    },
    {
      "cell_type": "code",
      "source": [
        "#Calculo Minimos Cuadrados (SCE)\n",
        "\n",
        "error_m = df_ventas['Ventas']- df_ventas['Inversion'].map(Ventas)\n",
        "\n",
        "sce = sum(error_m**2)\n",
        "print(\"El cálculo de SCE es:\" , sce)\n",
        "\n",
        "#Calculo del Error Cuadrático Medio(MSE)\n",
        "MSE= sce/n\n",
        "print(\"El Error Cuadrático Medio(MSE) es:\" ,MSE)\n",
        "\n",
        "#Raíz del Error Cuadrático Medio (RMSE)\n",
        "RMSE = math.sqrt(MSE)\n",
        "print(\"La Raíz del Error Cuadrático Medio (RMSE) es:\" , RMSE)\n",
        "\n",
        "#Calculo del Coeficiente de Determinacion\n",
        "coef_determinacion = pearson**2\n",
        "print(\"El Coeficiente de Determinación es:\" , coef_determinacion)\n",
        "\n",
        "#Calculo Coeficiente Determinacion Ajustado\n",
        "n = 38\n",
        "k = 1\n",
        "coef_determinacion_ajustado = 1 - (n-1)/(n-k-1) * (1-coef_determinacion)\n",
        "print(\"El Coeficiente de Determinación Ajustado es:\" , coef_determinacion_ajustado) "
      ],
      "metadata": {
        "colab": {
          "base_uri": "https://localhost:8080/"
        },
        "id": "Pqlx_sGQsZTp",
        "outputId": "392f1a03-bbc6-458a-d4f1-e535f80401d4"
      },
      "execution_count": 415,
      "outputs": [
        {
          "output_type": "stream",
          "name": "stdout",
          "text": [
            "El cálculo de SCE es: 58.927288456067366\n",
            "El Error Cuadrático Medio(MSE) es: 1.5507181172649307\n",
            "La Raíz del Error Cuadrático Medio (RMSE) es: 1.245278329236051\n",
            "El Coeficiente de Determinación es: 0.9144759177150085\n",
            "El Coeficiente de Determinación Ajustado es: 0.9121002487626476\n"
          ]
        }
      ]
    },
    {
      "cell_type": "markdown",
      "source": [
        "**Conclusiones ejercicio 4**\n",
        "---\n",
        "Obtenemos un **SCE de 58.927,** este mide la Suma Cuadrado de los Errores donde el error es la distancia entre lo predicho y lo real. Representa un total de la suma de los errores al cuadrado para analizar que tan bien se ajustan o no a la línea de regresión.\n",
        "\n",
        "En este caso el error se mide según la diferencia entre las ventas reales y las ventas predichas por el modelo.\n",
        "\n",
        "El SCE se utiliza cuando se tienen 2 modelos, se podría realizar una comparación. El modelo que tenga un valor de SCE menor, será el modelo más preciso. Cuanto mayor sea el SCE, menor será la precisión del modelo y por lo tanto menor predicción.\n",
        "\n",
        "El cálculo del **Error Cuadrático Medio (MSE)**\n",
        "es el promedio de los errores al cuadrado, es decir que tan lejos está cada valor real del predicho en promedio.\n",
        "\n",
        "Con el cálculo de la **Raíz del Error Cuadrático Medio (RMSE)** se obtiene la distancia promedio entre cada valor real y predicho. \n",
        "\n",
        "Ambos cálculos (MSE y RMSE) son utilizados para comparar dos modelos.\n",
        "\n",
        "Se obtiene un valor de **0.914** para el **Coeficiente de Determinación**, valor muy próximo a 1, hay un buen ajuste (preciso pero no perfecto) entre entre la nube de puntos y la ecuación estimada. Sin embargo puesto que el valor no alcanza 1, significa que no todos los residuos son nulos.\n",
        "\n",
        "También se calcula el **Coeficiente de Determinación Ajustado** el valor obtenido es **0.912**, un valor inferior a R-cuadrado normal. \n",
        "\n",
        "La diferencia entre ambos coeficientes es que R-cuadrado ajustado penaliza la inclusión de variables."
      ],
      "metadata": {
        "id": "lqpR3vlfzXVQ"
      }
    },
    {
      "cell_type": "markdown",
      "source": [
        "# 4.1- Análisis del error \n",
        "---\n",
        "(link utilizado para el análisis:https://www.colorado.edu/amath/sites/default/files/attached-files/ch12_0.pdf)\n"
      ],
      "metadata": {
        "id": "OA7meN75PxGp"
      }
    },
    {
      "cell_type": "code",
      "source": [
        "#Calculo varianza y desviacion de los errores \n",
        "\n",
        "varianza1 = sce/36\n",
        "#36 corresponde a n-2\n",
        "desviacion1 = math.sqrt(varianza1)\n",
        "print(\"La estimación de la varianza de los errores puntuales es:\" , varianza1 , \"la estimación de la desviación de los errores puntuales es:\" , desviacion1)\n",
        "\n",
        "#GRAFICO BOXPLOT \n",
        "\n",
        "fig,ax = plt.subplots()\n",
        "error_absoluto = abs(error_m)\n",
        "grafico = ax.boxplot([error_absoluto ] , patch_artist=True)\n",
        "plt.xticks([1], [\"Errores al cuadrado\"])\n",
        "plt.text(1.05,0.9,\"año: 2014\\ninversion:18.0 mill€\\nventas:14.64 mill€\")\n",
        "plt.text(1.05,3.5,\"año: 1984 \\ninversion: 3.0 mill€ \\nventas:0.62 mill€\") \n",
        "plt.text(0.68,5,\"año: 1986 \\ninversion: 4.0 mill€ \\nventas:0.64 mill€\") \n",
        "plt.ylim(error_absoluto.min() -1.5 , error_absoluto.max() +1.5 )\n",
        "plt.show()"
      ],
      "metadata": {
        "colab": {
          "base_uri": "https://localhost:8080/",
          "height": 303
        },
        "id": "ZDqTr8PDP2yw",
        "outputId": "26b8233a-b447-4f5e-e71c-983674d36ae3"
      },
      "execution_count": 416,
      "outputs": [
        {
          "output_type": "stream",
          "name": "stdout",
          "text": [
            "La estimación de la varianza de los errores puntuales es: 1.636869123779649 la estimación de la desviación de los errores puntuales es: 1.279401861722754\n"
          ]
        },
        {
          "output_type": "display_data",
          "data": {
            "image/png": "[encoded data removed]",
            "text/plain": [
              "<Figure size 432x288 with 1 Axes>"
            ]
          },
          "metadata": {
            "needs_background": "light"
          }
        }
      ]
    },
    {
      "cell_type": "markdown",
      "source": [
        "# Conclusiones del gráfico boxplot\n",
        "---\n",
        "\n",
        "Hay **poca dispersión** entre los datos, se observan los 2 outliers evidentes que también se ven en el gráfico de dispersión. Otro aspecto a destacar es que se identifica otro posible outlier (año 2014, inversión 18 millones de € y ventas 14.64 millones de €).\n",
        "Se puede ver que la mayoría de los datos se concentran cerca del 0, con lo cual la mayoría de los valores son cercanos a lo predicho por la regresión lineal. "
      ],
      "metadata": {
        "id": "gnrv5P4tFMO1"
      }
    },
    {
      "cell_type": "code",
      "source": [
        "#Grafico lineas verticales outliers \n",
        "def recta(x):\n",
        "    pendiente = df_ventas.cov()[\"Inversion\"][\"Ventas\"]/df_ventas[\"Inversion\"].var()\n",
        "    return pendiente*(x-df_ventas[\"Inversion\"].mean())+df_ventas[\"Ventas\"].mean()\n",
        "\n",
        "line = [recta(x) for x in np.arange(3000)]\n",
        "\n",
        "plt.title(\"Errores de los outliers\")\n",
        "plt.xlabel(\"Inversiones\")\n",
        "plt.ylabel(\"Ventas\")\n",
        "\n",
        "plt.xlim(df_ventas[\"Inversion\"].min() - 1 , df_ventas[\"Inversion\"].max() +1 )\n",
        "plt.ylim(df_ventas[\"Ventas\"].min() - 1 , df_ventas[\"Ventas\"].max() +1 )\n",
        "\n",
        "# Nube de puntos + recta de regresión\n",
        "plt.scatter(df_ventas[\"Inversion\"],df_ventas[\"Ventas\"])\n",
        "plt.plot(line, color='red')\n",
        "plt.vlines(x = 18.0 , ymin = 14.64 , ymax = recta(18.0))\n",
        "plt.vlines(x = 3.0 , ymin = 0.62 , ymax = recta(3.0))\n",
        "plt.vlines(x = 4.0 , ymin = 0.64 , ymax = recta(4.0))\n",
        "plt.show()\n"
      ],
      "metadata": {
        "colab": {
          "base_uri": "https://localhost:8080/",
          "height": 295
        },
        "id": "wTKWqHJpX1HQ",
        "outputId": "79799bdb-027a-44f6-9c2e-ba1d4eb9804c"
      },
      "execution_count": 417,
      "outputs": [
        {
          "output_type": "display_data",
          "data": {
            "image/png": "[encoded data removed]",
            "text/plain": [
              "<Figure size 432x288 with 1 Axes>"
            ]
          },
          "metadata": {
            "needs_background": "light"
          }
        }
      ]
    },
    {
      "cell_type": "markdown",
      "source": [
        "En este gráfico se observa la distancia de los 2 outliers evidentes y el posible outlier respecto a la recta de regresión."
      ],
      "metadata": {
        "id": "qkz8O8c7HpDu"
      }
    },
    {
      "cell_type": "markdown",
      "source": [
        "# 4.2- Cálculo del error de regresión (SCR)\n",
        "---\n"
      ],
      "metadata": {
        "id": "rJGoJUfkK244"
      }
    },
    {
      "cell_type": "code",
      "source": [
        "#Error de regresion (SCR)\n",
        "promedio_ventas = df_ventas['Ventas'].mean()\n",
        "\n",
        "def restar_promedio(Inversion):\n",
        "  return Ventas(Inversion) - promedio_ventas \n",
        "\n",
        "error_regresion = df_ventas['Inversion'].map(restar_promedio)\n",
        "\n",
        "scr = sum(error_regresion**2)\n",
        "print(\"El Error de regresión es:\" , scr)\n"
      ],
      "metadata": {
        "colab": {
          "base_uri": "https://localhost:8080/"
        },
        "id": "Z2GT_vB0K_00",
        "outputId": "ec713755-30f8-4133-bd6e-1f4373b2608c"
      },
      "execution_count": 418,
      "outputs": [
        {
          "output_type": "stream",
          "name": "stdout",
          "text": [
            "El Error de regresión es: 630.08669312288\n"
          ]
        }
      ]
    },
    {
      "cell_type": "markdown",
      "source": [
        "Este tipo de error también se usa para 2 modelos, \n",
        "los cuales se comparan y se elige el que tiene un valor de error más bajo.\n",
        "\n",
        "Esta medida sirve para analizar si las variables que explican el modelo (variables explicativas), captan bien las variaciones de la variable que se pretende explicar (variable dependiente).\""
      ],
      "metadata": {
        "id": "8b_0ewRZI1Rx"
      }
    },
    {
      "cell_type": "markdown",
      "source": [
        "# 5- Estudio a parte: análisis de los outliers\n",
        "---\n",
        "link utilizado: https://stats.libretexts.org/Bookshelves/Introductory_Statistics/Book%3A_Introductory_Statistics_(OpenStax)/12%3A_Linear_Regression_and_Correlation/12.07%3A_Outliers"
      ],
      "metadata": {
        "id": "Yvfqzf7qLpPZ"
      }
    },
    {
      "cell_type": "code",
      "source": [
        "# Recta de Regresión Y sobre X\n",
        "def recta(x):\n",
        "    pendiente = df_ventas.cov()[\"Inversion\"][\"Ventas\"]/df_ventas[\"Inversion\"].var()\n",
        "    return pendiente*(x-df_ventas[\"Inversion\"].mean())+df_ventas[\"Ventas\"].mean()\n",
        "\n",
        "def recta_superior(x):\n",
        "    pendiente = df_ventas.cov()[\"Inversion\"][\"Ventas\"]/df_ventas[\"Inversion\"].var()\n",
        "    return pendiente*(x-df_ventas[\"Inversion\"].mean())+df_ventas[\"Ventas\"].mean() + 2.54\n",
        "\n",
        "def recta_inferior(x):\n",
        "    pendiente = df_ventas.cov()[\"Inversion\"][\"Ventas\"]/df_ventas[\"Inversion\"].var()\n",
        "    return pendiente*(x-df_ventas[\"Inversion\"].mean())+df_ventas[\"Ventas\"].mean() - 2.54\n",
        "\n",
        "line = [recta(x) for x in np.arange(3000)]\n",
        "line_superior = [recta_superior(x) for x in np.arange(3000)]\n",
        "line_inferior = [recta_inferior(x) for x in np.arange(3000)]\n",
        "\n",
        "# labels\n",
        "plt.title(\"Distribución de inversiones VS ventas\")\n",
        "plt.xlabel(\"Inversiones\")\n",
        "plt.ylabel(\"Ventas\")\n",
        "\n",
        "# limits\n",
        "plt.xlim(df_ventas[\"Inversion\"].min() - 1 , df_ventas[\"Inversion\"].max() +1 )\n",
        "plt.ylim(df_ventas[\"Ventas\"].min() - 1 , df_ventas[\"Ventas\"].max() +1 )\n",
        "\n",
        "# Nube de puntos + recta de regresión\n",
        "plt.scatter(df_ventas[\"Inversion\"],df_ventas[\"Ventas\"])\n",
        "plt.plot(line, color='red')\n",
        "plt.plot(line_superior, color='green')\n",
        "plt.plot(line_inferior, color='green')\n",
        "plt.show()\n"
      ],
      "metadata": {
        "colab": {
          "base_uri": "https://localhost:8080/",
          "height": 295
        },
        "id": "051-_kUjxPe6",
        "outputId": "51079f13-33f2-494e-8eaa-22676c102c47"
      },
      "execution_count": 419,
      "outputs": [
        {
          "output_type": "display_data",
          "data": {
            "image/png": "[encoded data removed]",
            "text/plain": [
              "<Figure size 432x288 with 1 Axes>"
            ]
          },
          "metadata": {
            "needs_background": "light"
          }
        }
      ]
    },
    {
      "cell_type": "markdown",
      "source": [
        "# Conclusiones del gráfico\n",
        "---\n",
        "En la gráfica de dispersión se identifican los 2 outliers evidentes (año 1984, inversión 3 millones de € y ventas 0.62 millones de € / año 1986, inverisón 4 millones de € y ventas 0.64 millones de €). Este gráfico me ayuda a contrastar los datos que se observan en el gráfico de boxplot anterior (donde se ve un posible tercer outlier).\n",
        "\n",
        "Haciendo referencia al artículo, los valores que estan 2 desviaciones estandar por arriba o por abajo de la recta de regresión, se consideran outliers.\n",
        "\n",
        "La estimación de la desviación de los errores puntuales es 1.27, por lo cual 2 desviaciones por arriba o por abajo corresponden al valor: 2.54.\n",
        "\n",
        "Podemos concluir que **el tercer valor** (a pesar de estar un poco más alejado del resto) **no es un outlier**. El artículo afirma que todo lo que esté 2 desviaciones por encima o por abajo son \n",
        "outliers potenciales, por lo tanto no consideramos esta tercera observación como outlier. \n",
        "Sin embargo he creado el boxplot para contrastar."
      ],
      "metadata": {
        "id": "X8niefKJKAAo"
      }
    },
    {
      "cell_type": "code",
      "source": [
        "df_nooutliers = df_ventas.drop(df_ventas[df_ventas['Ventas'] < 1].index).reset_index()\n",
        "df_nooutliers.head()"
      ],
      "metadata": {
        "colab": {
          "base_uri": "https://localhost:8080/",
          "height": 206
        },
        "id": "JB0bOuvHE8FR",
        "outputId": "1a0216dc-a95c-4e65-d481-254b4d00cd4a"
      },
      "execution_count": 420,
      "outputs": [
        {
          "output_type": "execute_result",
          "data": {
            "text/html": [
              "\n",
              "  <div id=\"df-3c5867a2-341d-4165-85b8-723f8dc7935f\">\n",
              "    <div class=\"colab-df-container\">\n",
              "      <div>\n",
              "<style scoped>\n",
              "    .dataframe tbody tr th:only-of-type {\n",
              "        vertical-align: middle;\n",
              "    }\n",
              "\n",
              "    .dataframe tbody tr th {\n",
              "        vertical-align: top;\n",
              "    }\n",
              "\n",
              "    .dataframe thead th {\n",
              "        text-align: right;\n",
              "    }\n",
              "</style>\n",
              "<table border=\"1\" class=\"dataframe\">\n",
              "  <thead>\n",
              "    <tr style=\"text-align: right;\">\n",
              "      <th></th>\n",
              "      <th>index</th>\n",
              "      <th>Fecha_anual</th>\n",
              "      <th>Inversion</th>\n",
              "      <th>Ventas</th>\n",
              "    </tr>\n",
              "  </thead>\n",
              "  <tbody>\n",
              "    <tr>\n",
              "      <th>0</th>\n",
              "      <td>0</td>\n",
              "      <td>1980</td>\n",
              "      <td>1.0</td>\n",
              "      <td>4.61</td>\n",
              "    </tr>\n",
              "    <tr>\n",
              "      <th>1</th>\n",
              "      <td>1</td>\n",
              "      <td>1981</td>\n",
              "      <td>1.5</td>\n",
              "      <td>5.18</td>\n",
              "    </tr>\n",
              "    <tr>\n",
              "      <th>2</th>\n",
              "      <td>2</td>\n",
              "      <td>1982</td>\n",
              "      <td>2.0</td>\n",
              "      <td>5.09</td>\n",
              "    </tr>\n",
              "    <tr>\n",
              "      <th>3</th>\n",
              "      <td>3</td>\n",
              "      <td>1983</td>\n",
              "      <td>2.5</td>\n",
              "      <td>5.44</td>\n",
              "    </tr>\n",
              "    <tr>\n",
              "      <th>4</th>\n",
              "      <td>5</td>\n",
              "      <td>1985</td>\n",
              "      <td>3.5</td>\n",
              "      <td>6.39</td>\n",
              "    </tr>\n",
              "  </tbody>\n",
              "</table>\n",
              "</div>\n",
              "      <button class=\"colab-df-convert\" onclick=\"convertToInteractive('df-3c5867a2-341d-4165-85b8-723f8dc7935f')\"\n",
              "              title=\"Convert this dataframe to an interactive table.\"\n",
              "              style=\"display:none;\">\n",
              "        \n",
              "  <svg xmlns=\"http://www.w3.org/2000/svg\" height=\"24px\"viewBox=\"0 0 24 24\"\n",
              "       width=\"24px\">\n",
              "    <path d=\"M0 0h24v24H0V0z\" fill=\"none\"/>\n",
              "    <path d=\"M18.56 5.44l.94 2.06.94-2.06 2.06-.94-2.06-.94-.94-2.06-.94 2.06-2.06.94zm-11 1L8.5 8.5l.94-2.06 2.06-.94-2.06-.94L8.5 2.5l-.94 2.06-2.06.94zm10 10l.94 2.06.94-2.06 2.06-.94-2.06-.94-.94-2.06-.94 2.06-2.06.94z\"/><path d=\"M17.41 7.96l-1.37-1.37c-.4-.4-.92-.59-1.43-.59-.52 0-1.04.2-1.43.59L10.3 9.45l-7.72 7.72c-.78.78-.78 2.05 0 2.83L4 21.41c.39.39.9.59 1.41.59.51 0 1.02-.2 1.41-.59l7.78-7.78 2.81-2.81c.8-.78.8-2.07 0-2.86zM5.41 20L4 18.59l7.72-7.72 1.47 1.35L5.41 20z\"/>\n",
              "  </svg>\n",
              "      </button>\n",
              "      \n",
              "  <style>\n",
              "    .colab-df-container {\n",
              "      display:flex;\n",
              "      flex-wrap:wrap;\n",
              "      gap: 12px;\n",
              "    }\n",
              "\n",
              "    .colab-df-convert {\n",
              "      background-color: #E8F0FE;\n",
              "      border: none;\n",
              "      border-radius: 50%;\n",
              "      cursor: pointer;\n",
              "      display: none;\n",
              "      fill: #1967D2;\n",
              "      height: 32px;\n",
              "      padding: 0 0 0 0;\n",
              "      width: 32px;\n",
              "    }\n",
              "\n",
              "    .colab-df-convert:hover {\n",
              "      background-color: #E2EBFA;\n",
              "      box-shadow: 0px 1px 2px rgba(60, 64, 67, 0.3), 0px 1px 3px 1px rgba(60, 64, 67, 0.15);\n",
              "      fill: #174EA6;\n",
              "    }\n",
              "\n",
              "    [theme=dark] .colab-df-convert {\n",
              "      background-color: #3B4455;\n",
              "      fill: #D2E3FC;\n",
              "    }\n",
              "\n",
              "    [theme=dark] .colab-df-convert:hover {\n",
              "      background-color: #434B5C;\n",
              "      box-shadow: 0px 1px 3px 1px rgba(0, 0, 0, 0.15);\n",
              "      filter: drop-shadow(0px 1px 2px rgba(0, 0, 0, 0.3));\n",
              "      fill: #FFFFFF;\n",
              "    }\n",
              "  </style>\n",
              "\n",
              "      <script>\n",
              "        const buttonEl =\n",
              "          document.querySelector('#df-3c5867a2-341d-4165-85b8-723f8dc7935f button.colab-df-convert');\n",
              "        buttonEl.style.display =\n",
              "          google.colab.kernel.accessAllowed ? 'block' : 'none';\n",
              "\n",
              "        async function convertToInteractive(key) {\n",
              "          const element = document.querySelector('#df-3c5867a2-341d-4165-85b8-723f8dc7935f');\n",
              "          const dataTable =\n",
              "            await google.colab.kernel.invokeFunction('convertToInteractive',\n",
              "                                                     [key], {});\n",
              "          if (!dataTable) return;\n",
              "\n",
              "          const docLinkHtml = 'Like what you see? Visit the ' +\n",
              "            '<a target=\"_blank\" href=https://colab.research.google.com/notebooks/data_table.ipynb>data table notebook</a>'\n",
              "            + ' to learn more about interactive tables.';\n",
              "          element.innerHTML = '';\n",
              "          dataTable['output_type'] = 'display_data';\n",
              "          await google.colab.output.renderOutput(dataTable, element);\n",
              "          const docLink = document.createElement('div');\n",
              "          docLink.innerHTML = docLinkHtml;\n",
              "          element.appendChild(docLink);\n",
              "        }\n",
              "      </script>\n",
              "    </div>\n",
              "  </div>\n",
              "  "
            ],
            "text/plain": [
              "   index  Fecha_anual  Inversion  Ventas\n",
              "0      0         1980        1.0    4.61\n",
              "1      1         1981        1.5    5.18\n",
              "2      2         1982        2.0    5.09\n",
              "3      3         1983        2.5    5.44\n",
              "4      5         1985        3.5    6.39"
            ]
          },
          "metadata": {},
          "execution_count": 420
        }
      ]
    },
    {
      "cell_type": "markdown",
      "source": [
        "# 5.1 - Repeated median algorithm \n"
      ],
      "metadata": {
        "id": "g9aq718KAW4o"
      }
    },
    {
      "cell_type": "code",
      "source": [
        "# Regresion robusta\n",
        "from scipy import stats as ss\n",
        "pendiente, coeficiente = ss.siegelslopes(df_ventas[\"Ventas\"], df_ventas[\"Inversion\"])\n",
        "\n",
        "def Ventas(Inversion):\n",
        "    return coeficiente + Inversion*pendiente\n",
        "\n",
        "valor1 = Ventas(7.0)\n",
        "print(valor1)\n",
        "\n",
        "#Grafica resultado \n",
        "line = [Ventas(x) for x in np.arange(3000)]\n",
        "\n",
        "# labels\n",
        "plt.title(\"Distribución de inversiones VS ventas\")\n",
        "plt.xlabel(\"Inversiones\")\n",
        "plt.ylabel(\"Ventas\")\n",
        "\n",
        "# limits\n",
        "plt.xlim(df_ventas[\"Inversion\"].min() -1 , df_ventas[\"Inversion\"].max() +1 )\n",
        "plt.ylim(df_ventas[\"Ventas\"].min() -1 , df_ventas[\"Ventas\"].max() +1 )\n",
        "\n",
        "# Nube de puntos + recta de regresión\n",
        "plt.scatter(df_ventas[\"Inversion\"],df_ventas[\"Ventas\"])\n",
        "plt.scatter(7,valor1)\n",
        "plt.annotate(\"valor predicho\" , (8,valor1))\n",
        "plt.plot(line, color='red')\n",
        "plt.show()"
      ],
      "metadata": {
        "colab": {
          "base_uri": "https://localhost:8080/",
          "height": 313
        },
        "id": "3BK5mG-sAgX0",
        "outputId": "39bfa0c7-6884-4313-a23a-a647bdab9d08"
      },
      "execution_count": 421,
      "outputs": [
        {
          "output_type": "stream",
          "name": "stdout",
          "text": [
            "8.543897058823529\n"
          ]
        },
        {
          "output_type": "display_data",
          "data": {
            "image/png": "[encoded data removed]",
            "text/plain": [
              "<Figure size 432x288 with 1 Axes>"
            ]
          },
          "metadata": {
            "needs_background": "light"
          }
        }
      ]
    },
    {
      "cell_type": "markdown",
      "source": [
        "Nos basamos en uno de los modelos de regresión robusta (repeated median algorithm), método robusto a los valores atípicos en la variable de respuesta (Ventas - Y).Este modelo baja el peso de los outliers en los cálculos."
      ],
      "metadata": {
        "id": "c1dHcsfoNtgg"
      }
    },
    {
      "cell_type": "markdown",
      "source": [
        "# 5.2 - Calculo de coeficiente de determinación y coeficiente de determinación ajustado sin outliers \n",
        "---\n",
        "Estudio a parte para quitar los outliers, estamos elimanando los 2 outliers del dataset asumiendo que son datos insignificativos para el estudio en contraposición con el estudio de antes, donde si asumimos que son significativos.\n",
        "**Concluyo que en nuestro caso los outliers sí son significativos y no se tienen que eliminar**. Sin embargo quería contrastar los valores obtenidos y ver los resultados con outliers y sin outliers. "
      ],
      "metadata": {
        "id": "P8tUWad2ERL8"
      }
    },
    {
      "cell_type": "code",
      "source": [
        "# Correlacion \n",
        "coef_pearson_nooutliers = df_nooutliers.corr(method=\"pearson\")[\"Inversion\"][\"Ventas\"]\n",
        "print(\"El Coeficiente de Correlación de Pearson sin outliers es:\" , coef_pearson_nooutliers)\n",
        "\n",
        "#Calculo coeficientes sin los outliers \n",
        "#Calculo del coeficiente de determinacion\n",
        "coef_determinacion_nooutliers = coef_pearson_nooutliers**2\n",
        "print(\"El Coeficiente de Determinación sin outliers es:\" , coef_determinacion_nooutliers)\n",
        "\n",
        "#Calculo coeficiente determinacion ajustado\n",
        "n = 38\n",
        "k = 1\n",
        "coef_determinacion_ajustado_no = 1 - (n-1)/(n-k-1) * (1-coef_determinacion_nooutliers)\n",
        "print(\"El Coeficiente de Determinación Ajustado sin outliers es:\" , coef_determinacion_ajustado_no) \n",
        "#obtenemos un coef det ajustado menor que el coef determinacion"
      ],
      "metadata": {
        "colab": {
          "base_uri": "https://localhost:8080/"
        },
        "id": "BOnViiVhJ4h7",
        "outputId": "6073c7d9-80a4-49ac-9a8e-d6502ddcdd1f"
      },
      "execution_count": 422,
      "outputs": [
        {
          "output_type": "stream",
          "name": "stdout",
          "text": [
            "El Coeficiente de Correlación de Pearson sin outliers es: 0.9953472185255251\n",
            "El Coeficiente de Determinación sin outliers es: 0.9907160854264995\n",
            "El Coeficiente de Determinación Ajustado sin outliers es: 0.9904581989105689\n"
          ]
        }
      ]
    },
    {
      "cell_type": "markdown",
      "source": [
        "# 6- Calculo del p-valor\n",
        "---\n"
      ],
      "metadata": {
        "id": "ps1USNCtcEsL"
      }
    },
    {
      "cell_type": "code",
      "source": [
        "X = df_ventas['Inversion']\n",
        "y = df_ventas['Ventas']\n",
        "\n",
        "X2 = sm.add_constant(X)\n",
        "est = sm.OLS(y, X2)\n",
        "est2 = est.fit()\n",
        "\n",
        "print(est2.summary())"
      ],
      "metadata": {
        "colab": {
          "base_uri": "https://localhost:8080/"
        },
        "id": "crsVtdsqcLn-",
        "outputId": "b24d96d2-35cf-4484-9bdf-0d3df6fd5a88"
      },
      "execution_count": 423,
      "outputs": [
        {
          "output_type": "stream",
          "name": "stdout",
          "text": [
            "                            OLS Regression Results                            \n",
            "==============================================================================\n",
            "Dep. Variable:                 Ventas   R-squared:                       0.914\n",
            "Model:                            OLS   Adj. R-squared:                  0.912\n",
            "Method:                 Least Squares   F-statistic:                     384.9\n",
            "Date:                Mon, 21 Feb 2022   Prob (F-statistic):           8.25e-21\n",
            "Time:                        22:02:07   Log-Likelihood:                -62.255\n",
            "No. Observations:                  38   AIC:                             128.5\n",
            "Df Residuals:                      36   BIC:                             131.8\n",
            "Df Model:                           1                                         \n",
            "Covariance Type:            nonrobust                                         \n",
            "==============================================================================\n",
            "                 coef    std err          t      P>|t|      [0.025      0.975]\n",
            "------------------------------------------------------------------------------\n",
            "const          2.8805      0.440      6.546      0.000       1.988       3.773\n",
            "Inversion      0.7427      0.038     19.620      0.000       0.666       0.819\n",
            "==============================================================================\n",
            "Omnibus:                       49.123   Durbin-Watson:                   2.334\n",
            "Prob(Omnibus):                  0.000   Jarque-Bera (JB):              209.563\n",
            "Skew:                          -3.131   Prob(JB):                     3.12e-46\n",
            "Kurtosis:                      12.651   Cond. No.                         24.8\n",
            "==============================================================================\n",
            "\n",
            "Warnings:\n",
            "[1] Standard Errors assume that the covariance matrix of the errors is correctly specified.\n"
          ]
        },
        {
          "output_type": "stream",
          "name": "stderr",
          "text": [
            "/usr/local/lib/python3.7/dist-packages/statsmodels/tsa/tsatools.py:117: FutureWarning: In a future version of pandas all arguments of concat except for the argument 'objs' will be keyword-only\n",
            "  x = pd.concat(x[::order], 1)\n"
          ]
        }
      ]
    },
    {
      "cell_type": "markdown",
      "source": [
        "Se obtiene un p-valor tan pequeño que se redondea a 0 (probablemente no es 0), esto indica que la hipótesis nula no es cierta y hay correlación entre \n",
        "las variables inversión y ventas, lo cual tiene sentido. \n",
        "En esta tabla también podemos ver el valor de R2 que es 0.914, lo cual confirma que el cálculo es correcto. \n"
      ],
      "metadata": {
        "id": "C9jmMr94O8Yz"
      }
    },
    {
      "cell_type": "markdown",
      "source": [
        "# 7- Conclusines finales \n",
        "---\n",
        "\n",
        "Una vez analizado el dataset observo que hay una relación aleatoria entre las variables X (Inversión) e Y (Ventas). Esto indica una tendencia de que a mayor inversión, mayor serán las ventas (excepto 2 observaciones/outliers, que analizo).\n",
        "\n",
        "La covarianza tiene un valor positivo de 22.92, lo cual implica que hay una relación directa entre ambas variables. Además confirmo que hay una relación lineal muy fuerte entre ambas variables con el cálculo del coeficiente de correlación de Pearson (0.95).\n",
        "\n",
        "También confirmo que uno de los objetivos de la recta de regresión es predecir el valor de las ventas (Y) conocido el valor de la inverisón (X). \n",
        "\n",
        "Posteriormente, analizo las dos variables por separado con el gráfico de boxplot. Un aspecto a destacar es que los outliers no aparecen en el gráfico de boxplot (de cada variable) porque estos están dentro del rango de aceptación de la variable. En cambio en el gráfico de dispersión sí que aparecen los outliers porque las dos variables están relacionadas.\n",
        "\n",
        "Después de este análisis, defino un modelo matemático a través de la regresión lineal para predecir las ventas (Y) en función de las nuevas inversiones(X).\n",
        "\n",
        "Obtengo un valor de SCE de 58.927, como sólo tengo un modelo no lo puedo comparar, pero llego a la conclusión de que a mayor SCE menor predicción y a menor SCE mayor grado de predicción, puesto que la suma cuadrado de los errores es más pequeña.\n",
        "\n",
        "Se calculan el Coeficiente de Determinación (0.914) y el Coeficiente de Determinación Ajustado (0.912), esto afirma que hay un buen ajuste entre la nube de puntos y la ecuación estimada, ya que ambos valores son próximos a 1.\n",
        "\n",
        "Hago un análisis más extenso del error con un gráfico de boxplot, donde se identifica un potencial tercer outlier.\n",
        "\n",
        "Realizo un estudio a parte para los outliers donde creo otro gráfico de dispersión más específico y descarto el tercer valor potencial (identificado previamente en el boxplot) como outlier.\n",
        "\n",
        "Finalmente calculo el p-valor, obtengo un valor muy pequeño que se redondea a 0, esto confirma que hay correlación entre las variables X e Y. "
      ],
      "metadata": {
        "id": "NsYzPG7Q2b9n"
      }
    }
  ]
}