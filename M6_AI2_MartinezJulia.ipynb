{
  "nbformat": 4,
  "nbformat_minor": 0,
  "metadata": {
    "colab": {
      "name": "M6_AI2_MartinezJulia.ipynb",
      "provenance": [],
      "collapsed_sections": []
    },
    "kernelspec": {
      "name": "python3",
      "display_name": "Python 3"
    },
    "language_info": {
      "name": "python"
    }
  },
  "cells": [
    {
      "cell_type": "code",
      "execution_count": 85,
      "metadata": {
        "id": "odBpuqSQT_x9"
      },
      "outputs": [],
      "source": [
        "#Import libraries\n",
        "import pandas as pd\n",
        "import numpy as np \n",
        "import matplotlib.pyplot as plt\n",
        "import plotly.express as px \n",
        "import math \n",
        "import statistics as st\n",
        "from collections import Counter\n",
        "import scipy.stats as sp\n",
        "import seaborn as sns \n",
        "import statsmodels.api as sm\n",
        "import matplotlib.pyplot as plt\n",
        "%matplotlib inline"
      ]
    },
    {
      "cell_type": "code",
      "source": [
        "from sklearn.datasets import make_moons\n",
        "from sklearn.tree import DecisionTreeClassifier\n",
        "from sklearn.tree import DecisionTreeRegressor"
      ],
      "metadata": {
        "id": "IlXZPuipUZO8"
      },
      "execution_count": 86,
      "outputs": []
    },
    {
      "cell_type": "markdown",
      "source": [
        "# 1.Preprocesado: \n",
        "---\n",
        " \n",
        "*   Convertir todas las variables categóricas a numéricas (gender, ever_married, work_type, residence_type, bmi, smoking_status). \n",
        "\n",
        "*   Existen 1544 personas de las que se desconoce si fuman o no; vamos a asignar también un número para esta posibilidad.\n",
        "\n",
        "*   Existen 201 personas de las que se desconoce su BMI (IMC); vamos a eliminar estos casos para la generación del modelo al tratarse de un bajo porcentaje (4%). \n",
        "\n",
        "*   Escalar los datos para su uso por el algoritmo.\n"
      ],
      "metadata": {
        "id": "ADYd2KWrdkh4"
      }
    },
    {
      "cell_type": "code",
      "source": [
        "from sklearn import preprocessing \n",
        "oh = preprocessing.OneHotEncoder()\n",
        "\n",
        "#Cargo el dataset\n",
        "url = 'https://raw.githubusercontent.com/juliajjm/modulo6_practica2/main/act1_healthcare-dataset-stroke-data.csv'\n",
        "df_health = pd.read_csv(url, sep = ',', decimal ='.')\n",
        "#df_health.head()\n",
        "#df_health.info()\n",
        "\n",
        "#Convertir todas las variables categóricas a numéricas (gender, ever_married, work_type, residence_type, bmi, smoking_status). \n",
        "#Utilizo OneHotEncoder para transformar las variables \n",
        "\n",
        "#Eliminamos los Nan de Bmi (201 valores eliminados de Nan)\n",
        "df_health.dropna(subset=[\"bmi\"] , inplace = True)\n",
        "#df_health.info()\n",
        "\n",
        "enc_df = pd.DataFrame(oh.fit_transform(df_health[['gender']]).toarray() , columns= oh.get_feature_names_out()) \n",
        "enc_df1 = pd.DataFrame(oh.fit_transform(df_health[['ever_married']]).toarray() , columns= oh.get_feature_names_out()) \n",
        "enc_df2 = pd.DataFrame(oh.fit_transform(df_health[['work_type']]).toarray() , columns= oh.get_feature_names_out()) \n",
        "enc_df3 = pd.DataFrame(oh.fit_transform(df_health[['Residence_type']]).toarray() , columns= oh.get_feature_names_out()) \n",
        "enc_df4 = pd.DataFrame(oh.fit_transform(df_health[['bmi']]).toarray() , columns= oh.get_feature_names_out()) \n",
        "enc_df5 = pd.DataFrame(oh.fit_transform(df_health[['smoking_status']]).toarray() , columns= oh.get_feature_names_out()) \n",
        "\n",
        "# merge with main df bridge_df on key values \n",
        "df_health_new = df_health.join([enc_df , enc_df1 , enc_df2 , enc_df3, enc_df4 , enc_df5 ]) \n",
        "df_health_new.head(200)\n",
        "\n",
        "\n",
        "\n"
      ],
      "metadata": {
        "colab": {
          "base_uri": "https://localhost:8080/",
          "height": 557
        },
        "id": "loRGuD48UeT3",
        "outputId": "df5d1bc2-5945-463c-c45d-8995fdd15566"
      },
      "execution_count": 87,
      "outputs": [
        {
          "output_type": "execute_result",
          "data": {
            "text/plain": [
              "          id  gender   age  hypertension  heart_disease ever_married  \\\n",
              "0     9046.0    Male  67.0           0.0            1.0          Yes   \n",
              "2    31112.0    Male  80.0           0.0            1.0          Yes   \n",
              "3    60182.0  Female  49.0           0.0            0.0          Yes   \n",
              "4     1665.0  Female  79.0           1.0            0.0          Yes   \n",
              "5    56669.0    Male  81.0           0.0            0.0          Yes   \n",
              "..       ...     ...   ...           ...            ...          ...   \n",
              "234  25974.0    Male  78.0           0.0            0.0          Yes   \n",
              "235   1210.0  Female  68.0           0.0            0.0          Yes   \n",
              "236  28493.0    Male  57.0           0.0            0.0          Yes   \n",
              "237  36857.0    Male  77.0           0.0            0.0          Yes   \n",
              "238   1836.0  Female  51.0           1.0            0.0          Yes   \n",
              "\n",
              "         work_type Residence_type  avg_glucose_level   bmi  ... bmi_64.8  \\\n",
              "0          Private          Urban             228.69  36.6  ...      0.0   \n",
              "2          Private          Rural             105.92  32.5  ...      0.0   \n",
              "3          Private          Urban             171.23  34.4  ...      0.0   \n",
              "4    Self-employed          Rural             174.12  24.0  ...      0.0   \n",
              "5          Private          Urban             186.21  29.0  ...      0.0   \n",
              "..             ...            ...                ...   ...  ...      ...   \n",
              "234  Self-employed          Urban             218.46  26.8  ...      0.0   \n",
              "235        Private          Rural             211.06  39.3  ...      0.0   \n",
              "236        Private          Urban              86.30  31.7  ...      0.0   \n",
              "237  Self-employed          Rural             162.14  32.6  ...      0.0   \n",
              "238        Private          Urban              88.20  28.4  ...      0.0   \n",
              "\n",
              "     bmi_66.8  bmi_71.9  bmi_78.0  bmi_92.0  bmi_97.6  smoking_status_Unknown  \\\n",
              "0         0.0       0.0       0.0       0.0       0.0                     0.0   \n",
              "2         0.0       0.0       0.0       0.0       0.0                     0.0   \n",
              "3         0.0       0.0       0.0       0.0       0.0                     0.0   \n",
              "4         0.0       0.0       0.0       0.0       0.0                     0.0   \n",
              "5         0.0       0.0       0.0       0.0       0.0                     0.0   \n",
              "..        ...       ...       ...       ...       ...                     ...   \n",
              "234       0.0       0.0       0.0       0.0       0.0                     0.0   \n",
              "235       0.0       0.0       0.0       0.0       0.0                     0.0   \n",
              "236       0.0       0.0       0.0       0.0       0.0                     0.0   \n",
              "237       0.0       0.0       0.0       0.0       0.0                     0.0   \n",
              "238       0.0       0.0       0.0       0.0       0.0                     0.0   \n",
              "\n",
              "     smoking_status_formerly smoked  smoking_status_never smoked  \\\n",
              "0                               1.0                          0.0   \n",
              "2                               0.0                          0.0   \n",
              "3                               0.0                          1.0   \n",
              "4                               1.0                          0.0   \n",
              "5                               0.0                          1.0   \n",
              "..                              ...                          ...   \n",
              "234                             0.0                          1.0   \n",
              "235                             0.0                          0.0   \n",
              "236                             0.0                          1.0   \n",
              "237                             0.0                          1.0   \n",
              "238                             0.0                          1.0   \n",
              "\n",
              "     smoking_status_smokes  \n",
              "0                      0.0  \n",
              "2                      1.0  \n",
              "3                      0.0  \n",
              "4                      0.0  \n",
              "5                      0.0  \n",
              "..                     ...  \n",
              "234                    0.0  \n",
              "235                    1.0  \n",
              "236                    0.0  \n",
              "237                    0.0  \n",
              "238                    0.0  \n",
              "\n",
              "[200 rows x 446 columns]"
            ],
            "text/html": [
              "\n",
              "  <div id=\"df-72d9e3b4-20ce-4c19-83f9-8306d3fca5c5\">\n",
              "    <div class=\"colab-df-container\">\n",
              "      <div>\n",
              "<style scoped>\n",
              "    .dataframe tbody tr th:only-of-type {\n",
              "        vertical-align: middle;\n",
              "    }\n",
              "\n",
              "    .dataframe tbody tr th {\n",
              "        vertical-align: top;\n",
              "    }\n",
              "\n",
              "    .dataframe thead th {\n",
              "        text-align: right;\n",
              "    }\n",
              "</style>\n",
              "<table border=\"1\" class=\"dataframe\">\n",
              "  <thead>\n",
              "    <tr style=\"text-align: right;\">\n",
              "      <th></th>\n",
              "      <th>id</th>\n",
              "      <th>gender</th>\n",
              "      <th>age</th>\n",
              "      <th>hypertension</th>\n",
              "      <th>heart_disease</th>\n",
              "      <th>ever_married</th>\n",
              "      <th>work_type</th>\n",
              "      <th>Residence_type</th>\n",
              "      <th>avg_glucose_level</th>\n",
              "      <th>bmi</th>\n",
              "      <th>...</th>\n",
              "      <th>bmi_64.8</th>\n",
              "      <th>bmi_66.8</th>\n",
              "      <th>bmi_71.9</th>\n",
              "      <th>bmi_78.0</th>\n",
              "      <th>bmi_92.0</th>\n",
              "      <th>bmi_97.6</th>\n",
              "      <th>smoking_status_Unknown</th>\n",
              "      <th>smoking_status_formerly smoked</th>\n",
              "      <th>smoking_status_never smoked</th>\n",
              "      <th>smoking_status_smokes</th>\n",
              "    </tr>\n",
              "  </thead>\n",
              "  <tbody>\n",
              "    <tr>\n",
              "      <th>0</th>\n",
              "      <td>9046.0</td>\n",
              "      <td>Male</td>\n",
              "      <td>67.0</td>\n",
              "      <td>0.0</td>\n",
              "      <td>1.0</td>\n",
              "      <td>Yes</td>\n",
              "      <td>Private</td>\n",
              "      <td>Urban</td>\n",
              "      <td>228.69</td>\n",
              "      <td>36.6</td>\n",
              "      <td>...</td>\n",
              "      <td>0.0</td>\n",
              "      <td>0.0</td>\n",
              "      <td>0.0</td>\n",
              "      <td>0.0</td>\n",
              "      <td>0.0</td>\n",
              "      <td>0.0</td>\n",
              "      <td>0.0</td>\n",
              "      <td>1.0</td>\n",
              "      <td>0.0</td>\n",
              "      <td>0.0</td>\n",
              "    </tr>\n",
              "    <tr>\n",
              "      <th>2</th>\n",
              "      <td>31112.0</td>\n",
              "      <td>Male</td>\n",
              "      <td>80.0</td>\n",
              "      <td>0.0</td>\n",
              "      <td>1.0</td>\n",
              "      <td>Yes</td>\n",
              "      <td>Private</td>\n",
              "      <td>Rural</td>\n",
              "      <td>105.92</td>\n",
              "      <td>32.5</td>\n",
              "      <td>...</td>\n",
              "      <td>0.0</td>\n",
              "      <td>0.0</td>\n",
              "      <td>0.0</td>\n",
              "      <td>0.0</td>\n",
              "      <td>0.0</td>\n",
              "      <td>0.0</td>\n",
              "      <td>0.0</td>\n",
              "      <td>0.0</td>\n",
              "      <td>0.0</td>\n",
              "      <td>1.0</td>\n",
              "    </tr>\n",
              "    <tr>\n",
              "      <th>3</th>\n",
              "      <td>60182.0</td>\n",
              "      <td>Female</td>\n",
              "      <td>49.0</td>\n",
              "      <td>0.0</td>\n",
              "      <td>0.0</td>\n",
              "      <td>Yes</td>\n",
              "      <td>Private</td>\n",
              "      <td>Urban</td>\n",
              "      <td>171.23</td>\n",
              "      <td>34.4</td>\n",
              "      <td>...</td>\n",
              "      <td>0.0</td>\n",
              "      <td>0.0</td>\n",
              "      <td>0.0</td>\n",
              "      <td>0.0</td>\n",
              "      <td>0.0</td>\n",
              "      <td>0.0</td>\n",
              "      <td>0.0</td>\n",
              "      <td>0.0</td>\n",
              "      <td>1.0</td>\n",
              "      <td>0.0</td>\n",
              "    </tr>\n",
              "    <tr>\n",
              "      <th>4</th>\n",
              "      <td>1665.0</td>\n",
              "      <td>Female</td>\n",
              "      <td>79.0</td>\n",
              "      <td>1.0</td>\n",
              "      <td>0.0</td>\n",
              "      <td>Yes</td>\n",
              "      <td>Self-employed</td>\n",
              "      <td>Rural</td>\n",
              "      <td>174.12</td>\n",
              "      <td>24.0</td>\n",
              "      <td>...</td>\n",
              "      <td>0.0</td>\n",
              "      <td>0.0</td>\n",
              "      <td>0.0</td>\n",
              "      <td>0.0</td>\n",
              "      <td>0.0</td>\n",
              "      <td>0.0</td>\n",
              "      <td>0.0</td>\n",
              "      <td>1.0</td>\n",
              "      <td>0.0</td>\n",
              "      <td>0.0</td>\n",
              "    </tr>\n",
              "    <tr>\n",
              "      <th>5</th>\n",
              "      <td>56669.0</td>\n",
              "      <td>Male</td>\n",
              "      <td>81.0</td>\n",
              "      <td>0.0</td>\n",
              "      <td>0.0</td>\n",
              "      <td>Yes</td>\n",
              "      <td>Private</td>\n",
              "      <td>Urban</td>\n",
              "      <td>186.21</td>\n",
              "      <td>29.0</td>\n",
              "      <td>...</td>\n",
              "      <td>0.0</td>\n",
              "      <td>0.0</td>\n",
              "      <td>0.0</td>\n",
              "      <td>0.0</td>\n",
              "      <td>0.0</td>\n",
              "      <td>0.0</td>\n",
              "      <td>0.0</td>\n",
              "      <td>0.0</td>\n",
              "      <td>1.0</td>\n",
              "      <td>0.0</td>\n",
              "    </tr>\n",
              "    <tr>\n",
              "      <th>...</th>\n",
              "      <td>...</td>\n",
              "      <td>...</td>\n",
              "      <td>...</td>\n",
              "      <td>...</td>\n",
              "      <td>...</td>\n",
              "      <td>...</td>\n",
              "      <td>...</td>\n",
              "      <td>...</td>\n",
              "      <td>...</td>\n",
              "      <td>...</td>\n",
              "      <td>...</td>\n",
              "      <td>...</td>\n",
              "      <td>...</td>\n",
              "      <td>...</td>\n",
              "      <td>...</td>\n",
              "      <td>...</td>\n",
              "      <td>...</td>\n",
              "      <td>...</td>\n",
              "      <td>...</td>\n",
              "      <td>...</td>\n",
              "      <td>...</td>\n",
              "    </tr>\n",
              "    <tr>\n",
              "      <th>234</th>\n",
              "      <td>25974.0</td>\n",
              "      <td>Male</td>\n",
              "      <td>78.0</td>\n",
              "      <td>0.0</td>\n",
              "      <td>0.0</td>\n",
              "      <td>Yes</td>\n",
              "      <td>Self-employed</td>\n",
              "      <td>Urban</td>\n",
              "      <td>218.46</td>\n",
              "      <td>26.8</td>\n",
              "      <td>...</td>\n",
              "      <td>0.0</td>\n",
              "      <td>0.0</td>\n",
              "      <td>0.0</td>\n",
              "      <td>0.0</td>\n",
              "      <td>0.0</td>\n",
              "      <td>0.0</td>\n",
              "      <td>0.0</td>\n",
              "      <td>0.0</td>\n",
              "      <td>1.0</td>\n",
              "      <td>0.0</td>\n",
              "    </tr>\n",
              "    <tr>\n",
              "      <th>235</th>\n",
              "      <td>1210.0</td>\n",
              "      <td>Female</td>\n",
              "      <td>68.0</td>\n",
              "      <td>0.0</td>\n",
              "      <td>0.0</td>\n",
              "      <td>Yes</td>\n",
              "      <td>Private</td>\n",
              "      <td>Rural</td>\n",
              "      <td>211.06</td>\n",
              "      <td>39.3</td>\n",
              "      <td>...</td>\n",
              "      <td>0.0</td>\n",
              "      <td>0.0</td>\n",
              "      <td>0.0</td>\n",
              "      <td>0.0</td>\n",
              "      <td>0.0</td>\n",
              "      <td>0.0</td>\n",
              "      <td>0.0</td>\n",
              "      <td>0.0</td>\n",
              "      <td>0.0</td>\n",
              "      <td>1.0</td>\n",
              "    </tr>\n",
              "    <tr>\n",
              "      <th>236</th>\n",
              "      <td>28493.0</td>\n",
              "      <td>Male</td>\n",
              "      <td>57.0</td>\n",
              "      <td>0.0</td>\n",
              "      <td>0.0</td>\n",
              "      <td>Yes</td>\n",
              "      <td>Private</td>\n",
              "      <td>Urban</td>\n",
              "      <td>86.30</td>\n",
              "      <td>31.7</td>\n",
              "      <td>...</td>\n",
              "      <td>0.0</td>\n",
              "      <td>0.0</td>\n",
              "      <td>0.0</td>\n",
              "      <td>0.0</td>\n",
              "      <td>0.0</td>\n",
              "      <td>0.0</td>\n",
              "      <td>0.0</td>\n",
              "      <td>0.0</td>\n",
              "      <td>1.0</td>\n",
              "      <td>0.0</td>\n",
              "    </tr>\n",
              "    <tr>\n",
              "      <th>237</th>\n",
              "      <td>36857.0</td>\n",
              "      <td>Male</td>\n",
              "      <td>77.0</td>\n",
              "      <td>0.0</td>\n",
              "      <td>0.0</td>\n",
              "      <td>Yes</td>\n",
              "      <td>Self-employed</td>\n",
              "      <td>Rural</td>\n",
              "      <td>162.14</td>\n",
              "      <td>32.6</td>\n",
              "      <td>...</td>\n",
              "      <td>0.0</td>\n",
              "      <td>0.0</td>\n",
              "      <td>0.0</td>\n",
              "      <td>0.0</td>\n",
              "      <td>0.0</td>\n",
              "      <td>0.0</td>\n",
              "      <td>0.0</td>\n",
              "      <td>0.0</td>\n",
              "      <td>1.0</td>\n",
              "      <td>0.0</td>\n",
              "    </tr>\n",
              "    <tr>\n",
              "      <th>238</th>\n",
              "      <td>1836.0</td>\n",
              "      <td>Female</td>\n",
              "      <td>51.0</td>\n",
              "      <td>1.0</td>\n",
              "      <td>0.0</td>\n",
              "      <td>Yes</td>\n",
              "      <td>Private</td>\n",
              "      <td>Urban</td>\n",
              "      <td>88.20</td>\n",
              "      <td>28.4</td>\n",
              "      <td>...</td>\n",
              "      <td>0.0</td>\n",
              "      <td>0.0</td>\n",
              "      <td>0.0</td>\n",
              "      <td>0.0</td>\n",
              "      <td>0.0</td>\n",
              "      <td>0.0</td>\n",
              "      <td>0.0</td>\n",
              "      <td>0.0</td>\n",
              "      <td>1.0</td>\n",
              "      <td>0.0</td>\n",
              "    </tr>\n",
              "  </tbody>\n",
              "</table>\n",
              "<p>200 rows × 446 columns</p>\n",
              "</div>\n",
              "      <button class=\"colab-df-convert\" onclick=\"convertToInteractive('df-72d9e3b4-20ce-4c19-83f9-8306d3fca5c5')\"\n",
              "              title=\"Convert this dataframe to an interactive table.\"\n",
              "              style=\"display:none;\">\n",
              "        \n",
              "  <svg xmlns=\"http://www.w3.org/2000/svg\" height=\"24px\"viewBox=\"0 0 24 24\"\n",
              "       width=\"24px\">\n",
              "    <path d=\"M0 0h24v24H0V0z\" fill=\"none\"/>\n",
              "    <path d=\"M18.56 5.44l.94 2.06.94-2.06 2.06-.94-2.06-.94-.94-2.06-.94 2.06-2.06.94zm-11 1L8.5 8.5l.94-2.06 2.06-.94-2.06-.94L8.5 2.5l-.94 2.06-2.06.94zm10 10l.94 2.06.94-2.06 2.06-.94-2.06-.94-.94-2.06-.94 2.06-2.06.94z\"/><path d=\"M17.41 7.96l-1.37-1.37c-.4-.4-.92-.59-1.43-.59-.52 0-1.04.2-1.43.59L10.3 9.45l-7.72 7.72c-.78.78-.78 2.05 0 2.83L4 21.41c.39.39.9.59 1.41.59.51 0 1.02-.2 1.41-.59l7.78-7.78 2.81-2.81c.8-.78.8-2.07 0-2.86zM5.41 20L4 18.59l7.72-7.72 1.47 1.35L5.41 20z\"/>\n",
              "  </svg>\n",
              "      </button>\n",
              "      \n",
              "  <style>\n",
              "    .colab-df-container {\n",
              "      display:flex;\n",
              "      flex-wrap:wrap;\n",
              "      gap: 12px;\n",
              "    }\n",
              "\n",
              "    .colab-df-convert {\n",
              "      background-color: #E8F0FE;\n",
              "      border: none;\n",
              "      border-radius: 50%;\n",
              "      cursor: pointer;\n",
              "      display: none;\n",
              "      fill: #1967D2;\n",
              "      height: 32px;\n",
              "      padding: 0 0 0 0;\n",
              "      width: 32px;\n",
              "    }\n",
              "\n",
              "    .colab-df-convert:hover {\n",
              "      background-color: #E2EBFA;\n",
              "      box-shadow: 0px 1px 2px rgba(60, 64, 67, 0.3), 0px 1px 3px 1px rgba(60, 64, 67, 0.15);\n",
              "      fill: #174EA6;\n",
              "    }\n",
              "\n",
              "    [theme=dark] .colab-df-convert {\n",
              "      background-color: #3B4455;\n",
              "      fill: #D2E3FC;\n",
              "    }\n",
              "\n",
              "    [theme=dark] .colab-df-convert:hover {\n",
              "      background-color: #434B5C;\n",
              "      box-shadow: 0px 1px 3px 1px rgba(0, 0, 0, 0.15);\n",
              "      filter: drop-shadow(0px 1px 2px rgba(0, 0, 0, 0.3));\n",
              "      fill: #FFFFFF;\n",
              "    }\n",
              "  </style>\n",
              "\n",
              "      <script>\n",
              "        const buttonEl =\n",
              "          document.querySelector('#df-72d9e3b4-20ce-4c19-83f9-8306d3fca5c5 button.colab-df-convert');\n",
              "        buttonEl.style.display =\n",
              "          google.colab.kernel.accessAllowed ? 'block' : 'none';\n",
              "\n",
              "        async function convertToInteractive(key) {\n",
              "          const element = document.querySelector('#df-72d9e3b4-20ce-4c19-83f9-8306d3fca5c5');\n",
              "          const dataTable =\n",
              "            await google.colab.kernel.invokeFunction('convertToInteractive',\n",
              "                                                     [key], {});\n",
              "          if (!dataTable) return;\n",
              "\n",
              "          const docLinkHtml = 'Like what you see? Visit the ' +\n",
              "            '<a target=\"_blank\" href=https://colab.research.google.com/notebooks/data_table.ipynb>data table notebook</a>'\n",
              "            + ' to learn more about interactive tables.';\n",
              "          element.innerHTML = '';\n",
              "          dataTable['output_type'] = 'display_data';\n",
              "          await google.colab.output.renderOutput(dataTable, element);\n",
              "          const docLink = document.createElement('div');\n",
              "          docLink.innerHTML = docLinkHtml;\n",
              "          element.appendChild(docLink);\n",
              "        }\n",
              "      </script>\n",
              "    </div>\n",
              "  </div>\n",
              "  "
            ]
          },
          "metadata": {},
          "execution_count": 87
        }
      ]
    },
    {
      "cell_type": "markdown",
      "source": [
        "Existen 1544 personas de las que se desconoce si fuman o no; vamos a asignar también un número para esta posibilidad. \n"
      ],
      "metadata": {
        "id": "ZWvamgx9khcO"
      }
    },
    {
      "cell_type": "code",
      "source": [
        "#con la operacion de OnehotEncoder ya hemos asignado un número a los que se desconoce si fuman o no \n",
        "df_health_new['smoking_status'].isnull().values.any()\n",
        "\n",
        "df_health_new1 = df_health_new.loc[(df_health_new.smoking_status == \"Unknown\")]\n",
        "df_health_new1.head(1500)\n"
      ],
      "metadata": {
        "colab": {
          "base_uri": "https://localhost:8080/",
          "height": 505
        },
        "id": "bD8AZEP5kiU1",
        "outputId": "aba2a29c-eb14-48c1-c401-a75a2f5bd838"
      },
      "execution_count": 88,
      "outputs": [
        {
          "output_type": "execute_result",
          "data": {
            "text/plain": [
              "           id  gender   age  hypertension  heart_disease ever_married  \\\n",
              "9     60491.0  Female  78.0           0.0            0.0          Yes   \n",
              "23    64778.0    Male  82.0           0.0            1.0          Yes   \n",
              "31    33879.0    Male  42.0           0.0            0.0          Yes   \n",
              "38    47306.0    Male  58.0           0.0            0.0           No   \n",
              "67    72366.0    Male  76.0           0.0            0.0          Yes   \n",
              "...       ...     ...   ...           ...            ...          ...   \n",
              "5098    579.0    Male   9.0           0.0            0.0           No   \n",
              "5101  36901.0  Female  45.0           0.0            0.0          Yes   \n",
              "5103  22127.0  Female  18.0           0.0            0.0           No   \n",
              "5104  14180.0  Female  13.0           0.0            0.0           No   \n",
              "5109  44679.0  Female  44.0           0.0            0.0          Yes   \n",
              "\n",
              "     work_type Residence_type  avg_glucose_level   bmi  ... bmi_64.8  \\\n",
              "9      Private          Urban              58.57  24.2  ...      0.0   \n",
              "23     Private          Rural             208.30  32.5  ...      0.0   \n",
              "31     Private          Rural              83.41  25.4  ...      0.0   \n",
              "38     Private          Rural              92.62  32.0  ...      0.0   \n",
              "67     Private          Urban             104.47  20.3  ...      0.0   \n",
              "...        ...            ...                ...   ...  ...      ...   \n",
              "5098  children          Urban              71.88  17.5  ...      NaN   \n",
              "5101   Private          Urban              97.95  24.5  ...      NaN   \n",
              "5103   Private          Urban              82.85  46.9  ...      NaN   \n",
              "5104  children          Rural             103.08  18.6  ...      NaN   \n",
              "5109  Govt_job          Urban              85.28  26.2  ...      NaN   \n",
              "\n",
              "      bmi_66.8  bmi_71.9  bmi_78.0  bmi_92.0  bmi_97.6  \\\n",
              "9          0.0       0.0       0.0       0.0       0.0   \n",
              "23         0.0       0.0       0.0       0.0       0.0   \n",
              "31         0.0       0.0       0.0       0.0       0.0   \n",
              "38         0.0       0.0       0.0       0.0       0.0   \n",
              "67         0.0       0.0       0.0       0.0       0.0   \n",
              "...        ...       ...       ...       ...       ...   \n",
              "5098       NaN       NaN       NaN       NaN       NaN   \n",
              "5101       NaN       NaN       NaN       NaN       NaN   \n",
              "5103       NaN       NaN       NaN       NaN       NaN   \n",
              "5104       NaN       NaN       NaN       NaN       NaN   \n",
              "5109       NaN       NaN       NaN       NaN       NaN   \n",
              "\n",
              "      smoking_status_Unknown  smoking_status_formerly smoked  \\\n",
              "9                        0.0                             0.0   \n",
              "23                       0.0                             0.0   \n",
              "31                       0.0                             1.0   \n",
              "38                       0.0                             0.0   \n",
              "67                       0.0                             0.0   \n",
              "...                      ...                             ...   \n",
              "5098                     NaN                             NaN   \n",
              "5101                     NaN                             NaN   \n",
              "5103                     NaN                             NaN   \n",
              "5104                     NaN                             NaN   \n",
              "5109                     NaN                             NaN   \n",
              "\n",
              "      smoking_status_never smoked  smoking_status_smokes  \n",
              "9                             0.0                    1.0  \n",
              "23                            0.0                    1.0  \n",
              "31                            0.0                    0.0  \n",
              "38                            1.0                    0.0  \n",
              "67                            1.0                    0.0  \n",
              "...                           ...                    ...  \n",
              "5098                          NaN                    NaN  \n",
              "5101                          NaN                    NaN  \n",
              "5103                          NaN                    NaN  \n",
              "5104                          NaN                    NaN  \n",
              "5109                          NaN                    NaN  \n",
              "\n",
              "[1483 rows x 446 columns]"
            ],
            "text/html": [
              "\n",
              "  <div id=\"df-a8678fc3-889c-413b-b0ee-edf73739d865\">\n",
              "    <div class=\"colab-df-container\">\n",
              "      <div>\n",
              "<style scoped>\n",
              "    .dataframe tbody tr th:only-of-type {\n",
              "        vertical-align: middle;\n",
              "    }\n",
              "\n",
              "    .dataframe tbody tr th {\n",
              "        vertical-align: top;\n",
              "    }\n",
              "\n",
              "    .dataframe thead th {\n",
              "        text-align: right;\n",
              "    }\n",
              "</style>\n",
              "<table border=\"1\" class=\"dataframe\">\n",
              "  <thead>\n",
              "    <tr style=\"text-align: right;\">\n",
              "      <th></th>\n",
              "      <th>id</th>\n",
              "      <th>gender</th>\n",
              "      <th>age</th>\n",
              "      <th>hypertension</th>\n",
              "      <th>heart_disease</th>\n",
              "      <th>ever_married</th>\n",
              "      <th>work_type</th>\n",
              "      <th>Residence_type</th>\n",
              "      <th>avg_glucose_level</th>\n",
              "      <th>bmi</th>\n",
              "      <th>...</th>\n",
              "      <th>bmi_64.8</th>\n",
              "      <th>bmi_66.8</th>\n",
              "      <th>bmi_71.9</th>\n",
              "      <th>bmi_78.0</th>\n",
              "      <th>bmi_92.0</th>\n",
              "      <th>bmi_97.6</th>\n",
              "      <th>smoking_status_Unknown</th>\n",
              "      <th>smoking_status_formerly smoked</th>\n",
              "      <th>smoking_status_never smoked</th>\n",
              "      <th>smoking_status_smokes</th>\n",
              "    </tr>\n",
              "  </thead>\n",
              "  <tbody>\n",
              "    <tr>\n",
              "      <th>9</th>\n",
              "      <td>60491.0</td>\n",
              "      <td>Female</td>\n",
              "      <td>78.0</td>\n",
              "      <td>0.0</td>\n",
              "      <td>0.0</td>\n",
              "      <td>Yes</td>\n",
              "      <td>Private</td>\n",
              "      <td>Urban</td>\n",
              "      <td>58.57</td>\n",
              "      <td>24.2</td>\n",
              "      <td>...</td>\n",
              "      <td>0.0</td>\n",
              "      <td>0.0</td>\n",
              "      <td>0.0</td>\n",
              "      <td>0.0</td>\n",
              "      <td>0.0</td>\n",
              "      <td>0.0</td>\n",
              "      <td>0.0</td>\n",
              "      <td>0.0</td>\n",
              "      <td>0.0</td>\n",
              "      <td>1.0</td>\n",
              "    </tr>\n",
              "    <tr>\n",
              "      <th>23</th>\n",
              "      <td>64778.0</td>\n",
              "      <td>Male</td>\n",
              "      <td>82.0</td>\n",
              "      <td>0.0</td>\n",
              "      <td>1.0</td>\n",
              "      <td>Yes</td>\n",
              "      <td>Private</td>\n",
              "      <td>Rural</td>\n",
              "      <td>208.30</td>\n",
              "      <td>32.5</td>\n",
              "      <td>...</td>\n",
              "      <td>0.0</td>\n",
              "      <td>0.0</td>\n",
              "      <td>0.0</td>\n",
              "      <td>0.0</td>\n",
              "      <td>0.0</td>\n",
              "      <td>0.0</td>\n",
              "      <td>0.0</td>\n",
              "      <td>0.0</td>\n",
              "      <td>0.0</td>\n",
              "      <td>1.0</td>\n",
              "    </tr>\n",
              "    <tr>\n",
              "      <th>31</th>\n",
              "      <td>33879.0</td>\n",
              "      <td>Male</td>\n",
              "      <td>42.0</td>\n",
              "      <td>0.0</td>\n",
              "      <td>0.0</td>\n",
              "      <td>Yes</td>\n",
              "      <td>Private</td>\n",
              "      <td>Rural</td>\n",
              "      <td>83.41</td>\n",
              "      <td>25.4</td>\n",
              "      <td>...</td>\n",
              "      <td>0.0</td>\n",
              "      <td>0.0</td>\n",
              "      <td>0.0</td>\n",
              "      <td>0.0</td>\n",
              "      <td>0.0</td>\n",
              "      <td>0.0</td>\n",
              "      <td>0.0</td>\n",
              "      <td>1.0</td>\n",
              "      <td>0.0</td>\n",
              "      <td>0.0</td>\n",
              "    </tr>\n",
              "    <tr>\n",
              "      <th>38</th>\n",
              "      <td>47306.0</td>\n",
              "      <td>Male</td>\n",
              "      <td>58.0</td>\n",
              "      <td>0.0</td>\n",
              "      <td>0.0</td>\n",
              "      <td>No</td>\n",
              "      <td>Private</td>\n",
              "      <td>Rural</td>\n",
              "      <td>92.62</td>\n",
              "      <td>32.0</td>\n",
              "      <td>...</td>\n",
              "      <td>0.0</td>\n",
              "      <td>0.0</td>\n",
              "      <td>0.0</td>\n",
              "      <td>0.0</td>\n",
              "      <td>0.0</td>\n",
              "      <td>0.0</td>\n",
              "      <td>0.0</td>\n",
              "      <td>0.0</td>\n",
              "      <td>1.0</td>\n",
              "      <td>0.0</td>\n",
              "    </tr>\n",
              "    <tr>\n",
              "      <th>67</th>\n",
              "      <td>72366.0</td>\n",
              "      <td>Male</td>\n",
              "      <td>76.0</td>\n",
              "      <td>0.0</td>\n",
              "      <td>0.0</td>\n",
              "      <td>Yes</td>\n",
              "      <td>Private</td>\n",
              "      <td>Urban</td>\n",
              "      <td>104.47</td>\n",
              "      <td>20.3</td>\n",
              "      <td>...</td>\n",
              "      <td>0.0</td>\n",
              "      <td>0.0</td>\n",
              "      <td>0.0</td>\n",
              "      <td>0.0</td>\n",
              "      <td>0.0</td>\n",
              "      <td>0.0</td>\n",
              "      <td>0.0</td>\n",
              "      <td>0.0</td>\n",
              "      <td>1.0</td>\n",
              "      <td>0.0</td>\n",
              "    </tr>\n",
              "    <tr>\n",
              "      <th>...</th>\n",
              "      <td>...</td>\n",
              "      <td>...</td>\n",
              "      <td>...</td>\n",
              "      <td>...</td>\n",
              "      <td>...</td>\n",
              "      <td>...</td>\n",
              "      <td>...</td>\n",
              "      <td>...</td>\n",
              "      <td>...</td>\n",
              "      <td>...</td>\n",
              "      <td>...</td>\n",
              "      <td>...</td>\n",
              "      <td>...</td>\n",
              "      <td>...</td>\n",
              "      <td>...</td>\n",
              "      <td>...</td>\n",
              "      <td>...</td>\n",
              "      <td>...</td>\n",
              "      <td>...</td>\n",
              "      <td>...</td>\n",
              "      <td>...</td>\n",
              "    </tr>\n",
              "    <tr>\n",
              "      <th>5098</th>\n",
              "      <td>579.0</td>\n",
              "      <td>Male</td>\n",
              "      <td>9.0</td>\n",
              "      <td>0.0</td>\n",
              "      <td>0.0</td>\n",
              "      <td>No</td>\n",
              "      <td>children</td>\n",
              "      <td>Urban</td>\n",
              "      <td>71.88</td>\n",
              "      <td>17.5</td>\n",
              "      <td>...</td>\n",
              "      <td>NaN</td>\n",
              "      <td>NaN</td>\n",
              "      <td>NaN</td>\n",
              "      <td>NaN</td>\n",
              "      <td>NaN</td>\n",
              "      <td>NaN</td>\n",
              "      <td>NaN</td>\n",
              "      <td>NaN</td>\n",
              "      <td>NaN</td>\n",
              "      <td>NaN</td>\n",
              "    </tr>\n",
              "    <tr>\n",
              "      <th>5101</th>\n",
              "      <td>36901.0</td>\n",
              "      <td>Female</td>\n",
              "      <td>45.0</td>\n",
              "      <td>0.0</td>\n",
              "      <td>0.0</td>\n",
              "      <td>Yes</td>\n",
              "      <td>Private</td>\n",
              "      <td>Urban</td>\n",
              "      <td>97.95</td>\n",
              "      <td>24.5</td>\n",
              "      <td>...</td>\n",
              "      <td>NaN</td>\n",
              "      <td>NaN</td>\n",
              "      <td>NaN</td>\n",
              "      <td>NaN</td>\n",
              "      <td>NaN</td>\n",
              "      <td>NaN</td>\n",
              "      <td>NaN</td>\n",
              "      <td>NaN</td>\n",
              "      <td>NaN</td>\n",
              "      <td>NaN</td>\n",
              "    </tr>\n",
              "    <tr>\n",
              "      <th>5103</th>\n",
              "      <td>22127.0</td>\n",
              "      <td>Female</td>\n",
              "      <td>18.0</td>\n",
              "      <td>0.0</td>\n",
              "      <td>0.0</td>\n",
              "      <td>No</td>\n",
              "      <td>Private</td>\n",
              "      <td>Urban</td>\n",
              "      <td>82.85</td>\n",
              "      <td>46.9</td>\n",
              "      <td>...</td>\n",
              "      <td>NaN</td>\n",
              "      <td>NaN</td>\n",
              "      <td>NaN</td>\n",
              "      <td>NaN</td>\n",
              "      <td>NaN</td>\n",
              "      <td>NaN</td>\n",
              "      <td>NaN</td>\n",
              "      <td>NaN</td>\n",
              "      <td>NaN</td>\n",
              "      <td>NaN</td>\n",
              "    </tr>\n",
              "    <tr>\n",
              "      <th>5104</th>\n",
              "      <td>14180.0</td>\n",
              "      <td>Female</td>\n",
              "      <td>13.0</td>\n",
              "      <td>0.0</td>\n",
              "      <td>0.0</td>\n",
              "      <td>No</td>\n",
              "      <td>children</td>\n",
              "      <td>Rural</td>\n",
              "      <td>103.08</td>\n",
              "      <td>18.6</td>\n",
              "      <td>...</td>\n",
              "      <td>NaN</td>\n",
              "      <td>NaN</td>\n",
              "      <td>NaN</td>\n",
              "      <td>NaN</td>\n",
              "      <td>NaN</td>\n",
              "      <td>NaN</td>\n",
              "      <td>NaN</td>\n",
              "      <td>NaN</td>\n",
              "      <td>NaN</td>\n",
              "      <td>NaN</td>\n",
              "    </tr>\n",
              "    <tr>\n",
              "      <th>5109</th>\n",
              "      <td>44679.0</td>\n",
              "      <td>Female</td>\n",
              "      <td>44.0</td>\n",
              "      <td>0.0</td>\n",
              "      <td>0.0</td>\n",
              "      <td>Yes</td>\n",
              "      <td>Govt_job</td>\n",
              "      <td>Urban</td>\n",
              "      <td>85.28</td>\n",
              "      <td>26.2</td>\n",
              "      <td>...</td>\n",
              "      <td>NaN</td>\n",
              "      <td>NaN</td>\n",
              "      <td>NaN</td>\n",
              "      <td>NaN</td>\n",
              "      <td>NaN</td>\n",
              "      <td>NaN</td>\n",
              "      <td>NaN</td>\n",
              "      <td>NaN</td>\n",
              "      <td>NaN</td>\n",
              "      <td>NaN</td>\n",
              "    </tr>\n",
              "  </tbody>\n",
              "</table>\n",
              "<p>1483 rows × 446 columns</p>\n",
              "</div>\n",
              "      <button class=\"colab-df-convert\" onclick=\"convertToInteractive('df-a8678fc3-889c-413b-b0ee-edf73739d865')\"\n",
              "              title=\"Convert this dataframe to an interactive table.\"\n",
              "              style=\"display:none;\">\n",
              "        \n",
              "  <svg xmlns=\"http://www.w3.org/2000/svg\" height=\"24px\"viewBox=\"0 0 24 24\"\n",
              "       width=\"24px\">\n",
              "    <path d=\"M0 0h24v24H0V0z\" fill=\"none\"/>\n",
              "    <path d=\"M18.56 5.44l.94 2.06.94-2.06 2.06-.94-2.06-.94-.94-2.06-.94 2.06-2.06.94zm-11 1L8.5 8.5l.94-2.06 2.06-.94-2.06-.94L8.5 2.5l-.94 2.06-2.06.94zm10 10l.94 2.06.94-2.06 2.06-.94-2.06-.94-.94-2.06-.94 2.06-2.06.94z\"/><path d=\"M17.41 7.96l-1.37-1.37c-.4-.4-.92-.59-1.43-.59-.52 0-1.04.2-1.43.59L10.3 9.45l-7.72 7.72c-.78.78-.78 2.05 0 2.83L4 21.41c.39.39.9.59 1.41.59.51 0 1.02-.2 1.41-.59l7.78-7.78 2.81-2.81c.8-.78.8-2.07 0-2.86zM5.41 20L4 18.59l7.72-7.72 1.47 1.35L5.41 20z\"/>\n",
              "  </svg>\n",
              "      </button>\n",
              "      \n",
              "  <style>\n",
              "    .colab-df-container {\n",
              "      display:flex;\n",
              "      flex-wrap:wrap;\n",
              "      gap: 12px;\n",
              "    }\n",
              "\n",
              "    .colab-df-convert {\n",
              "      background-color: #E8F0FE;\n",
              "      border: none;\n",
              "      border-radius: 50%;\n",
              "      cursor: pointer;\n",
              "      display: none;\n",
              "      fill: #1967D2;\n",
              "      height: 32px;\n",
              "      padding: 0 0 0 0;\n",
              "      width: 32px;\n",
              "    }\n",
              "\n",
              "    .colab-df-convert:hover {\n",
              "      background-color: #E2EBFA;\n",
              "      box-shadow: 0px 1px 2px rgba(60, 64, 67, 0.3), 0px 1px 3px 1px rgba(60, 64, 67, 0.15);\n",
              "      fill: #174EA6;\n",
              "    }\n",
              "\n",
              "    [theme=dark] .colab-df-convert {\n",
              "      background-color: #3B4455;\n",
              "      fill: #D2E3FC;\n",
              "    }\n",
              "\n",
              "    [theme=dark] .colab-df-convert:hover {\n",
              "      background-color: #434B5C;\n",
              "      box-shadow: 0px 1px 3px 1px rgba(0, 0, 0, 0.15);\n",
              "      filter: drop-shadow(0px 1px 2px rgba(0, 0, 0, 0.3));\n",
              "      fill: #FFFFFF;\n",
              "    }\n",
              "  </style>\n",
              "\n",
              "      <script>\n",
              "        const buttonEl =\n",
              "          document.querySelector('#df-a8678fc3-889c-413b-b0ee-edf73739d865 button.colab-df-convert');\n",
              "        buttonEl.style.display =\n",
              "          google.colab.kernel.accessAllowed ? 'block' : 'none';\n",
              "\n",
              "        async function convertToInteractive(key) {\n",
              "          const element = document.querySelector('#df-a8678fc3-889c-413b-b0ee-edf73739d865');\n",
              "          const dataTable =\n",
              "            await google.colab.kernel.invokeFunction('convertToInteractive',\n",
              "                                                     [key], {});\n",
              "          if (!dataTable) return;\n",
              "\n",
              "          const docLinkHtml = 'Like what you see? Visit the ' +\n",
              "            '<a target=\"_blank\" href=https://colab.research.google.com/notebooks/data_table.ipynb>data table notebook</a>'\n",
              "            + ' to learn more about interactive tables.';\n",
              "          element.innerHTML = '';\n",
              "          dataTable['output_type'] = 'display_data';\n",
              "          await google.colab.output.renderOutput(dataTable, element);\n",
              "          const docLink = document.createElement('div');\n",
              "          docLink.innerHTML = docLinkHtml;\n",
              "          element.appendChild(docLink);\n",
              "        }\n",
              "      </script>\n",
              "    </div>\n",
              "  </div>\n",
              "  "
            ]
          },
          "metadata": {},
          "execution_count": 88
        }
      ]
    },
    {
      "cell_type": "markdown",
      "source": [
        "Primero transformo las variables categoricas a numéricas utilizando OneHotEncoder. Sin embargo la transformación de OneHotEncoder me da muchos problemas para escalar las variables. Por este motivo decido utilizar la transformación de LabelEncoder."
      ],
      "metadata": {
        "id": "CZyXWsdWeXJk"
      }
    },
    {
      "cell_type": "code",
      "source": [
        "#Para poder escalar transformo las variables con  LabelEncoder()\n",
        "#Transformamos las variables categoricas a numericas \n",
        "#(gender, ever_married, work_type, residence_type, bmi, smoking_status)\n",
        "#usamos LabelEncoder\n",
        "from sklearn import preprocessing \n",
        "le = preprocessing.LabelEncoder()\n",
        "\n",
        "df_health.gender = le.fit_transform(df_health.gender)\n",
        "df_health.ever_married = le.fit_transform(df_health.ever_married)\n",
        "df_health.work_type = le.fit_transform(df_health.work_type)\n",
        "df_health.Residence_type = le.fit_transform(df_health.Residence_type)\n",
        "df_health.bmi = le.fit_transform(df_health.bmi)\n",
        "df_health.smoking_status = le.fit_transform(df_health.smoking_status)\n",
        "\n",
        "df_health.head()\n"
      ],
      "metadata": {
        "colab": {
          "base_uri": "https://localhost:8080/",
          "height": 250
        },
        "id": "c_bkAHgN5nPz",
        "outputId": "958ff0a2-5919-4f75-a853-8ad57b7707b0"
      },
      "execution_count": 89,
      "outputs": [
        {
          "output_type": "execute_result",
          "data": {
            "text/plain": [
              "      id  gender   age  hypertension  heart_disease  ever_married  work_type  \\\n",
              "0   9046       1  67.0             0              1             1          2   \n",
              "2  31112       1  80.0             0              1             1          2   \n",
              "3  60182       0  49.0             0              0             1          2   \n",
              "4   1665       0  79.0             1              0             1          3   \n",
              "5  56669       1  81.0             0              0             1          2   \n",
              "\n",
              "   Residence_type  avg_glucose_level  bmi  smoking_status  stroke  \n",
              "0               1             228.69  239               1       1  \n",
              "2               0             105.92  198               2       1  \n",
              "3               1             171.23  217               3       1  \n",
              "4               0             174.12  113               2       1  \n",
              "5               1             186.21  163               1       1  "
            ],
            "text/html": [
              "\n",
              "  <div id=\"df-5d32c4f6-5fc8-4110-9038-4da25c80b84c\">\n",
              "    <div class=\"colab-df-container\">\n",
              "      <div>\n",
              "<style scoped>\n",
              "    .dataframe tbody tr th:only-of-type {\n",
              "        vertical-align: middle;\n",
              "    }\n",
              "\n",
              "    .dataframe tbody tr th {\n",
              "        vertical-align: top;\n",
              "    }\n",
              "\n",
              "    .dataframe thead th {\n",
              "        text-align: right;\n",
              "    }\n",
              "</style>\n",
              "<table border=\"1\" class=\"dataframe\">\n",
              "  <thead>\n",
              "    <tr style=\"text-align: right;\">\n",
              "      <th></th>\n",
              "      <th>id</th>\n",
              "      <th>gender</th>\n",
              "      <th>age</th>\n",
              "      <th>hypertension</th>\n",
              "      <th>heart_disease</th>\n",
              "      <th>ever_married</th>\n",
              "      <th>work_type</th>\n",
              "      <th>Residence_type</th>\n",
              "      <th>avg_glucose_level</th>\n",
              "      <th>bmi</th>\n",
              "      <th>smoking_status</th>\n",
              "      <th>stroke</th>\n",
              "    </tr>\n",
              "  </thead>\n",
              "  <tbody>\n",
              "    <tr>\n",
              "      <th>0</th>\n",
              "      <td>9046</td>\n",
              "      <td>1</td>\n",
              "      <td>67.0</td>\n",
              "      <td>0</td>\n",
              "      <td>1</td>\n",
              "      <td>1</td>\n",
              "      <td>2</td>\n",
              "      <td>1</td>\n",
              "      <td>228.69</td>\n",
              "      <td>239</td>\n",
              "      <td>1</td>\n",
              "      <td>1</td>\n",
              "    </tr>\n",
              "    <tr>\n",
              "      <th>2</th>\n",
              "      <td>31112</td>\n",
              "      <td>1</td>\n",
              "      <td>80.0</td>\n",
              "      <td>0</td>\n",
              "      <td>1</td>\n",
              "      <td>1</td>\n",
              "      <td>2</td>\n",
              "      <td>0</td>\n",
              "      <td>105.92</td>\n",
              "      <td>198</td>\n",
              "      <td>2</td>\n",
              "      <td>1</td>\n",
              "    </tr>\n",
              "    <tr>\n",
              "      <th>3</th>\n",
              "      <td>60182</td>\n",
              "      <td>0</td>\n",
              "      <td>49.0</td>\n",
              "      <td>0</td>\n",
              "      <td>0</td>\n",
              "      <td>1</td>\n",
              "      <td>2</td>\n",
              "      <td>1</td>\n",
              "      <td>171.23</td>\n",
              "      <td>217</td>\n",
              "      <td>3</td>\n",
              "      <td>1</td>\n",
              "    </tr>\n",
              "    <tr>\n",
              "      <th>4</th>\n",
              "      <td>1665</td>\n",
              "      <td>0</td>\n",
              "      <td>79.0</td>\n",
              "      <td>1</td>\n",
              "      <td>0</td>\n",
              "      <td>1</td>\n",
              "      <td>3</td>\n",
              "      <td>0</td>\n",
              "      <td>174.12</td>\n",
              "      <td>113</td>\n",
              "      <td>2</td>\n",
              "      <td>1</td>\n",
              "    </tr>\n",
              "    <tr>\n",
              "      <th>5</th>\n",
              "      <td>56669</td>\n",
              "      <td>1</td>\n",
              "      <td>81.0</td>\n",
              "      <td>0</td>\n",
              "      <td>0</td>\n",
              "      <td>1</td>\n",
              "      <td>2</td>\n",
              "      <td>1</td>\n",
              "      <td>186.21</td>\n",
              "      <td>163</td>\n",
              "      <td>1</td>\n",
              "      <td>1</td>\n",
              "    </tr>\n",
              "  </tbody>\n",
              "</table>\n",
              "</div>\n",
              "      <button class=\"colab-df-convert\" onclick=\"convertToInteractive('df-5d32c4f6-5fc8-4110-9038-4da25c80b84c')\"\n",
              "              title=\"Convert this dataframe to an interactive table.\"\n",
              "              style=\"display:none;\">\n",
              "        \n",
              "  <svg xmlns=\"http://www.w3.org/2000/svg\" height=\"24px\"viewBox=\"0 0 24 24\"\n",
              "       width=\"24px\">\n",
              "    <path d=\"M0 0h24v24H0V0z\" fill=\"none\"/>\n",
              "    <path d=\"M18.56 5.44l.94 2.06.94-2.06 2.06-.94-2.06-.94-.94-2.06-.94 2.06-2.06.94zm-11 1L8.5 8.5l.94-2.06 2.06-.94-2.06-.94L8.5 2.5l-.94 2.06-2.06.94zm10 10l.94 2.06.94-2.06 2.06-.94-2.06-.94-.94-2.06-.94 2.06-2.06.94z\"/><path d=\"M17.41 7.96l-1.37-1.37c-.4-.4-.92-.59-1.43-.59-.52 0-1.04.2-1.43.59L10.3 9.45l-7.72 7.72c-.78.78-.78 2.05 0 2.83L4 21.41c.39.39.9.59 1.41.59.51 0 1.02-.2 1.41-.59l7.78-7.78 2.81-2.81c.8-.78.8-2.07 0-2.86zM5.41 20L4 18.59l7.72-7.72 1.47 1.35L5.41 20z\"/>\n",
              "  </svg>\n",
              "      </button>\n",
              "      \n",
              "  <style>\n",
              "    .colab-df-container {\n",
              "      display:flex;\n",
              "      flex-wrap:wrap;\n",
              "      gap: 12px;\n",
              "    }\n",
              "\n",
              "    .colab-df-convert {\n",
              "      background-color: #E8F0FE;\n",
              "      border: none;\n",
              "      border-radius: 50%;\n",
              "      cursor: pointer;\n",
              "      display: none;\n",
              "      fill: #1967D2;\n",
              "      height: 32px;\n",
              "      padding: 0 0 0 0;\n",
              "      width: 32px;\n",
              "    }\n",
              "\n",
              "    .colab-df-convert:hover {\n",
              "      background-color: #E2EBFA;\n",
              "      box-shadow: 0px 1px 2px rgba(60, 64, 67, 0.3), 0px 1px 3px 1px rgba(60, 64, 67, 0.15);\n",
              "      fill: #174EA6;\n",
              "    }\n",
              "\n",
              "    [theme=dark] .colab-df-convert {\n",
              "      background-color: #3B4455;\n",
              "      fill: #D2E3FC;\n",
              "    }\n",
              "\n",
              "    [theme=dark] .colab-df-convert:hover {\n",
              "      background-color: #434B5C;\n",
              "      box-shadow: 0px 1px 3px 1px rgba(0, 0, 0, 0.15);\n",
              "      filter: drop-shadow(0px 1px 2px rgba(0, 0, 0, 0.3));\n",
              "      fill: #FFFFFF;\n",
              "    }\n",
              "  </style>\n",
              "\n",
              "      <script>\n",
              "        const buttonEl =\n",
              "          document.querySelector('#df-5d32c4f6-5fc8-4110-9038-4da25c80b84c button.colab-df-convert');\n",
              "        buttonEl.style.display =\n",
              "          google.colab.kernel.accessAllowed ? 'block' : 'none';\n",
              "\n",
              "        async function convertToInteractive(key) {\n",
              "          const element = document.querySelector('#df-5d32c4f6-5fc8-4110-9038-4da25c80b84c');\n",
              "          const dataTable =\n",
              "            await google.colab.kernel.invokeFunction('convertToInteractive',\n",
              "                                                     [key], {});\n",
              "          if (!dataTable) return;\n",
              "\n",
              "          const docLinkHtml = 'Like what you see? Visit the ' +\n",
              "            '<a target=\"_blank\" href=https://colab.research.google.com/notebooks/data_table.ipynb>data table notebook</a>'\n",
              "            + ' to learn more about interactive tables.';\n",
              "          element.innerHTML = '';\n",
              "          dataTable['output_type'] = 'display_data';\n",
              "          await google.colab.output.renderOutput(dataTable, element);\n",
              "          const docLink = document.createElement('div');\n",
              "          docLink.innerHTML = docLinkHtml;\n",
              "          element.appendChild(docLink);\n",
              "        }\n",
              "      </script>\n",
              "    </div>\n",
              "  </div>\n",
              "  "
            ]
          },
          "metadata": {},
          "execution_count": 89
        }
      ]
    },
    {
      "cell_type": "markdown",
      "source": [
        "Escalar los datos para su uso por el algoritmo.\n",
        "Antes de escalar los datos, creamos otro dataset y eliminamos las columnas categoricas, solo dejamos las numericas"
      ],
      "metadata": {
        "id": "5XeqeGYBxPlI"
      }
    },
    {
      "cell_type": "code",
      "source": [
        "from sklearn.preprocessing import StandardScaler\n",
        "scaler = StandardScaler()\n",
        "scaled = scaler.fit(df_health.iloc[:,0:-1]).transform(df_health.iloc[:,0:-1])"
      ],
      "metadata": {
        "id": "yV86edPr1KMe"
      },
      "execution_count": 90,
      "outputs": []
    },
    {
      "cell_type": "code",
      "source": [
        "dfs = pd.DataFrame(scaled, columns=df_health.columns[:-1])\n",
        "dfs.head()"
      ],
      "metadata": {
        "colab": {
          "base_uri": "https://localhost:8080/",
          "height": 270
        },
        "id": "l99rY9nj7MSg",
        "outputId": "b1a20cc0-798e-46e2-dd81-def1aa17c5f6"
      },
      "execution_count": 91,
      "outputs": [
        {
          "output_type": "execute_result",
          "data": {
            "text/plain": [
              "         id    gender       age  hypertension  heart_disease  ever_married  \\\n",
              "0 -1.334653  1.198428  1.070138     -0.318067       4.381968      0.729484   \n",
              "1 -0.283539  1.198428  1.646563     -0.318067       4.381968      0.729484   \n",
              "2  1.101211 -0.833023  0.272012     -0.318067      -0.228208      0.729484   \n",
              "3 -1.686247 -0.833023  1.602222      3.143994      -0.228208      0.729484   \n",
              "4  0.933870  1.198428  1.690903     -0.318067      -0.228208      0.729484   \n",
              "\n",
              "   work_type  Residence_type  avg_glucose_level       bmi  smoking_status  \n",
              "0  -0.155697        0.985640           2.777698  1.037393       -0.351788  \n",
              "1  -0.155697       -1.014569           0.013842  0.491474        0.585232  \n",
              "2  -0.155697        0.985640           1.484132  0.744461        1.522252  \n",
              "3   0.759651       -1.014569           1.549193 -0.640310        0.585232  \n",
              "4  -0.155697        0.985640           1.821368  0.025445       -0.351788  "
            ],
            "text/html": [
              "\n",
              "  <div id=\"df-f5605915-fbd3-406b-bb58-c66576ed50b5\">\n",
              "    <div class=\"colab-df-container\">\n",
              "      <div>\n",
              "<style scoped>\n",
              "    .dataframe tbody tr th:only-of-type {\n",
              "        vertical-align: middle;\n",
              "    }\n",
              "\n",
              "    .dataframe tbody tr th {\n",
              "        vertical-align: top;\n",
              "    }\n",
              "\n",
              "    .dataframe thead th {\n",
              "        text-align: right;\n",
              "    }\n",
              "</style>\n",
              "<table border=\"1\" class=\"dataframe\">\n",
              "  <thead>\n",
              "    <tr style=\"text-align: right;\">\n",
              "      <th></th>\n",
              "      <th>id</th>\n",
              "      <th>gender</th>\n",
              "      <th>age</th>\n",
              "      <th>hypertension</th>\n",
              "      <th>heart_disease</th>\n",
              "      <th>ever_married</th>\n",
              "      <th>work_type</th>\n",
              "      <th>Residence_type</th>\n",
              "      <th>avg_glucose_level</th>\n",
              "      <th>bmi</th>\n",
              "      <th>smoking_status</th>\n",
              "    </tr>\n",
              "  </thead>\n",
              "  <tbody>\n",
              "    <tr>\n",
              "      <th>0</th>\n",
              "      <td>-1.334653</td>\n",
              "      <td>1.198428</td>\n",
              "      <td>1.070138</td>\n",
              "      <td>-0.318067</td>\n",
              "      <td>4.381968</td>\n",
              "      <td>0.729484</td>\n",
              "      <td>-0.155697</td>\n",
              "      <td>0.985640</td>\n",
              "      <td>2.777698</td>\n",
              "      <td>1.037393</td>\n",
              "      <td>-0.351788</td>\n",
              "    </tr>\n",
              "    <tr>\n",
              "      <th>1</th>\n",
              "      <td>-0.283539</td>\n",
              "      <td>1.198428</td>\n",
              "      <td>1.646563</td>\n",
              "      <td>-0.318067</td>\n",
              "      <td>4.381968</td>\n",
              "      <td>0.729484</td>\n",
              "      <td>-0.155697</td>\n",
              "      <td>-1.014569</td>\n",
              "      <td>0.013842</td>\n",
              "      <td>0.491474</td>\n",
              "      <td>0.585232</td>\n",
              "    </tr>\n",
              "    <tr>\n",
              "      <th>2</th>\n",
              "      <td>1.101211</td>\n",
              "      <td>-0.833023</td>\n",
              "      <td>0.272012</td>\n",
              "      <td>-0.318067</td>\n",
              "      <td>-0.228208</td>\n",
              "      <td>0.729484</td>\n",
              "      <td>-0.155697</td>\n",
              "      <td>0.985640</td>\n",
              "      <td>1.484132</td>\n",
              "      <td>0.744461</td>\n",
              "      <td>1.522252</td>\n",
              "    </tr>\n",
              "    <tr>\n",
              "      <th>3</th>\n",
              "      <td>-1.686247</td>\n",
              "      <td>-0.833023</td>\n",
              "      <td>1.602222</td>\n",
              "      <td>3.143994</td>\n",
              "      <td>-0.228208</td>\n",
              "      <td>0.729484</td>\n",
              "      <td>0.759651</td>\n",
              "      <td>-1.014569</td>\n",
              "      <td>1.549193</td>\n",
              "      <td>-0.640310</td>\n",
              "      <td>0.585232</td>\n",
              "    </tr>\n",
              "    <tr>\n",
              "      <th>4</th>\n",
              "      <td>0.933870</td>\n",
              "      <td>1.198428</td>\n",
              "      <td>1.690903</td>\n",
              "      <td>-0.318067</td>\n",
              "      <td>-0.228208</td>\n",
              "      <td>0.729484</td>\n",
              "      <td>-0.155697</td>\n",
              "      <td>0.985640</td>\n",
              "      <td>1.821368</td>\n",
              "      <td>0.025445</td>\n",
              "      <td>-0.351788</td>\n",
              "    </tr>\n",
              "  </tbody>\n",
              "</table>\n",
              "</div>\n",
              "      <button class=\"colab-df-convert\" onclick=\"convertToInteractive('df-f5605915-fbd3-406b-bb58-c66576ed50b5')\"\n",
              "              title=\"Convert this dataframe to an interactive table.\"\n",
              "              style=\"display:none;\">\n",
              "        \n",
              "  <svg xmlns=\"http://www.w3.org/2000/svg\" height=\"24px\"viewBox=\"0 0 24 24\"\n",
              "       width=\"24px\">\n",
              "    <path d=\"M0 0h24v24H0V0z\" fill=\"none\"/>\n",
              "    <path d=\"M18.56 5.44l.94 2.06.94-2.06 2.06-.94-2.06-.94-.94-2.06-.94 2.06-2.06.94zm-11 1L8.5 8.5l.94-2.06 2.06-.94-2.06-.94L8.5 2.5l-.94 2.06-2.06.94zm10 10l.94 2.06.94-2.06 2.06-.94-2.06-.94-.94-2.06-.94 2.06-2.06.94z\"/><path d=\"M17.41 7.96l-1.37-1.37c-.4-.4-.92-.59-1.43-.59-.52 0-1.04.2-1.43.59L10.3 9.45l-7.72 7.72c-.78.78-.78 2.05 0 2.83L4 21.41c.39.39.9.59 1.41.59.51 0 1.02-.2 1.41-.59l7.78-7.78 2.81-2.81c.8-.78.8-2.07 0-2.86zM5.41 20L4 18.59l7.72-7.72 1.47 1.35L5.41 20z\"/>\n",
              "  </svg>\n",
              "      </button>\n",
              "      \n",
              "  <style>\n",
              "    .colab-df-container {\n",
              "      display:flex;\n",
              "      flex-wrap:wrap;\n",
              "      gap: 12px;\n",
              "    }\n",
              "\n",
              "    .colab-df-convert {\n",
              "      background-color: #E8F0FE;\n",
              "      border: none;\n",
              "      border-radius: 50%;\n",
              "      cursor: pointer;\n",
              "      display: none;\n",
              "      fill: #1967D2;\n",
              "      height: 32px;\n",
              "      padding: 0 0 0 0;\n",
              "      width: 32px;\n",
              "    }\n",
              "\n",
              "    .colab-df-convert:hover {\n",
              "      background-color: #E2EBFA;\n",
              "      box-shadow: 0px 1px 2px rgba(60, 64, 67, 0.3), 0px 1px 3px 1px rgba(60, 64, 67, 0.15);\n",
              "      fill: #174EA6;\n",
              "    }\n",
              "\n",
              "    [theme=dark] .colab-df-convert {\n",
              "      background-color: #3B4455;\n",
              "      fill: #D2E3FC;\n",
              "    }\n",
              "\n",
              "    [theme=dark] .colab-df-convert:hover {\n",
              "      background-color: #434B5C;\n",
              "      box-shadow: 0px 1px 3px 1px rgba(0, 0, 0, 0.15);\n",
              "      filter: drop-shadow(0px 1px 2px rgba(0, 0, 0, 0.3));\n",
              "      fill: #FFFFFF;\n",
              "    }\n",
              "  </style>\n",
              "\n",
              "      <script>\n",
              "        const buttonEl =\n",
              "          document.querySelector('#df-f5605915-fbd3-406b-bb58-c66576ed50b5 button.colab-df-convert');\n",
              "        buttonEl.style.display =\n",
              "          google.colab.kernel.accessAllowed ? 'block' : 'none';\n",
              "\n",
              "        async function convertToInteractive(key) {\n",
              "          const element = document.querySelector('#df-f5605915-fbd3-406b-bb58-c66576ed50b5');\n",
              "          const dataTable =\n",
              "            await google.colab.kernel.invokeFunction('convertToInteractive',\n",
              "                                                     [key], {});\n",
              "          if (!dataTable) return;\n",
              "\n",
              "          const docLinkHtml = 'Like what you see? Visit the ' +\n",
              "            '<a target=\"_blank\" href=https://colab.research.google.com/notebooks/data_table.ipynb>data table notebook</a>'\n",
              "            + ' to learn more about interactive tables.';\n",
              "          element.innerHTML = '';\n",
              "          dataTable['output_type'] = 'display_data';\n",
              "          await google.colab.output.renderOutput(dataTable, element);\n",
              "          const docLink = document.createElement('div');\n",
              "          docLink.innerHTML = docLinkHtml;\n",
              "          element.appendChild(docLink);\n",
              "        }\n",
              "      </script>\n",
              "    </div>\n",
              "  </div>\n",
              "  "
            ]
          },
          "metadata": {},
          "execution_count": 91
        }
      ]
    },
    {
      "cell_type": "code",
      "source": [
        "dfs = pd.concat([dfs, df_health[\"stroke\"]], axis=1)\n",
        "#dfs.head()\n",
        "dfs.info()"
      ],
      "metadata": {
        "colab": {
          "base_uri": "https://localhost:8080/"
        },
        "id": "ZsjYghCY7aac",
        "outputId": "4dfb0e56-c966-449d-8c0f-43109af1eb18"
      },
      "execution_count": 92,
      "outputs": [
        {
          "output_type": "stream",
          "name": "stdout",
          "text": [
            "<class 'pandas.core.frame.DataFrame'>\n",
            "Int64Index: 5101 entries, 0 to 5109\n",
            "Data columns (total 12 columns):\n",
            " #   Column             Non-Null Count  Dtype  \n",
            "---  ------             --------------  -----  \n",
            " 0   id                 4909 non-null   float64\n",
            " 1   gender             4909 non-null   float64\n",
            " 2   age                4909 non-null   float64\n",
            " 3   hypertension       4909 non-null   float64\n",
            " 4   heart_disease      4909 non-null   float64\n",
            " 5   ever_married       4909 non-null   float64\n",
            " 6   work_type          4909 non-null   float64\n",
            " 7   Residence_type     4909 non-null   float64\n",
            " 8   avg_glucose_level  4909 non-null   float64\n",
            " 9   bmi                4909 non-null   float64\n",
            " 10  smoking_status     4909 non-null   float64\n",
            " 11  stroke             4909 non-null   float64\n",
            "dtypes: float64(12)\n",
            "memory usage: 518.1 KB\n"
          ]
        }
      ]
    },
    {
      "cell_type": "markdown",
      "source": [
        "Dado que solo hay un total de 384 NaN (el 7.5% de la muestra), decido eliminarlos para poder proesguir con el modelo y evitar futuros problemas."
      ],
      "metadata": {
        "id": "L-A2S7nEhxUa"
      }
    },
    {
      "cell_type": "code",
      "source": [
        "#Eliminamos los NaN de Bmi (201 valores eliminados de Nan)\n",
        "dfs.dropna(subset=[\"bmi\"] , inplace = True)\n",
        "\n",
        "#Eliminamos los NaN de stroke \n",
        "dfs.dropna(subset=[\"stroke\"] , inplace = True)\n",
        "\n",
        "dfs.info()\n",
        "\n"
      ],
      "metadata": {
        "colab": {
          "base_uri": "https://localhost:8080/"
        },
        "id": "qMepEGuB9ehy",
        "outputId": "c82f2983-b403-4116-c63d-24b04a24c35b"
      },
      "execution_count": 93,
      "outputs": [
        {
          "output_type": "stream",
          "name": "stdout",
          "text": [
            "<class 'pandas.core.frame.DataFrame'>\n",
            "Int64Index: 4717 entries, 0 to 4908\n",
            "Data columns (total 12 columns):\n",
            " #   Column             Non-Null Count  Dtype  \n",
            "---  ------             --------------  -----  \n",
            " 0   id                 4717 non-null   float64\n",
            " 1   gender             4717 non-null   float64\n",
            " 2   age                4717 non-null   float64\n",
            " 3   hypertension       4717 non-null   float64\n",
            " 4   heart_disease      4717 non-null   float64\n",
            " 5   ever_married       4717 non-null   float64\n",
            " 6   work_type          4717 non-null   float64\n",
            " 7   Residence_type     4717 non-null   float64\n",
            " 8   avg_glucose_level  4717 non-null   float64\n",
            " 9   bmi                4717 non-null   float64\n",
            " 10  smoking_status     4717 non-null   float64\n",
            " 11  stroke             4717 non-null   float64\n",
            "dtypes: float64(12)\n",
            "memory usage: 479.1 KB\n"
          ]
        }
      ]
    },
    {
      "cell_type": "markdown",
      "source": [
        "# 2.Generar un modelo con el algoritmo de KNN. \n",
        "---\n",
        "\n",
        "El algoritmo de KNN es uno de los más sencillos que hay en cuanto a su funcionamiento interno. Su objetivo es encontrar las muestras (filas de nuestro dataset) más cercanas por sus caracteríticas a la muestra objetivo."
      ],
      "metadata": {
        "id": "0CMOJ18k7R4y"
      }
    },
    {
      "cell_type": "code",
      "source": [
        "X = dfs.iloc[:,0:-1]\n",
        "Y = dfs.iloc[:,-1]"
      ],
      "metadata": {
        "id": "Xsy7CLLk7WEV"
      },
      "execution_count": 94,
      "outputs": []
    },
    {
      "cell_type": "markdown",
      "source": [
        "# Accuracy\n",
        "---"
      ],
      "metadata": {
        "id": "Vi2hgd6ImbeS"
      }
    },
    {
      "cell_type": "code",
      "source": [
        "#Vamos a calcular el valor de K que mejor \"accuracy\" tiene\n",
        "from sklearn.neighbors import KNeighborsClassifier\n",
        "from sklearn.model_selection import cross_val_predict, cross_val_score"
      ],
      "metadata": {
        "id": "zLwL-pgC8Fjh"
      },
      "execution_count": 95,
      "outputs": []
    },
    {
      "cell_type": "code",
      "source": [
        "preds_list = []\n",
        "score_list = []\n",
        "k_list = []\n",
        "\n",
        "for k in list(range(1, 12, 2)):\n",
        "  knn_model = KNeighborsClassifier(n_neighbors=k, weights=\"uniform\", metric=\"minkowski\")\n",
        "  preds = cross_val_predict(knn_model, X, Y, cv=3, method=\"predict\", n_jobs=3)\n",
        "  score = cross_val_score(knn_model, X, Y, cv=3, scoring=\"accuracy\")\n",
        "  k_list.append(k)\n",
        "  preds_list.append(preds)\n",
        "  score_list.append(score.mean())"
      ],
      "metadata": {
        "id": "bW-tXO1D8L9T"
      },
      "execution_count": 96,
      "outputs": []
    },
    {
      "cell_type": "code",
      "source": [
        "df_scores = pd.DataFrame({\"K\":k_list, \n",
        "                   \"score\":score_list\n",
        "                   })"
      ],
      "metadata": {
        "id": "yE3UlIk6Bnfy"
      },
      "execution_count": 97,
      "outputs": []
    },
    {
      "cell_type": "code",
      "source": [
        "df_scores.set_index(\"K\")[\"score\"].plot(label=\"KNN Score\")\n",
        "plt.legend()\n",
        "plt.show();"
      ],
      "metadata": {
        "colab": {
          "base_uri": "https://localhost:8080/",
          "height": 279
        },
        "id": "7sIcujCyEGjp",
        "outputId": "b7e6c98d-b439-4c74-f977-2088963d7bab"
      },
      "execution_count": 98,
      "outputs": [
        {
          "output_type": "display_data",
          "data": {
            "text/plain": [
              "<Figure size 432x288 with 1 Axes>"
            ],
            "image/png": "[encoded data removed]"
          },
          "metadata": {
            "needs_background": "light"
          }
        }
      ]
    },
    {
      "cell_type": "markdown",
      "source": [
        "Conclusiones gráfico\n",
        "---\n",
        "Si observamos los valores de K, al principio tenemos un valor de accuracy más o menos bajo. La zona de mayor accuracy esta en el valor de K 10."
      ],
      "metadata": {
        "id": "nfkPDErWtiRr"
      }
    },
    {
      "cell_type": "markdown",
      "source": [
        "# 3. Entrenamiento y Evaluación del modelo\n",
        "---\n",
        "\n",
        "cross_val_predict: nos va a dar la predicción \n",
        "\n",
        "cross_val_score: introducimos los valores de accuracy\n",
        "\n",
        "Para cada uno de ellos nos da un accuracy de 0.95, 0.95 y 0.96"
      ],
      "metadata": {
        "id": "ir6-HkT2EQSc"
      }
    },
    {
      "cell_type": "code",
      "source": [
        "knn_model = KNeighborsClassifier(n_neighbors=7, weights=\"uniform\", metric=\"minkowski\")\n",
        "preds = cross_val_predict(knn_model, X, Y, cv=3, method=\"predict\", n_jobs=3)\n",
        "score = cross_val_score(knn_model, X, Y, cv=3, scoring=\"accuracy\", n_jobs=3)\n",
        "score"
      ],
      "metadata": {
        "colab": {
          "base_uri": "https://localhost:8080/"
        },
        "id": "9XIYcvZYEN2j",
        "outputId": "a48af287-8bee-4d4c-cc98-67dc5dfcb7cc"
      },
      "execution_count": 99,
      "outputs": [
        {
          "output_type": "execute_result",
          "data": {
            "text/plain": [
              "array([0.95422759, 0.95483461, 0.95547074])"
            ]
          },
          "metadata": {},
          "execution_count": 99
        }
      ]
    },
    {
      "cell_type": "code",
      "source": [
        "#Lanzamos la matriz de confusión\n",
        "from sklearn.metrics import confusion_matrix\n",
        "confusion_matrix(Y, preds)\n",
        "\n",
        "##          predicciones\n",
        "##            0      1\n",
        "##       0   TN     FP\n",
        "## real\n",
        "##       1   FN     TP"
      ],
      "metadata": {
        "colab": {
          "base_uri": "https://localhost:8080/"
        },
        "id": "BLw2jCz4EVgP",
        "outputId": "dd59d7a4-7517-4c0c-c23d-f49100c251d7"
      },
      "execution_count": 101,
      "outputs": [
        {
          "output_type": "execute_result",
          "data": {
            "text/plain": [
              "array([[4504,    4],\n",
              "       [ 209,    0]])"
            ]
          },
          "metadata": {},
          "execution_count": 101
        }
      ]
    },
    {
      "cell_type": "markdown",
      "source": [
        "Conclusiones matriz de confusión\n",
        "---\n",
        "Las personas que han tenido stroke reales se corresponden con los valores de la fila de a bajo (209 , 0). Hay 209 que nosotros hemos estimado que no son stroke. Es relevante destacar que nos estamos dejando personas que tendran stroke y que nosotros no los vamos a detectar. Por otro lado, el valor 0 corresponde a los que nosotros predecimos/estimamos que si que tienen stroke, hay 4 que no han tenido stroke.\n",
        "El accuracy obtenido es bastante alto pero es importante tener en cuenta esta problemática."
      ],
      "metadata": {
        "id": "H7mDiEFGvt2z"
      }
    },
    {
      "cell_type": "markdown",
      "source": [
        "# Recall, Precision y F1-Score\n",
        "---\n",
        "\n",
        "Analizamos las metricas de Recall & Precision.\n",
        "Cuando miramos la matriz de confusión de los 209 positivos de stroke (la suma de 209 + 0) no acierta ningun caso, valor 0. Este 0% es el Recall.\n",
        "Y en cuento a la métrica de Precision, de todos los casos donde hay stroke esta acertando 0 de 4 casos totales, con lo cual la precisión es nula."
      ],
      "metadata": {
        "id": "leecFEBiEcwc"
      }
    },
    {
      "cell_type": "code",
      "source": [
        "#Hay que calcular las Matriz de Confusión siempre, y con más razón cuando el dataset esté desbalanceado\n",
        "from sklearn.metrics import classification_report\n",
        "print(f\"Informe de Clasificación:\\n\"\n",
        "      f\"{classification_report(Y, preds)}\")"
      ],
      "metadata": {
        "colab": {
          "base_uri": "https://localhost:8080/"
        },
        "id": "tqqBpwhsEpcO",
        "outputId": "220881b8-6ffe-4132-d2dc-1a2d98189af1"
      },
      "execution_count": 103,
      "outputs": [
        {
          "output_type": "stream",
          "name": "stdout",
          "text": [
            "Informe de Clasificación:\n",
            "              precision    recall  f1-score   support\n",
            "\n",
            "         0.0       0.96      1.00      0.98      4508\n",
            "         1.0       0.00      0.00      0.00       209\n",
            "\n",
            "    accuracy                           0.95      4717\n",
            "   macro avg       0.48      0.50      0.49      4717\n",
            "weighted avg       0.91      0.95      0.93      4717\n",
            "\n"
          ]
        }
      ]
    },
    {
      "cell_type": "markdown",
      "source": [
        "Hay otra forma de calcular todo esto que es con el classification_report. Nosotros nos fijamos en los valores de precision y recall (0.00 , 0.00) de la segunda fila (1.0). La metrica que une estos dos valores es el f1 score."
      ],
      "metadata": {
        "id": "pML86HbC2oUU"
      }
    },
    {
      "cell_type": "code",
      "source": [
        "#Calculamos tanto probabilidades como predicts\n",
        "knn_model = KNeighborsClassifier(n_neighbors=12, weights=\"uniform\", metric=\"minkowski\")\n",
        "probs = cross_val_predict(knn_model, X, Y, cv=3, method=\"predict_proba\", n_jobs=3)\n",
        "preds = cross_val_predict(knn_model, X, Y, cv=3, method=\"predict\", n_jobs=3)"
      ],
      "metadata": {
        "id": "30ojZ4-MExiy"
      },
      "execution_count": 105,
      "outputs": []
    },
    {
      "cell_type": "code",
      "source": [
        "probs  "
      ],
      "metadata": {
        "colab": {
          "base_uri": "https://localhost:8080/"
        },
        "id": "0iQiyyhyE_Qo",
        "outputId": "2f6fa6a5-cc04-4849-e080-cbd9f1234d26"
      },
      "execution_count": 107,
      "outputs": [
        {
          "output_type": "execute_result",
          "data": {
            "text/plain": [
              "array([[0.91666667, 0.08333333],\n",
              "       [0.91666667, 0.08333333],\n",
              "       [0.83333333, 0.16666667],\n",
              "       ...,\n",
              "       [1.        , 0.        ],\n",
              "       [0.91666667, 0.08333333],\n",
              "       [0.91666667, 0.08333333]])"
            ]
          },
          "metadata": {},
          "execution_count": 107
        }
      ]
    },
    {
      "cell_type": "code",
      "source": [
        "probs[:,1]"
      ],
      "metadata": {
        "colab": {
          "base_uri": "https://localhost:8080/"
        },
        "id": "0Tfcj4-sFCGZ",
        "outputId": "69dd871a-0b6b-42f4-d00c-e6f7053713bb"
      },
      "execution_count": 108,
      "outputs": [
        {
          "output_type": "execute_result",
          "data": {
            "text/plain": [
              "array([0.08333333, 0.08333333, 0.16666667, ..., 0.        , 0.08333333,\n",
              "       0.08333333])"
            ]
          },
          "metadata": {},
          "execution_count": 108
        }
      ]
    },
    {
      "cell_type": "code",
      "source": [
        "df_dict = {\"prob_class0\": probs[:,0],\n",
        "           \"prob_class1\": probs[:,1],\n",
        "           \"preds\":preds}"
      ],
      "metadata": {
        "id": "eBQoMADIFEZ4"
      },
      "execution_count": 109,
      "outputs": []
    },
    {
      "cell_type": "code",
      "source": [
        "df_probs = pd.DataFrame(df_dict)\n",
        "df_probs.head()"
      ],
      "metadata": {
        "colab": {
          "base_uri": "https://localhost:8080/",
          "height": 206
        },
        "id": "-1qzt3zdFGYS",
        "outputId": "3278f6c2-4b8f-4e81-cca7-2b6578437061"
      },
      "execution_count": 110,
      "outputs": [
        {
          "output_type": "execute_result",
          "data": {
            "text/plain": [
              "   prob_class0  prob_class1  preds\n",
              "0     0.916667     0.083333    0.0\n",
              "1     0.916667     0.083333    0.0\n",
              "2     0.833333     0.166667    0.0\n",
              "3     0.833333     0.166667    0.0\n",
              "4     1.000000     0.000000    0.0"
            ],
            "text/html": [
              "\n",
              "  <div id=\"df-b7a95d3e-e092-433d-a36a-2988166d03d8\">\n",
              "    <div class=\"colab-df-container\">\n",
              "      <div>\n",
              "<style scoped>\n",
              "    .dataframe tbody tr th:only-of-type {\n",
              "        vertical-align: middle;\n",
              "    }\n",
              "\n",
              "    .dataframe tbody tr th {\n",
              "        vertical-align: top;\n",
              "    }\n",
              "\n",
              "    .dataframe thead th {\n",
              "        text-align: right;\n",
              "    }\n",
              "</style>\n",
              "<table border=\"1\" class=\"dataframe\">\n",
              "  <thead>\n",
              "    <tr style=\"text-align: right;\">\n",
              "      <th></th>\n",
              "      <th>prob_class0</th>\n",
              "      <th>prob_class1</th>\n",
              "      <th>preds</th>\n",
              "    </tr>\n",
              "  </thead>\n",
              "  <tbody>\n",
              "    <tr>\n",
              "      <th>0</th>\n",
              "      <td>0.916667</td>\n",
              "      <td>0.083333</td>\n",
              "      <td>0.0</td>\n",
              "    </tr>\n",
              "    <tr>\n",
              "      <th>1</th>\n",
              "      <td>0.916667</td>\n",
              "      <td>0.083333</td>\n",
              "      <td>0.0</td>\n",
              "    </tr>\n",
              "    <tr>\n",
              "      <th>2</th>\n",
              "      <td>0.833333</td>\n",
              "      <td>0.166667</td>\n",
              "      <td>0.0</td>\n",
              "    </tr>\n",
              "    <tr>\n",
              "      <th>3</th>\n",
              "      <td>0.833333</td>\n",
              "      <td>0.166667</td>\n",
              "      <td>0.0</td>\n",
              "    </tr>\n",
              "    <tr>\n",
              "      <th>4</th>\n",
              "      <td>1.000000</td>\n",
              "      <td>0.000000</td>\n",
              "      <td>0.0</td>\n",
              "    </tr>\n",
              "  </tbody>\n",
              "</table>\n",
              "</div>\n",
              "      <button class=\"colab-df-convert\" onclick=\"convertToInteractive('df-b7a95d3e-e092-433d-a36a-2988166d03d8')\"\n",
              "              title=\"Convert this dataframe to an interactive table.\"\n",
              "              style=\"display:none;\">\n",
              "        \n",
              "  <svg xmlns=\"http://www.w3.org/2000/svg\" height=\"24px\"viewBox=\"0 0 24 24\"\n",
              "       width=\"24px\">\n",
              "    <path d=\"M0 0h24v24H0V0z\" fill=\"none\"/>\n",
              "    <path d=\"M18.56 5.44l.94 2.06.94-2.06 2.06-.94-2.06-.94-.94-2.06-.94 2.06-2.06.94zm-11 1L8.5 8.5l.94-2.06 2.06-.94-2.06-.94L8.5 2.5l-.94 2.06-2.06.94zm10 10l.94 2.06.94-2.06 2.06-.94-2.06-.94-.94-2.06-.94 2.06-2.06.94z\"/><path d=\"M17.41 7.96l-1.37-1.37c-.4-.4-.92-.59-1.43-.59-.52 0-1.04.2-1.43.59L10.3 9.45l-7.72 7.72c-.78.78-.78 2.05 0 2.83L4 21.41c.39.39.9.59 1.41.59.51 0 1.02-.2 1.41-.59l7.78-7.78 2.81-2.81c.8-.78.8-2.07 0-2.86zM5.41 20L4 18.59l7.72-7.72 1.47 1.35L5.41 20z\"/>\n",
              "  </svg>\n",
              "      </button>\n",
              "      \n",
              "  <style>\n",
              "    .colab-df-container {\n",
              "      display:flex;\n",
              "      flex-wrap:wrap;\n",
              "      gap: 12px;\n",
              "    }\n",
              "\n",
              "    .colab-df-convert {\n",
              "      background-color: #E8F0FE;\n",
              "      border: none;\n",
              "      border-radius: 50%;\n",
              "      cursor: pointer;\n",
              "      display: none;\n",
              "      fill: #1967D2;\n",
              "      height: 32px;\n",
              "      padding: 0 0 0 0;\n",
              "      width: 32px;\n",
              "    }\n",
              "\n",
              "    .colab-df-convert:hover {\n",
              "      background-color: #E2EBFA;\n",
              "      box-shadow: 0px 1px 2px rgba(60, 64, 67, 0.3), 0px 1px 3px 1px rgba(60, 64, 67, 0.15);\n",
              "      fill: #174EA6;\n",
              "    }\n",
              "\n",
              "    [theme=dark] .colab-df-convert {\n",
              "      background-color: #3B4455;\n",
              "      fill: #D2E3FC;\n",
              "    }\n",
              "\n",
              "    [theme=dark] .colab-df-convert:hover {\n",
              "      background-color: #434B5C;\n",
              "      box-shadow: 0px 1px 3px 1px rgba(0, 0, 0, 0.15);\n",
              "      filter: drop-shadow(0px 1px 2px rgba(0, 0, 0, 0.3));\n",
              "      fill: #FFFFFF;\n",
              "    }\n",
              "  </style>\n",
              "\n",
              "      <script>\n",
              "        const buttonEl =\n",
              "          document.querySelector('#df-b7a95d3e-e092-433d-a36a-2988166d03d8 button.colab-df-convert');\n",
              "        buttonEl.style.display =\n",
              "          google.colab.kernel.accessAllowed ? 'block' : 'none';\n",
              "\n",
              "        async function convertToInteractive(key) {\n",
              "          const element = document.querySelector('#df-b7a95d3e-e092-433d-a36a-2988166d03d8');\n",
              "          const dataTable =\n",
              "            await google.colab.kernel.invokeFunction('convertToInteractive',\n",
              "                                                     [key], {});\n",
              "          if (!dataTable) return;\n",
              "\n",
              "          const docLinkHtml = 'Like what you see? Visit the ' +\n",
              "            '<a target=\"_blank\" href=https://colab.research.google.com/notebooks/data_table.ipynb>data table notebook</a>'\n",
              "            + ' to learn more about interactive tables.';\n",
              "          element.innerHTML = '';\n",
              "          dataTable['output_type'] = 'display_data';\n",
              "          await google.colab.output.renderOutput(dataTable, element);\n",
              "          const docLink = document.createElement('div');\n",
              "          docLink.innerHTML = docLinkHtml;\n",
              "          element.appendChild(docLink);\n",
              "        }\n",
              "      </script>\n",
              "    </div>\n",
              "  </div>\n",
              "  "
            ]
          },
          "metadata": {},
          "execution_count": 110
        }
      ]
    },
    {
      "cell_type": "code",
      "source": [
        "df_probs[df_probs[\"preds\"]==1][\"prob_class0\"].max()"
      ],
      "metadata": {
        "colab": {
          "base_uri": "https://localhost:8080/"
        },
        "id": "mXFWRLgVFJXL",
        "outputId": "fe134d91-a2e5-4262-bbe9-eabae07d707b"
      },
      "execution_count": 111,
      "outputs": [
        {
          "output_type": "execute_result",
          "data": {
            "text/plain": [
              "nan"
            ]
          },
          "metadata": {},
          "execution_count": 111
        }
      ]
    },
    {
      "cell_type": "code",
      "source": [
        "from sklearn.metrics import precision_recall_curve\n",
        "precision, recall, limite = precision_recall_curve(Y,probs[:,1])"
      ],
      "metadata": {
        "id": "pkgbTD5VFLav"
      },
      "execution_count": 67,
      "outputs": []
    },
    {
      "cell_type": "code",
      "source": [
        "precision"
      ],
      "metadata": {
        "colab": {
          "base_uri": "https://localhost:8080/"
        },
        "id": "a01i6I-oFPZc",
        "outputId": "b4d382a1-2d73-4aa0-a252-cec77ac761d6"
      },
      "execution_count": 112,
      "outputs": [
        {
          "output_type": "execute_result",
          "data": {
            "text/plain": [
              "array([0.04430782, 0.0730198 , 0.09807692, 0.11515152, 0.12765957,\n",
              "       0.09090909, 0.        , 1.        ])"
            ]
          },
          "metadata": {},
          "execution_count": 112
        }
      ]
    },
    {
      "cell_type": "code",
      "source": [
        "recall"
      ],
      "metadata": {
        "colab": {
          "base_uri": "https://localhost:8080/"
        },
        "id": "ksMiT7F2FRHV",
        "outputId": "f6a4ae95-96af-4823-a705-15b231e65324"
      },
      "execution_count": 113,
      "outputs": [
        {
          "output_type": "execute_result",
          "data": {
            "text/plain": [
              "array([1.        , 0.5645933 , 0.24401914, 0.09090909, 0.02870813,\n",
              "       0.00478469, 0.        , 0.        ])"
            ]
          },
          "metadata": {},
          "execution_count": 113
        }
      ]
    },
    {
      "cell_type": "code",
      "source": [
        "limite"
      ],
      "metadata": {
        "colab": {
          "base_uri": "https://localhost:8080/"
        },
        "id": "GskjDFb1FS2R",
        "outputId": "74a9ca6c-9b9b-41a1-cf94-3ef1e72096c9"
      },
      "execution_count": 114,
      "outputs": [
        {
          "output_type": "execute_result",
          "data": {
            "text/plain": [
              "array([0.        , 0.08333333, 0.16666667, 0.25      , 0.33333333,\n",
              "       0.41666667, 0.5       ])"
            ]
          },
          "metadata": {},
          "execution_count": 114
        }
      ]
    },
    {
      "cell_type": "markdown",
      "source": [
        "# Curva Precision vs Recall\n",
        "\n",
        "---\n",
        "\n",
        "Con la curva Precision vs Recall vamos a decidir a partir de que probabilidad vamos a querer que sea 0 o que sea 1."
      ],
      "metadata": {
        "id": "LZP61mx9FW2c"
      }
    },
    {
      "cell_type": "code",
      "source": [
        "plt.plot(limite, precision[:-1], c=\"green\", label=\"Precision\")\n",
        "plt.plot(limite, recall[:-1], c=\"red\", label=\"Recall\")\n",
        "plt.axvline(0.5, alpha=0.5, c=\"gray\")\n",
        "plt.suptitle(\"Precision-Recall Curve\")\n",
        "plt.legend()\n",
        "plt.show()"
      ],
      "metadata": {
        "colab": {
          "base_uri": "https://localhost:8080/",
          "height": 294
        },
        "id": "XdSeg3UVFVIP",
        "outputId": "40b06263-f8ce-4b3f-a561-1ff19e6ce893"
      },
      "execution_count": 71,
      "outputs": [
        {
          "output_type": "display_data",
          "data": {
            "text/plain": [
              "<Figure size 432x288 with 1 Axes>"
            ],
            "image/png": "[encoded data removed]"
          },
          "metadata": {
            "needs_background": "light"
          }
        }
      ]
    },
    {
      "cell_type": "markdown",
      "source": [
        "Conclusiones \n",
        "---\n",
        "Observo que el Recall y Precision van una en contra de la otra. Si el límite esta en 0.5 (por defecto en KNN) nos encontramos con un Recall de 0 y un Precision de 0, valores que coinciden con los valores obtenidos anteriormente."
      ],
      "metadata": {
        "id": "M6g7kkqY5tiH"
      }
    },
    {
      "cell_type": "code",
      "source": [
        "df_probs[\"preds_10\"] = 0\n",
        "df_probs[\"preds_20\"] = 0\n",
        "df_probs[\"preds_30\"] = 0\n",
        "\n",
        "df_probs.loc[df_probs[\"prob_class1\"]>0.1, \"preds_10\"] = 1\n",
        "df_probs.loc[df_probs[\"prob_class1\"]>0.2, \"preds_20\"] = 1\n",
        "df_probs.loc[df_probs[\"prob_class1\"]>0.3, \"preds_30\"] = 1"
      ],
      "metadata": {
        "id": "snH3Ak__Fenh"
      },
      "execution_count": 72,
      "outputs": []
    },
    {
      "cell_type": "code",
      "source": [
        "df_probs"
      ],
      "metadata": {
        "id": "0Pa1KgppFfqU"
      },
      "execution_count": null,
      "outputs": []
    },
    {
      "cell_type": "code",
      "source": [
        "confusion_matrix(Y, df_probs[\"preds_10\"].values)\n",
        "\n",
        "##          predicciones\n",
        "##            0      1\n",
        "##       0   TN     FP\n",
        "## real\n",
        "##       1   FN     TP"
      ],
      "metadata": {
        "colab": {
          "base_uri": "https://localhost:8080/"
        },
        "id": "b8kSl1bmFlUK",
        "outputId": "6f669df0-b473-4db5-f031-a4e3f237d985"
      },
      "execution_count": 74,
      "outputs": [
        {
          "output_type": "execute_result",
          "data": {
            "text/plain": [
              "array([[4039,  469],\n",
              "       [ 158,   51]])"
            ]
          },
          "metadata": {},
          "execution_count": 74
        }
      ]
    },
    {
      "cell_type": "code",
      "source": [
        "confusion_matrix(Y, df_probs[\"preds_20\"].values)"
      ],
      "metadata": {
        "colab": {
          "base_uri": "https://localhost:8080/"
        },
        "id": "AXLL_sDRFmGw",
        "outputId": "45c421c1-8b8c-4f62-bf74-58b612bb628e"
      },
      "execution_count": 75,
      "outputs": [
        {
          "output_type": "execute_result",
          "data": {
            "text/plain": [
              "array([[4362,  146],\n",
              "       [ 190,   19]])"
            ]
          },
          "metadata": {},
          "execution_count": 75
        }
      ]
    },
    {
      "cell_type": "code",
      "source": [
        "confusion_matrix(Y, df_probs[\"preds_30\"].values)"
      ],
      "metadata": {
        "colab": {
          "base_uri": "https://localhost:8080/"
        },
        "id": "cSb-34CAFoAl",
        "outputId": "af9bbef9-ba13-4be8-9746-c0d728158c95"
      },
      "execution_count": 76,
      "outputs": [
        {
          "output_type": "execute_result",
          "data": {
            "text/plain": [
              "array([[4467,   41],\n",
              "       [ 203,    6]])"
            ]
          },
          "metadata": {},
          "execution_count": 76
        }
      ]
    },
    {
      "cell_type": "markdown",
      "source": [
        "# ROC-Curve (AUC)"
      ],
      "metadata": {
        "id": "DJwEf_aIGCDg"
      }
    },
    {
      "cell_type": "code",
      "source": [
        "from sklearn.datasets import make_moons\n",
        "X, y = make_moons(n_samples=800, noise=0.3, random_state=42)\n",
        "plt.scatter(x=X[:,0], y=X[:,1], c=y)\n",
        "plt.show()"
      ],
      "metadata": {
        "colab": {
          "base_uri": "https://localhost:8080/",
          "height": 265
        },
        "id": "YQB-ggOLGD3l",
        "outputId": "eeb34322-513b-49d3-9c4d-66433452df99"
      },
      "execution_count": 115,
      "outputs": [
        {
          "output_type": "display_data",
          "data": {
            "text/plain": [
              "<Figure size 432x288 with 1 Axes>"
            ],
            "image/png": "[encoded data removed]"
          },
          "metadata": {
            "needs_background": "light"
          }
        }
      ]
    },
    {
      "cell_type": "code",
      "source": [
        "from sklearn.model_selection import train_test_split\n",
        "X_train, X_test, y_train, y_test = train_test_split(X, y, stratify=y, random_state=42, test_size=0.2)\n",
        "print (X_train.shape, y_train.shape)\n",
        "print (X_test.shape, y_test.shape)\n",
        "\n",
        "plt.scatter(x=X_train[:,0], y=X_train[:,1], c=\"brown\")\n",
        "plt.scatter(x=X_test[:,0], y=X_test[:,1], c=\"blue\", alpha=0.5)\n",
        "plt.show()"
      ],
      "metadata": {
        "colab": {
          "base_uri": "https://localhost:8080/",
          "height": 300
        },
        "id": "4f2s_fQdGib7",
        "outputId": "d5fa908d-42ea-422c-a754-a9780638ae1d"
      },
      "execution_count": 116,
      "outputs": [
        {
          "output_type": "stream",
          "name": "stdout",
          "text": [
            "(640, 2) (640,)\n",
            "(160, 2) (160,)\n"
          ]
        },
        {
          "output_type": "display_data",
          "data": {
            "text/plain": [
              "<Figure size 432x288 with 1 Axes>"
            ],
            "image/png": "[encoded data removed]"
          },
          "metadata": {
            "needs_background": "light"
          }
        }
      ]
    },
    {
      "cell_type": "code",
      "source": [
        "from sklearn.metrics import plot_roc_curve\n",
        "knn_model = KNeighborsClassifier(n_neighbors=19, weights=\"uniform\", metric=\"minkowski\")\n",
        "knn_model.fit(X_train, y_train)\n",
        "plot_roc_curve(knn_model, X_test, y_test)\n",
        "plt.suptitle(\"ROC-AUC-CURVE\")\n",
        "plt.show()"
      ],
      "metadata": {
        "colab": {
          "base_uri": "https://localhost:8080/",
          "height": 363
        },
        "id": "eodbI0QxGlP9",
        "outputId": "f844361c-5f52-410a-ef90-f93546971873"
      },
      "execution_count": 117,
      "outputs": [
        {
          "output_type": "stream",
          "name": "stderr",
          "text": [
            "/usr/local/lib/python3.7/dist-packages/sklearn/utils/deprecation.py:87: FutureWarning: Function plot_roc_curve is deprecated; Function :func:`plot_roc_curve` is deprecated in 1.0 and will be removed in 1.2. Use one of the class methods: :meth:`sklearn.metric.RocCurveDisplay.from_predictions` or :meth:`sklearn.metric.RocCurveDisplay.from_estimator`.\n",
            "  warnings.warn(msg, category=FutureWarning)\n"
          ]
        },
        {
          "output_type": "display_data",
          "data": {
            "text/plain": [
              "<Figure size 432x288 with 1 Axes>"
            ],
            "image/png": "[encoded data removed]"
          },
          "metadata": {
            "needs_background": "light"
          }
        }
      ]
    },
    {
      "cell_type": "code",
      "source": [
        "#valores de predict_proba\n",
        "knn_model.predict_proba(X_test)[0:10]"
      ],
      "metadata": {
        "colab": {
          "base_uri": "https://localhost:8080/"
        },
        "id": "KpsW5r4mHVh3",
        "outputId": "54e70b75-50cc-444b-97c1-543da65a63e8"
      },
      "execution_count": 118,
      "outputs": [
        {
          "output_type": "execute_result",
          "data": {
            "text/plain": [
              "array([[0.05263158, 0.94736842],\n",
              "       [1.        , 0.        ],\n",
              "       [1.        , 0.        ],\n",
              "       [0.05263158, 0.94736842],\n",
              "       [0.47368421, 0.52631579],\n",
              "       [0.94736842, 0.05263158],\n",
              "       [0.        , 1.        ],\n",
              "       [0.68421053, 0.31578947],\n",
              "       [0.73684211, 0.26315789],\n",
              "       [0.05263158, 0.94736842]])"
            ]
          },
          "metadata": {},
          "execution_count": 118
        }
      ]
    },
    {
      "cell_type": "code",
      "source": [
        "#Calculo del ROC (AUC) con predict_proba\n",
        "from sklearn.metrics import roc_auc_score\n",
        "print (roc_auc_score(y_test, knn_model.predict_proba(X_test)[:,0]))\n",
        "print (roc_auc_score(y_test, knn_model.predict_proba(X_test)[:,1]))"
      ],
      "metadata": {
        "colab": {
          "base_uri": "https://localhost:8080/"
        },
        "id": "Y1TVVOnsHYGY",
        "outputId": "c982d20a-b5b4-4587-e280-c72c2268c46b"
      },
      "execution_count": 119,
      "outputs": [
        {
          "output_type": "stream",
          "name": "stdout",
          "text": [
            "0.026406249999999975\n",
            "0.97359375\n"
          ]
        }
      ]
    },
    {
      "cell_type": "markdown",
      "source": [
        "Conclusiones ROC-Curve (AUC)\n",
        "---\n",
        "El área bajo la curva nos da 0.97, esto nos indica que el modelo tiene una buena capacidad predictiva. Valores contradictorios con el precision y recall obtenidos anteriormente.\n",
        "\n",
        "Lo que nos mide la curva ROC es que dados todos los cortes desde el 0 hasta el 1, en cada uno de los intervalos vamos a medir la especificidad y la sensibilidad. Esto nos va a dar un área que es el área bajo la curva ROC (AUC). Lo cual quiere decir que cuanto\n",
        "mayor sea nuestra área, mayor será la capacidad predictiva del modelo.\n",
        "\n"
      ],
      "metadata": {
        "id": "85jHSh6Z7Y23"
      }
    },
    {
      "cell_type": "markdown",
      "source": [
        "# **Confusion Matrix**\n",
        "---\n"
      ],
      "metadata": {
        "id": "6vNNhV0Hldb8"
      }
    },
    {
      "cell_type": "code",
      "source": [
        "from sklearn.neighbors import KNeighborsClassifier\n",
        "knn_model = KNeighborsClassifier(n_neighbors=21, weights=\"uniform\", metric=\"minkowski\")\n",
        "knn_model.fit(X_train, y_train)\n",
        "pred_train = knn_model.predict(X_train)\n",
        "pred_test = knn_model.predict(X_test)\n",
        "print(\"Precisión sobre los datos de entrenamiento: {:.2f}\".format(100.0*knn_model.score(X_train, y_train)))\n",
        "print(\"Precisión sobre los datos de test: {:.2f}\".format(100.0*knn_model.score(X_test, y_test)))"
      ],
      "metadata": {
        "colab": {
          "base_uri": "https://localhost:8080/"
        },
        "id": "mI3pAYxclz7W",
        "outputId": "316b00e0-02f8-49d4-df8f-76c3b354645b"
      },
      "execution_count": 82,
      "outputs": [
        {
          "output_type": "stream",
          "name": "stdout",
          "text": [
            "Precisión sobre los datos de entrenamiento: 92.03\n",
            "Precisión sobre los datos de test: 93.75\n"
          ]
        }
      ]
    },
    {
      "cell_type": "code",
      "source": [
        "from sklearn.metrics import confusion_matrix, plot_confusion_matrix\n",
        "confusion_matrix(y_test, pred_test)"
      ],
      "metadata": {
        "colab": {
          "base_uri": "https://localhost:8080/"
        },
        "id": "rRmhNZBSlghF",
        "outputId": "97b22859-9fbb-4155-bc9b-a3922faed477"
      },
      "execution_count": 83,
      "outputs": [
        {
          "output_type": "execute_result",
          "data": {
            "text/plain": [
              "array([[75,  5],\n",
              "       [ 5, 75]])"
            ]
          },
          "metadata": {},
          "execution_count": 83
        }
      ]
    },
    {
      "cell_type": "code",
      "source": [
        "print(f\"Confusion matrix:\\n\")\n",
        "disp = plot_confusion_matrix(knn_model, X_test, y_test, cmap=plt.cm.viridis,)\n",
        "plt.show()"
      ],
      "metadata": {
        "colab": {
          "base_uri": "https://localhost:8080/",
          "height": 368
        },
        "id": "1sGCXTasl5_d",
        "outputId": "7a0e9bfc-bdff-4586-c42c-60a140ab157c"
      },
      "execution_count": 84,
      "outputs": [
        {
          "output_type": "stream",
          "name": "stdout",
          "text": [
            "Confusion matrix:\n",
            "\n"
          ]
        },
        {
          "output_type": "stream",
          "name": "stderr",
          "text": [
            "/usr/local/lib/python3.7/dist-packages/sklearn/utils/deprecation.py:87: FutureWarning: Function plot_confusion_matrix is deprecated; Function `plot_confusion_matrix` is deprecated in 1.0 and will be removed in 1.2. Use one of the class methods: ConfusionMatrixDisplay.from_predictions or ConfusionMatrixDisplay.from_estimator.\n",
            "  warnings.warn(msg, category=FutureWarning)\n"
          ]
        },
        {
          "output_type": "display_data",
          "data": {
            "text/plain": [
              "<Figure size 432x288 with 2 Axes>"
            ],
            "image/png": "[encoded data removed]"
          },
          "metadata": {
            "needs_background": "light"
          }
        }
      ]
    }
  ]
}